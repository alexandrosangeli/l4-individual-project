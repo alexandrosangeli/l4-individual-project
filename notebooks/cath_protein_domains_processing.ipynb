{
 "cells": [
  {
   "cell_type": "code",
   "execution_count": 55,
   "id": "5ced6c1b",
   "metadata": {},
   "outputs": [],
   "source": [
    "from pprint import pprint"
   ]
  },
  {
   "cell_type": "code",
   "execution_count": 56,
   "id": "997a4998",
   "metadata": {},
   "outputs": [
    {
     "data": {
      "text/plain": [
       "'1-107'"
      ]
     },
     "execution_count": 56,
     "metadata": {},
     "output_type": "execute_result"
    }
   ],
   "source": [
    "example_dict = {\n",
    "                '12e8' : {\n",
    "                            'P' : {\n",
    "                                '0' : '1-107',\n",
    "                                '1' : '108-200'\n",
    "                            },\n",
    "                            'M' : {\n",
    "                                '0' : '1-93'\n",
    "                            }\n",
    "                }\n",
    "}\n",
    "\n",
    "example_dict['12e8']['P']['0']"
   ]
  },
  {
   "cell_type": "code",
   "execution_count": 57,
   "id": "b511ea86",
   "metadata": {},
   "outputs": [],
   "source": [
    "def update_dict(data, code, chain, domain, boundaries):\n",
    "    data[code] = data.get(code, {})\n",
    "    if chain not in data[code].keys():\n",
    "        data[code][chain] = {}\n",
    "    data[code][chain][domain] = boundaries\n",
    "\n",
    "    return data"
   ]
  },
  {
   "cell_type": "code",
   "execution_count": 58,
   "id": "866e4a1a",
   "metadata": {},
   "outputs": [
    {
     "name": "stdout",
     "output_type": "stream",
     "text": [
      "{'101m': {'A': {'00': '1-154'}},\n",
      " '102l': {'A': {'00': '1-163'}},\n",
      " '102m': {'A': {'00': '1-154'}},\n",
      " '103l': {'A': {'00': '1-165'}},\n",
      " '103m': {'A': {'00': '1-154'}},\n",
      " '104l': {'A': {'00': '1-164'}, 'B': {'00': '1-164'}},\n",
      " '104m': {'A': {'00': '1-153'}},\n",
      " '105m': {'A': {'00': '1-153'}},\n",
      " '106m': {'A': {'00': '1-154'}},\n",
      " '107l': {'A': {'00': '1-162'}},\n",
      " '107m': {'A': {'00': '1-154'}},\n",
      " '108l': {'A': {'00': '1-162'}},\n",
      " '108m': {'A': {'00': '1-154'}},\n",
      " '109l': {'A': {'00': '1-162'}},\n",
      " '109m': {'A': {'00': '1-154'}},\n",
      " '10gs': {'A': {'01': '2-78,187-208', '02': '79-186'},\n",
      "          'B': {'01': '2-78,187-208', '02': '79-186'}},\n",
      " '10mh': {'A': {'01': '1-186,285-327', '02': '187-284'}},\n",
      " '110l': {'A': {'00': '1-162'}}}\n"
     ]
    }
   ],
   "source": [
    "with open(\"../data/cath/cath_domain_boundaries.txt\") as f:\n",
    "    lines = f.readlines()[:23]\n",
    "    lines = map(lambda x : x.strip(), lines)\n",
    "    big = 0\n",
    "    data = {}\n",
    "    for line in lines:\n",
    "        name, boundaries = line.split(\"\\t\")\n",
    "        code = name[:4]\n",
    "        chain = name[4]\n",
    "        domain = name[5:]\n",
    "        data = update_dict(data, code, chain, domain, boundaries)\n",
    "    pprint(data)\n",
    "\n",
    "    "
   ]
  },
  {
   "cell_type": "code",
   "execution_count": null,
   "id": "e2a46b90",
   "metadata": {},
   "outputs": [],
   "source": []
  }
 ],
 "metadata": {
  "kernelspec": {
   "display_name": "Python 3 (ipykernel)",
   "language": "python",
   "name": "python3"
  },
  "language_info": {
   "codemirror_mode": {
    "name": "ipython",
    "version": 3
   },
   "file_extension": ".py",
   "mimetype": "text/x-python",
   "name": "python",
   "nbconvert_exporter": "python",
   "pygments_lexer": "ipython3",
   "version": "3.9.12"
  }
 },
 "nbformat": 4,
 "nbformat_minor": 5
}
