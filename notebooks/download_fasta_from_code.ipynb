{
 "cells": [
  {
   "cell_type": "code",
   "execution_count": 2,
   "metadata": {},
   "outputs": [],
   "source": [
    "from Bio.PDB import PDBList\n",
    "from Bio.SeqUtils import seq1\n",
    "from Bio import SeqIO\n",
    "\n",
    "import os\n",
    "\n",
    "from helpers.helper import get_cath\n",
    "import random\n",
    "\n",
    "import json\n",
    "import matplotlib.pyplot as plt\n",
    "import pandas as pd\n",
    "import seaborn as sns\n",
    "import numpy as np\n",
    "import copy\n",
    "\n"
   ]
  },
  {
   "cell_type": "code",
   "execution_count": 42,
   "metadata": {},
   "outputs": [],
   "source": [
    "cath = get_cath()"
   ]
  },
  {
   "cell_type": "code",
   "execution_count": 43,
   "metadata": {},
   "outputs": [],
   "source": [
    "seed = 2023"
   ]
  },
  {
   "cell_type": "code",
   "execution_count": 44,
   "metadata": {},
   "outputs": [],
   "source": [
    "random.seed(seed)"
   ]
  },
  {
   "cell_type": "code",
   "execution_count": 45,
   "metadata": {},
   "outputs": [],
   "source": [
    "def number_of_domains(chain):\n",
    "\treturn len(cath[chain[:4]][chain[-1]])"
   ]
  },
  {
   "cell_type": "code",
   "execution_count": 56,
   "metadata": {},
   "outputs": [],
   "source": [
    "domain_chains_dict = {\n",
    "    \n",
    "}\n",
    "\n",
    "lengths = {}\n",
    "for code, info in cath.items():\n",
    "    chains = info.keys()\n",
    "    for chain in chains:\n",
    "        domains = cath[code][chain]\n",
    "        no_of_domains = len(domains)\n",
    "        lengths[str(no_of_domains)] = lengths.get(str(no_of_domains), 0) + 1\n",
    "\n",
    "for n in lengths.keys():\n",
    "    domain_chains_dict[n] = []\n",
    "\n",
    "for code, info in cath.items():\n",
    "    chains = info.keys()\n",
    "    for chain in chains:\n",
    "        domains = cath[code][chain]\n",
    "        no_of_domains = len(domains)\n",
    "        domain_chains_dict[str(no_of_domains)].append(f'{code}:{chain}')\n",
    "\n",
    "random_sample = {}\n",
    "for size, chains in domain_chains_dict.items():\n",
    "    x = len(chains)\n",
    "    if size in ['2', '3']:\n",
    "        random_sample[size] = random.Random(seed).sample(chains, min(20000, x))\n",
    "    else:\n",
    "        random_sample[size] = random.Random(seed).sample(chains, min(15000, x)) # was 7000"
   ]
  },
  {
   "cell_type": "code",
   "execution_count": 57,
   "metadata": {},
   "outputs": [
    {
     "data": {
      "text/plain": [
       "{'1': 222168,\n",
       " '2': 99666,\n",
       " '3': 21828,\n",
       " '4': 7526,\n",
       " '8': 419,\n",
       " '7': 160,\n",
       " '6': 863,\n",
       " '5': 2338,\n",
       " '10': 44,\n",
       " '9': 75,\n",
       " '12': 21,\n",
       " '13': 29,\n",
       " '11': 4,\n",
       " '20': 2,\n",
       " '19': 1,\n",
       " '16': 8,\n",
       " '14': 1}"
      ]
     },
     "execution_count": 57,
     "metadata": {},
     "output_type": "execute_result"
    }
   ],
   "source": [
    "lengths"
   ]
  },
  {
   "cell_type": "code",
   "execution_count": 71,
   "metadata": {},
   "outputs": [],
   "source": [
    "random_sample_tuples = []\n",
    "for k, v in random_sample.items():\n",
    "\trandom_sample_tuples.append((int(k), v))\n",
    "\n",
    "random_sample_tuples.sort(key=lambda x: x[0])"
   ]
  },
  {
   "cell_type": "code",
   "execution_count": 72,
   "metadata": {},
   "outputs": [
    {
     "data": {
      "text/plain": [
       "66491"
      ]
     },
     "execution_count": 72,
     "metadata": {},
     "output_type": "execute_result"
    }
   ],
   "source": [
    "lens = [len(x[1]) for x in random_sample_tuples]\n",
    "lens_gt5 = sum(lens[5:])\n",
    "total = sum(lens)\n",
    "total"
   ]
  },
  {
   "cell_type": "code",
   "execution_count": 73,
   "metadata": {},
   "outputs": [],
   "source": [
    "random_sample_list = []\n",
    "for k, v in random_sample_tuples:\n",
    "\tfor chain in v:\n",
    "\t\trandom_sample_list.append(chain)\n"
   ]
  },
  {
   "cell_type": "code",
   "execution_count": 74,
   "metadata": {},
   "outputs": [
    {
     "data": {
      "text/plain": [
       "66491"
      ]
     },
     "execution_count": 74,
     "metadata": {},
     "output_type": "execute_result"
    }
   ],
   "source": [
    "len(random_sample_list)"
   ]
  },
  {
   "cell_type": "code",
   "execution_count": 75,
   "metadata": {},
   "outputs": [
    {
     "data": {
      "text/plain": [
       "[15000, 20000, 20000, 7526, 2338, 863, 160, 419, 75, 44, 4, 21, 29, 1, 8, 1, 2]"
      ]
     },
     "execution_count": 75,
     "metadata": {},
     "output_type": "execute_result"
    }
   ],
   "source": [
    "lens"
   ]
  },
  {
   "cell_type": "code",
   "execution_count": 76,
   "metadata": {},
   "outputs": [
    {
     "data": {
      "text/plain": [
       "66491"
      ]
     },
     "execution_count": 76,
     "metadata": {},
     "output_type": "execute_result"
    }
   ],
   "source": [
    "sum(lens)"
   ]
  },
  {
   "cell_type": "code",
   "execution_count": 77,
   "metadata": {},
   "outputs": [
    {
     "data": {
      "text/plain": [
       "1627"
      ]
     },
     "execution_count": 77,
     "metadata": {},
     "output_type": "execute_result"
    }
   ],
   "source": [
    "lens_gt5"
   ]
  },
  {
   "cell_type": "code",
   "execution_count": 67,
   "metadata": {},
   "outputs": [],
   "source": [
    "# with open(f\"../data/pdb/new_iid/list_extra_2and3.txt\", \"w\") as f:\n",
    "# \tfor (k, v) in random_sample_tuples:\n",
    "# \t\tif k == 2 or k == 3:\n",
    "# \t\t\t\tfor pdb_code in v:\n",
    "# \t\t\t\t\tif not os.path.isfile(f'../data/pdb/new_iid/{pdb_code[:4]}.pdb'):\n",
    "# \t\t\t\t\t\tcode = pdb_code[:4]\n",
    "# \t\t\t\t\t\tf.write(code + ',')"
   ]
  },
  {
   "cell_type": "code",
   "execution_count": 16,
   "metadata": {},
   "outputs": [],
   "source": [
    "# with open(f\"../data/pdb/new_iid/list_extra_2and3.txt\", \"r\") as f:\n",
    "# \tline = f.readlines()[0]\n",
    "# \tcodes = line.split(',')\n",
    "# \tprint(len(codes))"
   ]
  },
  {
   "cell_type": "code",
   "execution_count": 70,
   "metadata": {},
   "outputs": [
    {
     "data": {
      "text/plain": [
       "6172"
      ]
     },
     "execution_count": 70,
     "metadata": {},
     "output_type": "execute_result"
    }
   ],
   "source": [
    "# count how many new chains for 1 domain proteins are there from increasing the random sample size\n",
    "# counter = 0\n",
    "# for (k, v) in random_sample_tuples:\n",
    "# \t\tif k == 1:\n",
    "# \t\t\tfor pdb_code in v:\n",
    "# \t\t\t\tif not os.path.isfile(f'../data/pdb/new_iid/{pdb_code[:4]}.pdb'):\n",
    "# \t\t\t\t\tcounter += 1\n",
    "# counter"
   ]
  },
  {
   "cell_type": "code",
   "execution_count": 69,
   "metadata": {},
   "outputs": [],
   "source": [
    "# with open(f\"../data/pdb/new_iid/list_extra_1.txt\", \"w\") as f:\n",
    "# \tfor (k, v) in random_sample_tuples:\n",
    "# \t\tif k == 1:\n",
    "# \t\t\t\tfor pdb_code in v:\n",
    "# \t\t\t\t\tif not os.path.isfile(f'../data/pdb/new_iid/{pdb_code[:4]}.pdb'):\n",
    "# \t\t\t\t\t\tcode = pdb_code[:4]\n",
    "# \t\t\t\t\t\tf.write(code + ',')"
   ]
  },
  {
   "cell_type": "code",
   "execution_count": 78,
   "metadata": {},
   "outputs": [
    {
     "name": "stdout",
     "output_type": "stream",
     "text": [
      "[2000/31965]\n",
      "[4000/31965]\n",
      "[6000/31965]\n",
      "[8000/31965]\n",
      "[10000/31965]\n",
      "[12000/31965]\n",
      "[14000/31965]\n",
      "[16000/31965]\n",
      "[18000/31965]\n",
      "[20000/31965]\n",
      "[22000/31965]\n",
      "[24000/31965]\n",
      "[26000/31965]\n",
      "[28000/31965]\n",
      "[30000/31965]\n",
      "[32000/31965]\n",
      "[34000/31965]\n",
      "[36000/31965]\n",
      "[38000/31965]\n",
      "[40000/31965]\n",
      "[42000/31965]\n",
      "[44000/31965]\n",
      "[46000/31965]\n",
      "[48000/31965]\n",
      "[50000/31965]\n",
      "[52000/31965]\n",
      "[54000/31965]\n",
      "[56000/31965]\n",
      "[58000/31965]\n",
      "[60000/31965]\n",
      "[62000/31965]\n",
      "[64000/31965]\n",
      "[66000/31965]\n",
      "[66492/31966]\n"
     ]
    },
    {
     "data": {
      "text/plain": [
       "['1bos:L',\n",
       " '4dcb:A',\n",
       " '1bos:R',\n",
       " '6cde:6',\n",
       " '6cdi:l',\n",
       " '3whe:L',\n",
       " '3whe:4',\n",
       " '6g8h:D',\n",
       " '3whe:N',\n",
       " '6g8h:A',\n",
       " '3whe:H',\n",
       " '3whe:K',\n",
       " '3whe:1',\n",
       " '6cde:C',\n",
       " '6cdi:d',\n",
       " '6cdi:2',\n",
       " '6cde:2',\n",
       " '6cdi:C',\n",
       " '6cde:c',\n",
       " '3t3f:A',\n",
       " '6enc:A',\n",
       " '5tb9:A',\n",
       " '3oyg:A',\n",
       " '3b96:A',\n",
       " '1p2z:A',\n",
       " '6i11:A',\n",
       " '5dqg:A',\n",
       " '1jky:A',\n",
       " '5w6v:A',\n",
       " '7ics:A',\n",
       " '2brk:A',\n",
       " '3fax:A',\n",
       " '5kg6:A',\n",
       " '2fo0:A',\n",
       " '2wrm:A',\n",
       " '3ae7:A',\n",
       " '2ebh:X',\n",
       " '4hmc:A',\n",
       " '2p6u:A',\n",
       " '3ohm:B',\n",
       " '3taq:A',\n",
       " '2au3:A',\n",
       " '3efc:A',\n",
       " '2yd0:A',\n",
       " '3fzm:A',\n",
       " '5zza:A',\n",
       " '6bv3:A',\n",
       " '1y56:A',\n",
       " '4eyi:B',\n",
       " '5xab:A',\n",
       " '3ae2:A',\n",
       " '5kg3:A',\n",
       " '5kt4:A',\n",
       " '1qqm:A',\n",
       " '1dmr:A',\n",
       " '6eyk:A',\n",
       " '4ric:B',\n",
       " '1t5h:X',\n",
       " '1tk5:A',\n",
       " '5i23:A',\n",
       " '4rq6:A',\n",
       " '5uop:A',\n",
       " '2nub:A',\n",
       " '5l1l:A',\n",
       " '6cub:A',\n",
       " '3lwm:A',\n",
       " '2r59:A',\n",
       " '3pnc:A',\n",
       " '6ipm:A',\n",
       " '3tsu:A',\n",
       " '3vr5:C',\n",
       " '1nug:A',\n",
       " '2qw0:X',\n",
       " '4ect:A',\n",
       " '4dle:A',\n",
       " '2zkm:X',\n",
       " '2v6o:A',\n",
       " '4b9t:A',\n",
       " '2ii2:A',\n",
       " '1zqg:A',\n",
       " '4rt2:A',\n",
       " '1mdf:A',\n",
       " '5tws:A',\n",
       " '2gy5:A',\n",
       " '1axn:A',\n",
       " '3khr:B',\n",
       " '5eoz:A',\n",
       " '2hry:A',\n",
       " '4bwm:A',\n",
       " '2zxr:A',\n",
       " '7icf:A',\n",
       " '5vs4:A',\n",
       " '4h0w:A',\n",
       " '6nnn:A',\n",
       " '4kbo:A',\n",
       " '3lwl:A',\n",
       " '4h9m:A',\n",
       " '9icr:A',\n",
       " '2bcv:A',\n",
       " '3nal:A',\n",
       " '1nk0:A',\n",
       " '4xiu:A',\n",
       " '5ijq:A',\n",
       " '2zxp:A',\n",
       " '4o3y:A',\n",
       " '3hu3:B',\n",
       " '1esv:A',\n",
       " '3vr5:B',\n",
       " '1nug:B',\n",
       " '1bcw:A',\n",
       " '3cjb:A',\n",
       " '1oqy:A',\n",
       " '5w5v:A',\n",
       " '4lzd:A',\n",
       " '1bgr:0',\n",
       " '1hvd:A',\n",
       " '4j3t:A',\n",
       " '1zp0:A',\n",
       " '9icp:A',\n",
       " '4j3x:A',\n",
       " '3c2l:A',\n",
       " '3n85:A',\n",
       " '2wrk:Y',\n",
       " '6etf:A',\n",
       " '1kaz:A',\n",
       " '4z94:A',\n",
       " '5z1a:A',\n",
       " '5aqv:A',\n",
       " '5bn8:A',\n",
       " '2gk7:A',\n",
       " '6mgo:A',\n",
       " '4klj:A',\n",
       " '2qsh:A',\n",
       " '3rjg:A',\n",
       " '3pjr:A',\n",
       " '3gdq:A',\n",
       " '1tkd:A',\n",
       " '3n8g:A',\n",
       " '5js1:A',\n",
       " '3qz8:A',\n",
       " '2c2d:A',\n",
       " '1dij:0',\n",
       " '3mda:A',\n",
       " '4xei:A',\n",
       " '3hu3:A',\n",
       " '3tlm:A',\n",
       " '1cy8:A',\n",
       " '4u91:A',\n",
       " '5h8w:A',\n",
       " '5tyv:A',\n",
       " '3wnk:A',\n",
       " '2vnu:D',\n",
       " '1njz:A',\n",
       " '2ptk:A',\n",
       " '4z4i:A',\n",
       " '3l2p:A',\n",
       " '1biy:A',\n",
       " '3q8r:B',\n",
       " '3h40:A',\n",
       " '1pby:A',\n",
       " '6d0m:A',\n",
       " '4j2t:A',\n",
       " '2wcx:A',\n",
       " '3vr5:A',\n",
       " '3h39:B',\n",
       " '1oa1:A',\n",
       " '3af5:A',\n",
       " '2uvw:A',\n",
       " '4j9o:A',\n",
       " '4ric:A',\n",
       " '1fgh:A',\n",
       " '4cr1:Y',\n",
       " '4cgt:A',\n",
       " '2uvr:A',\n",
       " '5iim:A',\n",
       " '4byg:A',\n",
       " '2agv:A',\n",
       " '1ngc:A',\n",
       " '1zqf:A',\n",
       " '5j0o:A',\n",
       " '5db7:A',\n",
       " '2c28:A',\n",
       " '2agv:B',\n",
       " '5gqw:A',\n",
       " '5zlc:A',\n",
       " '4fys:A',\n",
       " '4qzi:A',\n",
       " '2jei:A',\n",
       " '1qcf:A',\n",
       " '4rq2:A',\n",
       " '3rtv:A',\n",
       " '3i7o:A',\n",
       " '4ekz:A',\n",
       " '2x9w:A',\n",
       " '1kcl:A',\n",
       " '8icu:A',\n",
       " '1wos:A',\n",
       " '3khr:A',\n",
       " '5x7g:A',\n",
       " '5dca:A']"
      ]
     },
     "execution_count": 78,
     "metadata": {},
     "output_type": "execute_result"
    }
   ],
   "source": [
    "files_not_downloaded = []\n",
    "# Set the directory path\n",
    "dir_path = \"../data/pdb/new_iid\"\n",
    "\n",
    "# Get the list of files in the directory\n",
    "file_list = os.listdir(dir_path)\n",
    "\n",
    "counter = 0\n",
    "for _, chains in random_sample_tuples:\n",
    "\tfor chain in chains:\n",
    "\t\tpdb_filename = f\"{dir_path}/{chain[:4]}.pdb\"\n",
    "\t\tchain_id = chain[-1]\n",
    "\t\tif not os.path.isfile(pdb_filename):\n",
    "\t\t\tfiles_not_downloaded.append(chain)\n",
    "\t\tcounter += 1\n",
    "\t\tif (counter + 1) % 2000 == 0:\n",
    "\t\t\tprint(f\"[{counter + 1}/{31965}]\")\n",
    "print(f\"[{counter + 1}/{31965+1}]\")\n",
    "\n",
    "files_not_downloaded"
   ]
  },
  {
   "cell_type": "code",
   "execution_count": 79,
   "metadata": {},
   "outputs": [
    {
     "name": "stdout",
     "output_type": "stream",
     "text": [
      "Total chains before: 66491\n",
      "Total chains after removing those that were not downloaded: 66291\n"
     ]
    }
   ],
   "source": [
    "print(\"Total chains before:\", len(random_sample_list))\n",
    "for f in files_not_downloaded:\n",
    "\trandom_sample_list.remove(f)\n",
    "print(\"Total chains after removing those that were not downloaded:\", len(random_sample_list))\n"
   ]
  },
  {
   "cell_type": "code",
   "execution_count": 19,
   "metadata": {},
   "outputs": [],
   "source": [
    "# for elt in random_sample_list:\n",
    "# \tif elt[:4] == '1bos':\n",
    "# \t\tprint(elt)"
   ]
  },
  {
   "cell_type": "code",
   "execution_count": 80,
   "metadata": {},
   "outputs": [
    {
     "data": {
      "text/plain": [
       "66291"
      ]
     },
     "execution_count": 80,
     "metadata": {},
     "output_type": "execute_result"
    }
   ],
   "source": [
    "len(set(random_sample_list))"
   ]
  },
  {
   "cell_type": "code",
   "execution_count": 81,
   "metadata": {},
   "outputs": [
    {
     "name": "stdout",
     "output_type": "stream",
     "text": [
      "[2000/66291]\n",
      "[4000/66291]\n",
      "[6000/66291]\n",
      "[8000/66291]\n",
      "[10000/66291]\n",
      "[12000/66291]\n",
      "[14000/66291]\n",
      "[16000/66291]\n",
      "[18000/66291]\n",
      "[20000/66291]\n",
      "[22000/66291]\n",
      "[24000/66291]\n",
      "[26000/66291]\n",
      "[28000/66291]\n",
      "[30000/66291]\n",
      "[32000/66291]\n",
      "[34000/66291]\n",
      "[36000/66291]\n",
      "[38000/66291]\n",
      "[40000/66291]\n",
      "[42000/66291]\n",
      "[44000/66291]\n",
      "[46000/66291]\n",
      "[48000/66291]\n",
      "[50000/66291]\n",
      "[52000/66291]\n",
      "[54000/66291]\n",
      "[56000/66291]\n",
      "[58000/66291]\n",
      "[60000/66291]\n",
      "[62000/66291]\n",
      "[64000/66291]\n",
      "[66000/66291]\n",
      "[66291/66291]\n"
     ]
    }
   ],
   "source": [
    "chain_to_seq = {}\n",
    "chain_not_in_pdb = []\n",
    "dir_path = \"../data/pdb/new_iid/\"\n",
    "\n",
    "\n",
    "counter = 0\n",
    "for chain in random_sample_list:\n",
    "    pdb_filename = f\"../data/pdb/new_iid/{chain[:4]}.pdb\"\n",
    "    chain_id = chain[-1]\n",
    "    with open(pdb_filename, \"r\") as pdb_file:\n",
    "        pdb_chains = {record.id: record.seq for record in SeqIO.parse(pdb_filename, 'pdb-seqres')}\n",
    "        seq = None\n",
    "        for key in pdb_chains.keys():\n",
    "            if key[-1] == chain[-1]:\n",
    "                seq = pdb_chains[key]\n",
    "                chain_to_seq[chain] = str(seq)\n",
    "        if not seq:\n",
    "            chain_not_in_pdb.append(chain)\n",
    "    counter += 1\n",
    "    if (counter) % 2000 == 0:\n",
    "        print(f\"[{counter}/{len(random_sample_list)}]\")\n",
    "print(f\"[{counter}/{len(random_sample_list)}]\") \n",
    "\n"
   ]
  },
  {
   "cell_type": "code",
   "execution_count": 82,
   "metadata": {},
   "outputs": [],
   "source": [
    "assert len(chain_to_seq) + len(chain_not_in_pdb) == len(random_sample_list)"
   ]
  },
  {
   "cell_type": "code",
   "execution_count": 83,
   "metadata": {},
   "outputs": [
    {
     "name": "stdout",
     "output_type": "stream",
     "text": [
      "Total chains before: 66291\n",
      "Total chains after removing those that a chain wasn't found: 66263\n"
     ]
    }
   ],
   "source": [
    "print(\"Total chains before:\", len(random_sample_list))\n",
    "for f in chain_not_in_pdb:\n",
    "\trandom_sample_list.remove(f)\n",
    "print(\"Total chains after removing those that a chain wasn't found:\", len(random_sample_list))"
   ]
  },
  {
   "cell_type": "code",
   "execution_count": 84,
   "metadata": {},
   "outputs": [],
   "source": [
    "with open('../data/cath/iid/chains_to_seq.json', 'w') as fp:\n",
    "    json.dump(chain_to_seq, fp)"
   ]
  },
  {
   "cell_type": "code",
   "execution_count": 85,
   "metadata": {},
   "outputs": [
    {
     "name": "stdout",
     "output_type": "stream",
     "text": [
      "Number of chains before: 66263\n",
      "Number of chains after removing > 2000: 66219\n"
     ]
    }
   ],
   "source": [
    "# remove sequences of length > 2000\n",
    "tmp = copy.deepcopy(chain_to_seq)\n",
    "print(\"Number of chains before:\", len(chain_to_seq))\n",
    "for chain, seq in tmp.items():\n",
    "\tif len(seq) > 2000:\n",
    "\t\tdel chain_to_seq[chain]\n",
    "print(\"Number of chains after removing > 2000:\", len(chain_to_seq))\n"
   ]
  },
  {
   "cell_type": "code",
   "execution_count": 86,
   "metadata": {},
   "outputs": [],
   "source": [
    "# write them to a fasta file for mmseqs\n",
    "\n",
    "with open('../data/cath/iid/ALL.fasta', 'w')as f:\n",
    "\tfor k, v in chain_to_seq.items():\n",
    "\t\tf.write('>' + k + '\\n' + v + '\\n')\n"
   ]
  },
  {
   "cell_type": "code",
   "execution_count": 87,
   "metadata": {},
   "outputs": [],
   "source": [
    "lefts = []\n",
    "rights = []\n",
    "with open('../data/cath/iid/mmseqs/clusterRes2_cluster.tsv', 'r') as f:\n",
    "\tfor line in f.readlines():\n",
    "\t\tline = line.split('\t')\n",
    "\t\tleft = line[0]\n",
    "\t\tright = line[1]\n",
    "\t\tlefts.append(left)\n",
    "\t\trights.append(right)"
   ]
  },
  {
   "cell_type": "code",
   "execution_count": 88,
   "metadata": {},
   "outputs": [],
   "source": [
    "iid_chains = sorted(list(set(lefts)))"
   ]
  },
  {
   "cell_type": "code",
   "execution_count": 89,
   "metadata": {},
   "outputs": [
    {
     "name": "stdout",
     "output_type": "stream",
     "text": [
      "Number of chains before: 66219\n",
      "Number of chains after removing non iid: 8497\n"
     ]
    }
   ],
   "source": [
    "# remove non iid chains\n",
    "print(\"Number of chains before:\", len(chain_to_seq))\n",
    "tmp = copy.deepcopy(chain_to_seq)\n",
    "chain_to_seq = {}\n",
    "for chain in iid_chains:\n",
    "    chain_to_seq[chain] = tmp[chain]\n",
    "print(\"Number of chains after removing non iid:\", len(chain_to_seq))"
   ]
  },
  {
   "cell_type": "code",
   "execution_count": 90,
   "metadata": {},
   "outputs": [],
   "source": [
    "num_domains_iid = {}\n",
    "for chain in iid_chains:\n",
    "\tno = number_of_domains(chain)\n",
    "\tif no in num_domains_iid.keys():\n",
    "\t\tnum_domains_iid[no].append(chain)\n",
    "\telse:\n",
    "\t\tnum_domains_iid[no] = [chain]"
   ]
  },
  {
   "cell_type": "code",
   "execution_count": 91,
   "metadata": {},
   "outputs": [
    {
     "name": "stdout",
     "output_type": "stream",
     "text": [
      "1 3953\n",
      "3 1198\n",
      "2 2726\n",
      "4 396\n",
      "8 14\n",
      "6 44\n",
      "5 137\n",
      "7 19\n",
      "10 5\n",
      "13 1\n",
      "11 1\n",
      "9 2\n",
      "12 1\n"
     ]
    }
   ],
   "source": [
    "for no, chains in num_domains_iid.items():\n",
    "\tprint(no, len(chains))"
   ]
  },
  {
   "cell_type": "code",
   "execution_count": 32,
   "metadata": {},
   "outputs": [
    {
     "data": {
      "image/png": "[encoded data removed]",
      "text/plain": [
       "<Figure size 1008x936 with 1 Axes>"
      ]
     },
     "metadata": {
      "needs_background": "light"
     },
     "output_type": "display_data"
    },
    {
     "name": "stdout",
     "output_type": "stream",
     "text": [
      "Chains with 3 domains: 1201\n",
      "Chains with 2 domains: 2739\n",
      "Chains with 1 domains: 2513\n",
      "Chains with 4 domains: 395\n",
      "Chains with 8 domains: 14\n",
      "Chains with 6 domains: 44\n",
      "Chains with 5 domains: 137\n",
      "Chains with 7 domains: 20\n",
      "Chains with 10 domains: 5\n",
      "Chains with 13 domains: 1\n",
      "Chains with 11 domains: 1\n",
      "Chains with 9 domains: 2\n",
      "Chains with 12 domains: 1\n"
     ]
    }
   ],
   "source": [
    "domains = [i for i in range(1,21)]\n",
    "size = [len(num_domains_iid.get(i,[])) for i in range(1,21)]\n",
    "\n",
    "fig = plt.figure(figsize = (14, 13))\n",
    "\n",
    "# creating the bar plot\n",
    "plt.bar(domains, size, width = 0.4)\n",
    "\n",
    "plt.xlabel(\"Number of domains\")\n",
    "plt.ylabel(\"Number of chains\")\n",
    "plt.title(\"\")\n",
    "plt.show()\n",
    "\n",
    "for k in [int(x) for x in num_domains_iid.keys()]:\n",
    "    print(f\"Chains with {k} domains: {len(num_domains_iid[k])}\")"
   ]
  },
  {
   "cell_type": "code",
   "execution_count": 99,
   "metadata": {},
   "outputs": [
    {
     "data": {
      "image/png": "[encoded data removed]",
      "text/plain": [
       "<Figure size 1008x936 with 1 Axes>"
      ]
     },
     "metadata": {
      "needs_background": "light"
     },
     "output_type": "display_data"
    },
    {
     "name": "stdout",
     "output_type": "stream",
     "text": [
      "Chains with 1 domains: 3953\n",
      "Chains with 2 domains: 2726\n",
      "Chains with 3 domains: 1198\n",
      "Chains with 4 domains: 396\n",
      "Chains with > 4 domains: 224\n"
     ]
    }
   ],
   "source": [
    "n = 5\n",
    "domains = [str(i) for i in range(1,n)]\n",
    "size = [len(num_domains_iid.get(i,[] )) for i in range(1,n)]\n",
    "\n",
    "more_than_n = sum([len(num_domains_iid.get(i,[] )) for i in range(n,21)])\n",
    "\n",
    "domains.append('> 5')\n",
    "size.append(more_than_n)\n",
    "\n",
    "fig = plt.figure(figsize = (14, 13))\n",
    "\n",
    "# creating the bar plot\n",
    "plt.bar(domains, size, width = 0.4)\n",
    "\n",
    "plt.xlabel(\"Number of domains\")\n",
    "plt.ylabel(\"Number of chains\")\n",
    "plt.title(\"\")\n",
    "plt.show()\n",
    "\n",
    "for k in range(1, n):\n",
    "    try:\n",
    "        print(f\"Chains with {k} domains: {len(num_domains_iid[k])}\")\n",
    "    except KeyError:\n",
    "        continue\n",
    "\n",
    "print(f\"Chains with > {n-1} domains: {more_than_n}\")"
   ]
  },
  {
   "cell_type": "code",
   "execution_count": null,
   "metadata": {},
   "outputs": [],
   "source": [
    "# # this is as of 4 March after noticing that my model can't predict well single domain boundaries\n",
    "# new_num_domains_iid = {}\n",
    "\n",
    "# for num, chains in num_domains_iid.items():\n",
    "#     if num == 1:\n",
    "#         new_num_domains_iid[num] = random.Random(seed).sample(chains, len(chains))\n",
    "#     if num > 1:\n",
    "#         new_num_domains_iid[num] = random.Random(seed).sample(chains, (len(chains) * 6) // 10 )\n",
    "\n",
    "# n = 3\n",
    "# domains = [str(i) for i in range(1,n)]\n",
    "# size = [len(new_num_domains_iid.get(i,[] )) for i in range(1,n)]\n",
    "\n",
    "# more_than_n = sum([len(new_num_domains_iid.get(i,[] )) for i in range(n,21)])\n",
    "\n",
    "# domains.append('> 5')\n",
    "# size.append(more_than_n)\n",
    "\n",
    "# fig = plt.figure(figsize = (14, 13))\n",
    "\n",
    "# # creating the bar plot\n",
    "# plt.bar(domains, size, width = 0.4)\n",
    "\n",
    "# plt.xlabel(\"Number of domains\")\n",
    "# plt.ylabel(\"Number of chains\")\n",
    "# plt.title(\"\")\n",
    "# plt.show()\n",
    "\n",
    "# for k in range(1, n):\n",
    "#     try:\n",
    "#         print(f\"Chains with {k} domains: {len(new_num_domains_iid[k])}\")\n",
    "#     except KeyError:\n",
    "#         continue\n",
    "\n",
    "# print(f\"Chains with > {n-1} domains: {more_than_n}\")\n",
    "\n",
    "# new_chain_to_seq {}\n",
    "\n",
    "# with open('../data/cath/iid/new_chains_to_seq_iid.json', 'w') as fp:\n",
    "#     json.dump(new_chain_to_seq, fp)"
   ]
  },
  {
   "cell_type": "code",
   "execution_count": 97,
   "metadata": {},
   "outputs": [
    {
     "data": {
      "image/png": "[encoded data removed]",
      "text/plain": [
       "<Figure size 936x504 with 1 Axes>"
      ]
     },
     "metadata": {
      "needs_background": "light"
     },
     "output_type": "display_data"
    }
   ],
   "source": [
    "densities = {\n",
    "    '1' : [],\n",
    "    '2' : [],\n",
    "    '3' : [],\n",
    "    '4' : [],\n",
    "    '5' : [],\n",
    "    '> 5' : []\n",
    "    }\n",
    "n = 4\n",
    "\n",
    "for chain, seq in chain_to_seq.items():\n",
    "    no = number_of_domains(chain)\n",
    "    if no >= n:\n",
    "            densities['> 5'].append(len(seq))\n",
    "    else:\n",
    "        densities[str(no)].append(len(seq))\n",
    "\n",
    "fig = plt.figure(figsize = (13, 7))\n",
    "labels = []\n",
    "\n",
    "for k, v in densities.items():\n",
    "    sns.kdeplot(data=v, bw_adjust=1.2)\n",
    "    labels.append(k)\n",
    "\n",
    "plt.legend(labels=labels)\n",
    "plt.xlabel(\"Sequence Length\")    \n",
    "plt.title(\"Density Plot\")\n",
    "plt.show()"
   ]
  },
  {
   "cell_type": "code",
   "execution_count": 100,
   "metadata": {},
   "outputs": [],
   "source": [
    "with open('../data/cath/iid/chains_to_seq_iid.json', 'w') as fp:\n",
    "    json.dump(chain_to_seq, fp)"
   ]
  },
  {
   "cell_type": "code",
   "execution_count": 101,
   "metadata": {},
   "outputs": [
    {
     "name": "stdout",
     "output_type": "stream",
     "text": [
      "Len: 21\n",
      "{'S', 'K', 'W', 'V', 'A', 'P', 'M', 'Q', 'I', 'H', 'Y', 'G', 'D', 'R', 'N', 'C', 'E', 'L', 'F', 'X', 'T'}\n"
     ]
    }
   ],
   "source": [
    "unique_amino_acids = set()\n",
    "for chain, seq in chain_to_seq.items():\n",
    "    for i, aa in enumerate(seq):\n",
    "        unique_amino_acids.add(aa)\n",
    "        \n",
    "print(\"Len:\", len(unique_amino_acids))\n",
    "print(unique_amino_acids)"
   ]
  },
  {
   "cell_type": "code",
   "execution_count": 5,
   "metadata": {},
   "outputs": [],
   "source": [
    "# write every pdb code to a file to create mappings\n",
    "with open(\"../data/cath/iid/list_of_final_chains.txt\", \"w\") as f:\n",
    "\tfor chain in list(set([x[:4] for x in chains_to_seq_iid.keys()])):\n",
    "\t\tf.write(chain + '\\n')"
   ]
  },
  {
   "cell_type": "code",
   "execution_count": 4,
   "metadata": {},
   "outputs": [
    {
     "data": {
      "text/plain": [
       "8497"
      ]
     },
     "execution_count": 4,
     "metadata": {},
     "output_type": "execute_result"
    }
   ],
   "source": [
    "with open('../data/cath/iid/chains_to_seq_iid.json') as json_file:\n",
    "    chains_to_seq_iid = json.load(json_file)\n",
    "len(chains_to_seq_iid)"
   ]
  }
 ],
 "metadata": {
  "kernelspec": {
   "display_name": "base",
   "language": "python",
   "name": "python3"
  },
  "language_info": {
   "codemirror_mode": {
    "name": "ipython",
    "version": 3
   },
   "file_extension": ".py",
   "mimetype": "text/x-python",
   "name": "python",
   "nbconvert_exporter": "python",
   "pygments_lexer": "ipython3",
   "version": "3.9.12"
  },
  "orig_nbformat": 4,
  "vscode": {
   "interpreter": {
    "hash": "1b6993604730f8cf29f5900b73e8b88206f8a6983047fdc957f382b3e5d49baa"
   }
  }
 },
 "nbformat": 4,
 "nbformat_minor": 2
}
