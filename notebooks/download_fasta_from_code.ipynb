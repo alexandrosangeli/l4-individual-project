{
 "cells": [
  {
   "cell_type": "code",
   "execution_count": 1,
   "metadata": {},
   "outputs": [],
   "source": [
    "from Bio.PDB import PDBList\n",
    "from Bio.SeqUtils import seq1\n",
    "from Bio import SeqIO\n",
    "\n",
    "import os\n",
    "\n",
    "from helpers.helper import get_cath\n",
    "import random\n",
    "\n",
    "import json\n",
    "import matplotlib.pyplot as plt\n",
    "import pandas as pd\n",
    "import seaborn as sns\n",
    "import numpy as np\n",
    "import copy\n",
    "\n"
   ]
  },
  {
   "cell_type": "code",
   "execution_count": 2,
   "metadata": {},
   "outputs": [],
   "source": [
    "cath = get_cath()"
   ]
  },
  {
   "cell_type": "code",
   "execution_count": 3,
   "metadata": {},
   "outputs": [],
   "source": [
    "seed = 2023"
   ]
  },
  {
   "cell_type": "code",
   "execution_count": 4,
   "metadata": {},
   "outputs": [],
   "source": [
    "random.seed(seed)"
   ]
  },
  {
   "cell_type": "code",
   "execution_count": 5,
   "metadata": {},
   "outputs": [],
   "source": [
    "def number_of_domains(chain):\n",
    "\treturn len(cath[chain[:4]][chain[-1]])"
   ]
  },
  {
   "cell_type": "code",
   "execution_count": 6,
   "metadata": {},
   "outputs": [],
   "source": [
    "domain_chains_dict = {\n",
    "    \n",
    "}\n",
    "\n",
    "lengths = {}\n",
    "for code, info in cath.items():\n",
    "    chains = info.keys()\n",
    "    for chain in chains:\n",
    "        domains = cath[code][chain]\n",
    "        no_of_domains = len(domains)\n",
    "        lengths[str(no_of_domains)] = lengths.get(str(no_of_domains), 0) + 1\n",
    "\n",
    "for n in lengths.keys():\n",
    "    domain_chains_dict[n] = []\n",
    "\n",
    "for code, info in cath.items():\n",
    "    chains = info.keys()\n",
    "    for chain in chains:\n",
    "        domains = cath[code][chain]\n",
    "        no_of_domains = len(domains)\n",
    "        domain_chains_dict[str(no_of_domains)].append(f'{code}:{chain}')\n",
    "\n",
    "random_sample = {}\n",
    "for size, chains in domain_chains_dict.items():\n",
    "    x = len(chains)\n",
    "    if size in ['2', '3']:\n",
    "        random_sample[size] = random.Random(seed).sample(chains, min(20000, x))\n",
    "    else:\n",
    "        random_sample[size] = random.Random(seed).sample(chains, min(7000, x))"
   ]
  },
  {
   "cell_type": "code",
   "execution_count": 7,
   "metadata": {},
   "outputs": [
    {
     "data": {
      "text/plain": [
       "{'1': 222168,\n",
       " '2': 99666,\n",
       " '3': 21828,\n",
       " '4': 7526,\n",
       " '8': 419,\n",
       " '7': 160,\n",
       " '6': 863,\n",
       " '5': 2338,\n",
       " '10': 44,\n",
       " '9': 75,\n",
       " '12': 21,\n",
       " '13': 29,\n",
       " '11': 4,\n",
       " '20': 2,\n",
       " '19': 1,\n",
       " '16': 8,\n",
       " '14': 1}"
      ]
     },
     "execution_count": 7,
     "metadata": {},
     "output_type": "execute_result"
    }
   ],
   "source": [
    "lengths"
   ]
  },
  {
   "cell_type": "code",
   "execution_count": 8,
   "metadata": {},
   "outputs": [],
   "source": [
    "random_sample_tuples = []\n",
    "for k, v in random_sample.items():\n",
    "\trandom_sample_tuples.append((int(k), v))\n",
    "\n",
    "random_sample_tuples.sort(key=lambda x: x[0])"
   ]
  },
  {
   "cell_type": "code",
   "execution_count": 9,
   "metadata": {},
   "outputs": [
    {
     "data": {
      "text/plain": [
       "57965"
      ]
     },
     "execution_count": 9,
     "metadata": {},
     "output_type": "execute_result"
    }
   ],
   "source": [
    "lens = [len(x[1]) for x in random_sample_tuples]\n",
    "lens_gt5 = sum(lens[5:])\n",
    "total = sum(lens)\n",
    "total"
   ]
  },
  {
   "cell_type": "code",
   "execution_count": 10,
   "metadata": {},
   "outputs": [],
   "source": [
    "random_sample_list = []\n",
    "for k, v in random_sample_tuples:\n",
    "\tfor chain in v:\n",
    "\t\trandom_sample_list.append(chain)\n"
   ]
  },
  {
   "cell_type": "code",
   "execution_count": 11,
   "metadata": {},
   "outputs": [
    {
     "data": {
      "text/plain": [
       "57965"
      ]
     },
     "execution_count": 11,
     "metadata": {},
     "output_type": "execute_result"
    }
   ],
   "source": [
    "len(random_sample_list)"
   ]
  },
  {
   "cell_type": "code",
   "execution_count": 12,
   "metadata": {},
   "outputs": [
    {
     "data": {
      "text/plain": [
       "[7000, 20000, 20000, 7000, 2338, 863, 160, 419, 75, 44, 4, 21, 29, 1, 8, 1, 2]"
      ]
     },
     "execution_count": 12,
     "metadata": {},
     "output_type": "execute_result"
    }
   ],
   "source": [
    "lens"
   ]
  },
  {
   "cell_type": "code",
   "execution_count": 13,
   "metadata": {},
   "outputs": [
    {
     "data": {
      "text/plain": [
       "57965"
      ]
     },
     "execution_count": 13,
     "metadata": {},
     "output_type": "execute_result"
    }
   ],
   "source": [
    "sum(lens)"
   ]
  },
  {
   "cell_type": "code",
   "execution_count": 14,
   "metadata": {},
   "outputs": [
    {
     "data": {
      "text/plain": [
       "1627"
      ]
     },
     "execution_count": 14,
     "metadata": {},
     "output_type": "execute_result"
    }
   ],
   "source": [
    "lens_gt5"
   ]
  },
  {
   "cell_type": "code",
   "execution_count": 15,
   "metadata": {},
   "outputs": [],
   "source": [
    "# with open(f\"../data/pdb/new_iid/list_extra_2and3.txt\", \"w\") as f:\n",
    "# \tfor (k, v) in random_sample_tuples:\n",
    "# \t\tif k == 2 or k == 3:\n",
    "# \t\t\t\tfor pdb_code in v:\n",
    "# \t\t\t\t\tif not os.path.isfile(f'../data/pdb/new_iid/{pdb_code[:4]}.pdb'):\n",
    "# \t\t\t\t\t\tcode = pdb_code[:4]\n",
    "# \t\t\t\t\t\tf.write(code + ',')"
   ]
  },
  {
   "cell_type": "code",
   "execution_count": 16,
   "metadata": {},
   "outputs": [],
   "source": [
    "# with open(f\"../data/pdb/new_iid/list_extra_2and3.txt\", \"r\") as f:\n",
    "# \tline = f.readlines()[0]\n",
    "# \tcodes = line.split(',')\n",
    "# \tprint(len(codes))"
   ]
  },
  {
   "cell_type": "code",
   "execution_count": 17,
   "metadata": {},
   "outputs": [
    {
     "name": "stdout",
     "output_type": "stream",
     "text": [
      "[2000/31965]\n",
      "[4000/31965]\n",
      "[6000/31965]\n",
      "[8000/31965]\n",
      "[10000/31965]\n",
      "[12000/31965]\n",
      "[14000/31965]\n",
      "[16000/31965]\n",
      "[18000/31965]\n",
      "[20000/31965]\n",
      "[22000/31965]\n",
      "[24000/31965]\n",
      "[26000/31965]\n",
      "[28000/31965]\n",
      "[30000/31965]\n",
      "[32000/31965]\n",
      "[34000/31965]\n",
      "[36000/31965]\n",
      "[38000/31965]\n",
      "[40000/31965]\n",
      "[42000/31965]\n",
      "[44000/31965]\n",
      "[46000/31965]\n",
      "[48000/31965]\n",
      "[50000/31965]\n",
      "[52000/31965]\n",
      "[54000/31965]\n",
      "[56000/31965]\n",
      "[57966/31966]\n"
     ]
    },
    {
     "data": {
      "text/plain": [
       "['1bos:L',\n",
       " '3whe:L',\n",
       " '3whe:4',\n",
       " '6g8h:D',\n",
       " '3whe:N',\n",
       " '6g8h:A',\n",
       " '3whe:H',\n",
       " '3whe:K',\n",
       " '3whe:1',\n",
       " '6cde:C',\n",
       " '6cdi:d',\n",
       " '6cdi:2',\n",
       " '6cde:2',\n",
       " '6cdi:C',\n",
       " '6cde:c',\n",
       " '5dca:A']"
      ]
     },
     "execution_count": 17,
     "metadata": {},
     "output_type": "execute_result"
    }
   ],
   "source": [
    "files_not_downloaded = []\n",
    "# Set the directory path\n",
    "dir_path = \"../data/pdb/new_iid\"\n",
    "\n",
    "# Get the list of files in the directory\n",
    "file_list = os.listdir(dir_path)\n",
    "\n",
    "counter = 0\n",
    "for _, chains in random_sample_tuples:\n",
    "\tfor chain in chains:\n",
    "\t\tpdb_filename = f\"{dir_path}/{chain[:4]}.pdb\"\n",
    "\t\tchain_id = chain[-1]\n",
    "\t\tif not os.path.isfile(pdb_filename):\n",
    "\t\t\tfiles_not_downloaded.append(chain)\n",
    "\t\tcounter += 1\n",
    "\t\tif (counter + 1) % 2000 == 0:\n",
    "\t\t\tprint(f\"[{counter + 1}/{31965}]\")\n",
    "print(f\"[{counter + 1}/{31965+1}]\")\n",
    "\n",
    "files_not_downloaded"
   ]
  },
  {
   "cell_type": "code",
   "execution_count": 18,
   "metadata": {},
   "outputs": [
    {
     "name": "stdout",
     "output_type": "stream",
     "text": [
      "Total chains before: 57965\n",
      "Total chains after removing those that were not downloaded: 57949\n"
     ]
    }
   ],
   "source": [
    "print(\"Total chains before:\", len(random_sample_list))\n",
    "for f in files_not_downloaded:\n",
    "\trandom_sample_list.remove(f)\n",
    "print(\"Total chains after removing those that were not downloaded:\", len(random_sample_list))\n"
   ]
  },
  {
   "cell_type": "code",
   "execution_count": 19,
   "metadata": {},
   "outputs": [],
   "source": [
    "# for elt in random_sample_list:\n",
    "# \tif elt[:4] == '1bos':\n",
    "# \t\tprint(elt)"
   ]
  },
  {
   "cell_type": "code",
   "execution_count": 20,
   "metadata": {},
   "outputs": [
    {
     "data": {
      "text/plain": [
       "57949"
      ]
     },
     "execution_count": 20,
     "metadata": {},
     "output_type": "execute_result"
    }
   ],
   "source": [
    "len(set(random_sample_list))"
   ]
  },
  {
   "cell_type": "code",
   "execution_count": 21,
   "metadata": {},
   "outputs": [
    {
     "name": "stdout",
     "output_type": "stream",
     "text": [
      "[2000/57949]\n",
      "[4000/57949]\n",
      "[6000/57949]\n",
      "[8000/57949]\n",
      "[10000/57949]\n",
      "[12000/57949]\n",
      "[14000/57949]\n",
      "[16000/57949]\n",
      "[18000/57949]\n",
      "[20000/57949]\n",
      "[22000/57949]\n",
      "[24000/57949]\n",
      "[26000/57949]\n",
      "[28000/57949]\n",
      "[30000/57949]\n",
      "[32000/57949]\n",
      "[34000/57949]\n",
      "[36000/57949]\n",
      "[38000/57949]\n",
      "[40000/57949]\n",
      "[42000/57949]\n",
      "[44000/57949]\n",
      "[46000/57949]\n",
      "[48000/57949]\n",
      "[50000/57949]\n",
      "[52000/57949]\n",
      "[54000/57949]\n",
      "[56000/57949]\n",
      "[57949/57949]\n"
     ]
    }
   ],
   "source": [
    "chain_to_seq = {}\n",
    "chain_not_in_pdb = []\n",
    "dir_path = \"../data/pdb/new_iid/\"\n",
    "\n",
    "\n",
    "counter = 0\n",
    "for chain in random_sample_list:\n",
    "    pdb_filename = f\"../data/pdb/new_iid/{chain[:4]}.pdb\"\n",
    "    chain_id = chain[-1]\n",
    "    with open(pdb_filename, \"r\") as pdb_file:\n",
    "        pdb_chains = {record.id: record.seq for record in SeqIO.parse(pdb_filename, 'pdb-seqres')}\n",
    "        seq = None\n",
    "        for key in pdb_chains.keys():\n",
    "            if key[-1] == chain[-1]:\n",
    "                seq = pdb_chains[key]\n",
    "                chain_to_seq[chain] = str(seq)\n",
    "        if not seq:\n",
    "            chain_not_in_pdb.append(chain)\n",
    "    counter += 1\n",
    "    if (counter) % 2000 == 0:\n",
    "        print(f\"[{counter}/{len(random_sample_list)}]\")\n",
    "print(f\"[{counter}/{len(random_sample_list)}]\") \n",
    "\n"
   ]
  },
  {
   "cell_type": "code",
   "execution_count": 22,
   "metadata": {},
   "outputs": [],
   "source": [
    "assert len(chain_to_seq) + len(chain_not_in_pdb) == len(random_sample_list)"
   ]
  },
  {
   "cell_type": "code",
   "execution_count": 23,
   "metadata": {},
   "outputs": [
    {
     "name": "stdout",
     "output_type": "stream",
     "text": [
      "Total chains before: 57949\n",
      "Total chains after removing those that a chain wasn't found: 57924\n"
     ]
    }
   ],
   "source": [
    "print(\"Total chains before:\", len(random_sample_list))\n",
    "for f in chain_not_in_pdb:\n",
    "\trandom_sample_list.remove(f)\n",
    "print(\"Total chains after removing those that a chain wasn't found:\", len(random_sample_list))"
   ]
  },
  {
   "cell_type": "code",
   "execution_count": 24,
   "metadata": {},
   "outputs": [],
   "source": [
    "with open('../data/cath/iid/chains_to_seq.json', 'w') as fp:\n",
    "    json.dump(chain_to_seq, fp)"
   ]
  },
  {
   "cell_type": "code",
   "execution_count": 25,
   "metadata": {},
   "outputs": [
    {
     "name": "stdout",
     "output_type": "stream",
     "text": [
      "Number of chains before: 57924\n",
      "Number of chains after removing > 2000: 57880\n"
     ]
    }
   ],
   "source": [
    "# remove sequences of length > 2000\n",
    "tmp = copy.deepcopy(chain_to_seq)\n",
    "print(\"Number of chains before:\", len(chain_to_seq))\n",
    "for chain, seq in tmp.items():\n",
    "\tif len(seq) > 2000:\n",
    "\t\tdel chain_to_seq[chain]\n",
    "print(\"Number of chains after removing > 2000:\", len(chain_to_seq))\n"
   ]
  },
  {
   "cell_type": "code",
   "execution_count": 26,
   "metadata": {},
   "outputs": [],
   "source": [
    "# write them to a fasta file for mmseqs\n",
    "\n",
    "with open('../data/cath/iid/ALL.fasta', 'w')as f:\n",
    "\tfor k, v in chain_to_seq.items():\n",
    "\t\tf.write('>' + k + '\\n' + v + '\\n')\n"
   ]
  },
  {
   "cell_type": "code",
   "execution_count": 27,
   "metadata": {},
   "outputs": [],
   "source": [
    "lefts = []\n",
    "rights = []\n",
    "with open('../data/cath/iid/mmseqs/clusterRes2_cluster.tsv', 'r') as f:\n",
    "\tfor line in f.readlines():\n",
    "\t\tline = line.split('\t')\n",
    "\t\tleft = line[0]\n",
    "\t\tright = line[1]\n",
    "\t\tlefts.append(left)\n",
    "\t\trights.append(right)"
   ]
  },
  {
   "cell_type": "code",
   "execution_count": 41,
   "metadata": {},
   "outputs": [],
   "source": [
    "iid_chains = sorted(list(set(lefts)))"
   ]
  },
  {
   "cell_type": "code",
   "execution_count": 42,
   "metadata": {},
   "outputs": [
    {
     "name": "stdout",
     "output_type": "stream",
     "text": [
      "Number of chains before: 57880\n",
      "Number of chains after removing non iid: 7073\n"
     ]
    }
   ],
   "source": [
    "# remove non iid chains\n",
    "print(\"Number of chains before:\", len(chain_to_seq))\n",
    "tmp = copy.deepcopy(chain_to_seq)\n",
    "chain_to_seq = {}\n",
    "for chain in iid_chains:\n",
    "    chain_to_seq[chain] = tmp[chain]\n",
    "print(\"Number of chains after removing non iid:\", len(chain_to_seq))"
   ]
  },
  {
   "cell_type": "code",
   "execution_count": 43,
   "metadata": {},
   "outputs": [],
   "source": [
    "num_domains_iid = {}\n",
    "for chain in iid_chains:\n",
    "\tno = number_of_domains(chain)\n",
    "\tif no in num_domains_iid.keys():\n",
    "\t\tnum_domains_iid[no].append(chain)\n",
    "\telse:\n",
    "\t\tnum_domains_iid[no] = [chain]"
   ]
  },
  {
   "cell_type": "code",
   "execution_count": 44,
   "metadata": {},
   "outputs": [
    {
     "name": "stdout",
     "output_type": "stream",
     "text": [
      "3 1201\n",
      "2 2739\n",
      "1 2513\n",
      "4 395\n",
      "8 14\n",
      "6 44\n",
      "5 137\n",
      "7 20\n",
      "10 5\n",
      "13 1\n",
      "11 1\n",
      "9 2\n",
      "12 1\n"
     ]
    }
   ],
   "source": [
    "for no, chains in num_domains_iid.items():\n",
    "\tprint(no, len(chains))"
   ]
  },
  {
   "cell_type": "code",
   "execution_count": 45,
   "metadata": {},
   "outputs": [
    {
     "data": {
      "image/png": "[encoded data removed]",
      "text/plain": [
       "<Figure size 1008x936 with 1 Axes>"
      ]
     },
     "metadata": {
      "needs_background": "light"
     },
     "output_type": "display_data"
    },
    {
     "name": "stdout",
     "output_type": "stream",
     "text": [
      "Chains with 3 domains: 1201\n",
      "Chains with 2 domains: 2739\n",
      "Chains with 1 domains: 2513\n",
      "Chains with 4 domains: 395\n",
      "Chains with 8 domains: 14\n",
      "Chains with 6 domains: 44\n",
      "Chains with 5 domains: 137\n",
      "Chains with 7 domains: 20\n",
      "Chains with 10 domains: 5\n",
      "Chains with 13 domains: 1\n",
      "Chains with 11 domains: 1\n",
      "Chains with 9 domains: 2\n",
      "Chains with 12 domains: 1\n"
     ]
    }
   ],
   "source": [
    "domains = [i for i in range(1,21)]\n",
    "size = [len(num_domains_iid.get(i,[])) for i in range(1,21)]\n",
    "\n",
    "fig = plt.figure(figsize = (14, 13))\n",
    "\n",
    "# creating the bar plot\n",
    "plt.bar(domains, size, width = 0.4)\n",
    "\n",
    "plt.xlabel(\"Number of domains\")\n",
    "plt.ylabel(\"Number of chains\")\n",
    "plt.title(\"\")\n",
    "plt.show()\n",
    "\n",
    "for k in [int(x) for x in num_domains_iid.keys()]:\n",
    "    print(f\"Chains with {k} domains: {len(num_domains_iid[k])}\")"
   ]
  },
  {
   "cell_type": "code",
   "execution_count": 46,
   "metadata": {},
   "outputs": [
    {
     "data": {
      "image/png": "[encoded data removed]",
      "text/plain": [
       "<Figure size 1008x936 with 1 Axes>"
      ]
     },
     "metadata": {
      "needs_background": "light"
     },
     "output_type": "display_data"
    },
    {
     "name": "stdout",
     "output_type": "stream",
     "text": [
      "Chains with 1 domains: 2513\n",
      "Chains with 2 domains: 2739\n",
      "Chains with 3 domains: 1201\n",
      "Chains with 4 domains: 395\n",
      "Chains with 5 domains: 137\n",
      "Chains with > 5 domains: 88\n"
     ]
    }
   ],
   "source": [
    "n = 6\n",
    "domains = [str(i) for i in range(1,n)]\n",
    "size = [len(num_domains_iid.get(i,[] )) for i in range(1,n)]\n",
    "\n",
    "more_than_n = sum([len(num_domains_iid.get(i,[] )) for i in range(n,21)])\n",
    "\n",
    "domains.append('> 5')\n",
    "size.append(more_than_n)\n",
    "\n",
    "fig = plt.figure(figsize = (14, 13))\n",
    "\n",
    "# creating the bar plot\n",
    "plt.bar(domains, size, width = 0.4)\n",
    "\n",
    "plt.xlabel(\"Number of domains\")\n",
    "plt.ylabel(\"Number of chains\")\n",
    "plt.title(\"\")\n",
    "plt.show()\n",
    "\n",
    "for k in range(1, n):\n",
    "    try:\n",
    "        print(f\"Chains with {k} domains: {len(num_domains_iid[k])}\")\n",
    "    except KeyError:\n",
    "        continue\n",
    "\n",
    "print(f\"Chains with > {n-1} domains: {more_than_n}\")"
   ]
  },
  {
   "cell_type": "code",
   "execution_count": 47,
   "metadata": {},
   "outputs": [
    {
     "data": {
      "image/png": "[encoded data removed]",
      "text/plain": [
       "<Figure size 936x504 with 1 Axes>"
      ]
     },
     "metadata": {
      "needs_background": "light"
     },
     "output_type": "display_data"
    }
   ],
   "source": [
    "densities = {\n",
    "    '1' : [],\n",
    "    '2' : [],\n",
    "    '3' : [],\n",
    "    '4' : [],\n",
    "    '5' : [],\n",
    "    '> 5' : []\n",
    "    }\n",
    "n = 6\n",
    "\n",
    "for chain, seq in chain_to_seq.items():\n",
    "    no = number_of_domains(chain)\n",
    "    if no >= 6:\n",
    "            densities['> 5'].append(len(seq))\n",
    "    else:\n",
    "        densities[str(no)].append(len(seq))\n",
    "\n",
    "fig = plt.figure(figsize = (13, 7))\n",
    "labels = []\n",
    "\n",
    "for k, v in densities.items():\n",
    "    sns.kdeplot(data=v, bw_adjust=1.2)\n",
    "    labels.append(k)\n",
    "\n",
    "plt.legend(labels=labels)\n",
    "plt.xlabel(\"Sequence Length\")    \n",
    "plt.title(\"Density Plot\")\n",
    "plt.show()"
   ]
  },
  {
   "cell_type": "code",
   "execution_count": 49,
   "metadata": {},
   "outputs": [],
   "source": [
    "with open('../data/cath/iid/chains_to_seq_iid.json', 'w') as fp:\n",
    "    json.dump(chain_to_seq, fp)"
   ]
  },
  {
   "cell_type": "code",
   "execution_count": 48,
   "metadata": {},
   "outputs": [
    {
     "name": "stdout",
     "output_type": "stream",
     "text": [
      "Len: 21\n",
      "{'H', 'G', 'E', 'P', 'R', 'K', 'L', 'D', 'A', 'X', 'S', 'W', 'F', 'Y', 'V', 'N', 'Q', 'I', 'M', 'T', 'C'}\n"
     ]
    }
   ],
   "source": [
    "unique_amino_acids = set()\n",
    "for chain, seq in chain_to_seq.items():\n",
    "    for i, aa in enumerate(seq):\n",
    "        unique_amino_acids.add(aa)\n",
    "        \n",
    "print(\"Len:\", len(unique_amino_acids))\n",
    "print(unique_amino_acids)"
   ]
  },
  {
   "cell_type": "code",
   "execution_count": null,
   "metadata": {},
   "outputs": [],
   "source": [
    "# write every pdb code to a file to create mappings\n",
    "with open(\"../data/cath/iid/list_of_final_chains.txt\", \"w\") as f:\n",
    "\tfor chain in list(set([x[:4] for x in chain_to_seq.keys()])):\n",
    "\t\tf.write(chain + '\\n')"
   ]
  }
 ],
 "metadata": {
  "kernelspec": {
   "display_name": "base",
   "language": "python",
   "name": "python3"
  },
  "language_info": {
   "codemirror_mode": {
    "name": "ipython",
    "version": 3
   },
   "file_extension": ".py",
   "mimetype": "text/x-python",
   "name": "python",
   "nbconvert_exporter": "python",
   "pygments_lexer": "ipython3",
   "version": "3.9.12"
  },
  "orig_nbformat": 4,
  "vscode": {
   "interpreter": {
    "hash": "1b6993604730f8cf29f5900b73e8b88206f8a6983047fdc957f382b3e5d49baa"
   }
  }
 },
 "nbformat": 4,
 "nbformat_minor": 2
}
