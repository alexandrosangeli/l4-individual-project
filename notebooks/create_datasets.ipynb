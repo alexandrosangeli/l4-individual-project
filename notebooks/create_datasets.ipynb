{
 "cells": [
  {
   "cell_type": "code",
   "execution_count": 4,
   "id": "e8478a9b",
   "metadata": {},
   "outputs": [],
   "source": [
    "from helpers.helper import get_cath\n",
    "import numpy as np\n",
    "from Bio import SeqIO\n",
    "from os import listdir\n",
    "from os.path import isfile, join\n",
    "import pandas as pd\n"
   ]
  },
  {
   "cell_type": "code",
   "execution_count": 5,
   "id": "22502198",
   "metadata": {},
   "outputs": [],
   "source": [
    "def boundaries(seq, domain):\n",
    "    # return the boundaries from a sequence and a domain\n",
    "    # seq is only used for getting the length\n",
    "    bounds = np.zeros((len(seq)), dtype=np.int8)\n",
    "\n",
    "    for k, v in domain.items():\n",
    "        boundary_positions = v.split(',')\n",
    "        for b in boundary_positions:\n",
    "            indices = [int(i) for i in b.split('-')]\n",
    "            for i in indices:\n",
    "                bounds[i-1] = 1    \n",
    "    return np.array(bounds, dtype=np.float64)\n",
    "\n",
    "def boundaries8(seq, domain):\n",
    "    # return the boundaries from a sequence and a domain\n",
    "    # seq is only used for getting the length\n",
    "    bounds = np.zeros((len(seq)), dtype=np.int8)\n",
    "\n",
    "    for k, v in domain.items():\n",
    "        boundary_positions = v.split(',')\n",
    "        for b in boundary_positions:\n",
    "            indices = [int(i) for i in b.split('-')]\n",
    "            for i in indices:\n",
    "                low = max(i - 8, 0)\n",
    "                high = min(i + 8, len(seq))\n",
    "                for j in range(low, high + 1):\n",
    "                    bounds[j - 1] = 1    \n",
    "    return np.array(bounds, dtype=np.float64)\n",
    "\n",
    "\n",
    "def one_hot_seq(seq):\n",
    "    amino_acids = 'ACDEFGHIKLMNPQRSTVWY'\n",
    "    encoded = np.array([1 if elt == 'A' else 0 for elt in seq],dtype=np.float64)\n",
    "    # start from the second element since the first one is A and was created above\n",
    "    for amino_acid in amino_acids[1:]:\n",
    "        new = np.array([1 if elt == amino_acid else 0 for elt in seq])\n",
    "        encoded = np.vstack((encoded, new))\n",
    "\n",
    "    return encoded\n",
    "\n",
    "def int_encoding(seq):\n",
    "    amino_acids = 'XACDEFGHIKLMNPQRSTVWY'\n",
    "    lookup = {}\n",
    "    for i, aa in enumerate(amino_acids):\n",
    "        lookup[aa] = i\n",
    "\n",
    "    encoding = [lookup[aa] for aa in seq]\n",
    "    return np.array(encoding, dtype=np.float64) "
   ]
  },
  {
   "cell_type": "code",
   "execution_count": 13,
   "id": "7fc5a743",
   "metadata": {},
   "outputs": [],
   "source": [
    "mypath = '../data/pdb/bulk/1.5029/data'\n",
    "files = [f for f in listdir(mypath) if isfile(join(mypath, f))]"
   ]
  },
  {
   "cell_type": "code",
   "execution_count": 14,
   "id": "1b0d0ed4",
   "metadata": {},
   "outputs": [],
   "source": [
    "cath = get_cath()"
   ]
  },
  {
   "cell_type": "code",
   "execution_count": 16,
   "id": "211e3388",
   "metadata": {},
   "outputs": [],
   "source": [
    "def data_to_df(encode_fn):\n",
    "    counter = 0\n",
    "\n",
    "    # number of proteins/chains not found in the cath object (from the file)\n",
    "    miss = 0\n",
    "\n",
    "    df = pd.DataFrame(columns=['in', 'out'])\n",
    "    df['in'] = df['in'].astype(object)\n",
    "    df['out'] = df['out'].astype(object)\n",
    "\n",
    "    for i, f in enumerate(sorted(files)):\n",
    "        pdb_code = f[:4]\n",
    "        \n",
    "        pdb_file_path = f'../data/pdb/bulk/1.5029/data/{f}' \n",
    "\n",
    "        if not os.path.isfile(pdb_file_path):\n",
    "            # print(f'{pdb_file_path} does not exist.')\n",
    "            continue\n",
    "\n",
    "        chains = {record.id: record.seq for record in SeqIO.parse(pdb_file_path, 'pdb-seqres')}\n",
    "        \n",
    "        for j, chain in enumerate(chains.keys()):\n",
    "            query_chain = chains[chain]\n",
    "            seq = str(query_chain)\n",
    "            try:\n",
    "                domain = cath[pdb_code][chain[-1]]\n",
    "                input = encode_fn(seq)\n",
    "                target_data = boundaries8(seq, domain)\n",
    "                new_df = pd.DataFrame({'in':[input], 'out':[target_data]})\n",
    "                df = pd.concat([df,new_df], ignore_index=True)\n",
    "                counter += 1\n",
    "            except KeyError:\n",
    "                miss += 1\n",
    "        \n",
    "        if counter % 500 == 0:\n",
    "            print(f'Written {counter} files')\n",
    "\n",
    "    print(f'Missed: {miss}')\n",
    "    return df"
   ]
  },
  {
   "cell_type": "code",
   "execution_count": 17,
   "id": "1ad8d493",
   "metadata": {},
   "outputs": [
    {
     "name": "stdout",
     "output_type": "stream",
     "text": [
      "Written 1000 files\n",
      "Written 2500 files\n",
      "Written 4500 files\n",
      "Written 8000 files\n",
      "Written 9000 files\n",
      "Missed: 986\n"
     ]
    }
   ],
   "source": [
    "df = data_to_df(one_hot_seq)\n",
    "df.to_pickle('../data/cnn/data.csv')"
   ]
  },
  {
   "attachments": {},
   "cell_type": "markdown",
   "id": "22236d28",
   "metadata": {},
   "source": [
    "# Section 2\n",
    "In this section, instead of using one-hot encoding, the amino acids are encoded as integer numbers:\n",
    "\n",
    "A,C,D,E,F,G,H,I,K,L,M,N,P,Q,R,S,T,V,W,Y -> 1,2,3,4,5,6,7,8,9,10,11,12,13,14,15,16,17,18,19,20"
   ]
  },
  {
   "cell_type": "code",
   "execution_count": 38,
   "id": "4ce3333c",
   "metadata": {},
   "outputs": [],
   "source": [
    "def pad(x, size):\n",
    "    if len(x) < size:\n",
    "        x = np.pad(x, (0, size - len(x)), 'constant', constant_values=(0, 0))\n",
    "    return x"
   ]
  },
  {
   "cell_type": "code",
   "execution_count": 47,
   "id": "8f6b8c40",
   "metadata": {},
   "outputs": [
    {
     "data": {
      "text/html": [
       "<div>\n",
       "<style scoped>\n",
       "    .dataframe tbody tr th:only-of-type {\n",
       "        vertical-align: middle;\n",
       "    }\n",
       "\n",
       "    .dataframe tbody tr th {\n",
       "        vertical-align: top;\n",
       "    }\n",
       "\n",
       "    .dataframe thead th {\n",
       "        text-align: right;\n",
       "    }\n",
       "</style>\n",
       "<table border=\"1\" class=\"dataframe\">\n",
       "  <thead>\n",
       "    <tr style=\"text-align: right;\">\n",
       "      <th></th>\n",
       "      <th>in</th>\n",
       "      <th>out</th>\n",
       "    </tr>\n",
       "  </thead>\n",
       "  <tbody>\n",
       "    <tr>\n",
       "      <th>0</th>\n",
       "      <td>[18, 10, 16, 13, 1, 3, 9, 17, 12, 18, 9, 1, 1,...</td>\n",
       "      <td>[1.0, 0.0, 0.0, 0.0, 0.0, 0.0, 0.0, 0.0, 0.0, ...</td>\n",
       "    </tr>\n",
       "    <tr>\n",
       "      <th>1</th>\n",
       "      <td>[11, 7, 10, 17, 13, 4, 4, 9, 16, 1, 18, 17, 1,...</td>\n",
       "      <td>[1.0, 0.0, 0.0, 0.0, 0.0, 0.0, 0.0, 0.0, 0.0, ...</td>\n",
       "    </tr>\n",
       "    <tr>\n",
       "      <th>2</th>\n",
       "      <td>[18, 10, 16, 13, 1, 3, 9, 17, 12, 18, 9, 1, 1,...</td>\n",
       "      <td>[1.0, 0.0, 0.0, 0.0, 0.0, 0.0, 0.0, 0.0, 0.0, ...</td>\n",
       "    </tr>\n",
       "    <tr>\n",
       "      <th>3</th>\n",
       "      <td>[11, 7, 10, 17, 13, 4, 4, 9, 16, 1, 18, 17, 1,...</td>\n",
       "      <td>[1.0, 0.0, 0.0, 0.0, 0.0, 0.0, 0.0, 0.0, 0.0, ...</td>\n",
       "    </tr>\n",
       "    <tr>\n",
       "      <th>4</th>\n",
       "      <td>[18, 10, 16, 13, 1, 3, 9, 17, 12, 18, 9, 1, 1,...</td>\n",
       "      <td>[1.0, 0.0, 0.0, 0.0, 0.0, 0.0, 0.0, 0.0, 0.0, ...</td>\n",
       "    </tr>\n",
       "    <tr>\n",
       "      <th>...</th>\n",
       "      <td>...</td>\n",
       "      <td>...</td>\n",
       "    </tr>\n",
       "    <tr>\n",
       "      <th>9164</th>\n",
       "      <td>[17, 17, 20, 9, 10, 8, 10, 12, 6, 9, 17, 10, 9...</td>\n",
       "      <td>[1.0, 0.0, 0.0, 0.0, 0.0, 0.0, 0.0, 0.0, 0.0, ...</td>\n",
       "    </tr>\n",
       "    <tr>\n",
       "      <th>9165</th>\n",
       "      <td>[11, 9, 12, 1, 17, 5, 20, 10, 10, 3, 12, 3, 17...</td>\n",
       "      <td>[1.0, 0.0, 0.0, 0.0, 0.0, 0.0, 0.0, 0.0, 0.0, ...</td>\n",
       "    </tr>\n",
       "    <tr>\n",
       "      <th>9166</th>\n",
       "      <td>[14, 6, 4, 8, 1, 8, 1, 8, 13, 1, 7, 18, 15, 10...</td>\n",
       "      <td>[0.0, 1.0, 0.0, 0.0, 0.0, 0.0, 0.0, 0.0, 0.0, ...</td>\n",
       "    </tr>\n",
       "    <tr>\n",
       "      <th>9167</th>\n",
       "      <td>[11, 9, 12, 1, 17, 5, 20, 10, 10, 3, 12, 3, 17...</td>\n",
       "      <td>[1.0, 0.0, 0.0, 0.0, 0.0, 0.0, 0.0, 0.0, 0.0, ...</td>\n",
       "    </tr>\n",
       "    <tr>\n",
       "      <th>9168</th>\n",
       "      <td>[14, 6, 4, 8, 1, 8, 1, 8, 13, 1, 7, 18, 15, 10...</td>\n",
       "      <td>[1.0, 0.0, 0.0, 0.0, 0.0, 0.0, 0.0, 0.0, 0.0, ...</td>\n",
       "    </tr>\n",
       "  </tbody>\n",
       "</table>\n",
       "<p>9169 rows × 2 columns</p>\n",
       "</div>"
      ],
      "text/plain": [
       "                                                     in  \\\n",
       "0     [18, 10, 16, 13, 1, 3, 9, 17, 12, 18, 9, 1, 1,...   \n",
       "1     [11, 7, 10, 17, 13, 4, 4, 9, 16, 1, 18, 17, 1,...   \n",
       "2     [18, 10, 16, 13, 1, 3, 9, 17, 12, 18, 9, 1, 1,...   \n",
       "3     [11, 7, 10, 17, 13, 4, 4, 9, 16, 1, 18, 17, 1,...   \n",
       "4     [18, 10, 16, 13, 1, 3, 9, 17, 12, 18, 9, 1, 1,...   \n",
       "...                                                 ...   \n",
       "9164  [17, 17, 20, 9, 10, 8, 10, 12, 6, 9, 17, 10, 9...   \n",
       "9165  [11, 9, 12, 1, 17, 5, 20, 10, 10, 3, 12, 3, 17...   \n",
       "9166  [14, 6, 4, 8, 1, 8, 1, 8, 13, 1, 7, 18, 15, 10...   \n",
       "9167  [11, 9, 12, 1, 17, 5, 20, 10, 10, 3, 12, 3, 17...   \n",
       "9168  [14, 6, 4, 8, 1, 8, 1, 8, 13, 1, 7, 18, 15, 10...   \n",
       "\n",
       "                                                    out  \n",
       "0     [1.0, 0.0, 0.0, 0.0, 0.0, 0.0, 0.0, 0.0, 0.0, ...  \n",
       "1     [1.0, 0.0, 0.0, 0.0, 0.0, 0.0, 0.0, 0.0, 0.0, ...  \n",
       "2     [1.0, 0.0, 0.0, 0.0, 0.0, 0.0, 0.0, 0.0, 0.0, ...  \n",
       "3     [1.0, 0.0, 0.0, 0.0, 0.0, 0.0, 0.0, 0.0, 0.0, ...  \n",
       "4     [1.0, 0.0, 0.0, 0.0, 0.0, 0.0, 0.0, 0.0, 0.0, ...  \n",
       "...                                                 ...  \n",
       "9164  [1.0, 0.0, 0.0, 0.0, 0.0, 0.0, 0.0, 0.0, 0.0, ...  \n",
       "9165  [1.0, 0.0, 0.0, 0.0, 0.0, 0.0, 0.0, 0.0, 0.0, ...  \n",
       "9166  [0.0, 1.0, 0.0, 0.0, 0.0, 0.0, 0.0, 0.0, 0.0, ...  \n",
       "9167  [1.0, 0.0, 0.0, 0.0, 0.0, 0.0, 0.0, 0.0, 0.0, ...  \n",
       "9168  [1.0, 0.0, 0.0, 0.0, 0.0, 0.0, 0.0, 0.0, 0.0, ...  \n",
       "\n",
       "[9169 rows x 2 columns]"
      ]
     },
     "execution_count": 47,
     "metadata": {},
     "output_type": "execute_result"
    }
   ],
   "source": [
    "df"
   ]
  },
  {
   "cell_type": "code",
   "execution_count": 49,
   "id": "82ac8b70",
   "metadata": {},
   "outputs": [
    {
     "name": "stdout",
     "output_type": "stream",
     "text": [
      "Written 1000 files\n",
      "Written 2500 files\n",
      "Written 4500 files\n",
      "Written 8000 files\n",
      "Written 9000 files\n",
      "Missed: 986\n"
     ]
    }
   ],
   "source": [
    "df = data_to_df(int_encoding)\n",
    "df['in'] = df['in'].map(lambda x : pad(x, 1500))\n",
    "df['out'] = df['out'].map(lambda x : pad(x, 1500))\n",
    "df.to_pickle('../data/rnn/data.csv')"
   ]
  }
 ],
 "metadata": {
  "kernelspec": {
   "display_name": "Python 3.9.12 ('base')",
   "language": "python",
   "name": "python3"
  },
  "language_info": {
   "codemirror_mode": {
    "name": "ipython",
    "version": 3
   },
   "file_extension": ".py",
   "mimetype": "text/x-python",
   "name": "python",
   "nbconvert_exporter": "python",
   "pygments_lexer": "ipython3",
   "version": "3.9.12"
  },
  "vscode": {
   "interpreter": {
    "hash": "1b6993604730f8cf29f5900b73e8b88206f8a6983047fdc957f382b3e5d49baa"
   }
  }
 },
 "nbformat": 4,
 "nbformat_minor": 5
}
