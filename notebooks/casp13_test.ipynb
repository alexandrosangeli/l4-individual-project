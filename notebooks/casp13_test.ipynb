{
  "cells": [
    {
      "cell_type": "markdown",
      "metadata": {
        "id": "c3-S7PmSW0RN"
      },
      "source": [
        "# Upgrade Pandas"
      ]
    },
    {
      "cell_type": "code",
      "execution_count": 1,
      "metadata": {
        "colab": {
          "base_uri": "https://localhost:8080/"
        },
        "id": "_nzUgkYVnpgJ",
        "outputId": "f998fb68-2912-4fed-e897-286164db6ed1"
      },
      "outputs": [
        {
          "name": "stdout",
          "output_type": "stream",
          "text": [
            "Looking in indexes: https://pypi.org/simple, https://us-python.pkg.dev/colab-wheels/public/simple/\n",
            "Collecting pandas==1.4.2\n",
            "  Downloading pandas-1.4.2-cp39-cp39-manylinux_2_17_x86_64.manylinux2014_x86_64.whl (11.7 MB)\n",
            "\u001b[2K     \u001b[90m━━━━━━━━━━━━━━━━━━━━━━━━━━━━━━━━━━━━━━━━\u001b[0m \u001b[32m11.7/11.7 MB\u001b[0m \u001b[31m40.7 MB/s\u001b[0m eta \u001b[36m0:00:00\u001b[0m\n",
            "\u001b[?25hRequirement already satisfied: python-dateutil>=2.8.1 in /usr/local/lib/python3.9/dist-packages (from pandas==1.4.2) (2.8.2)\n",
            "Requirement already satisfied: numpy>=1.18.5 in /usr/local/lib/python3.9/dist-packages (from pandas==1.4.2) (1.22.4)\n",
            "Requirement already satisfied: pytz>=2020.1 in /usr/local/lib/python3.9/dist-packages (from pandas==1.4.2) (2022.7.1)\n",
            "Requirement already satisfied: six>=1.5 in /usr/local/lib/python3.9/dist-packages (from python-dateutil>=2.8.1->pandas==1.4.2) (1.16.0)\n",
            "Installing collected packages: pandas\n",
            "  Attempting uninstall: pandas\n",
            "    Found existing installation: pandas 1.4.4\n",
            "    Uninstalling pandas-1.4.4:\n",
            "      Successfully uninstalled pandas-1.4.4\n",
            "Successfully installed pandas-1.4.2\n"
          ]
        }
      ],
      "source": [
        "!pip install pandas==1.4.2"
      ]
    },
    {
      "cell_type": "markdown",
      "metadata": {
        "id": "qMlFiJwVW5Xh"
      },
      "source": [
        "# Imports"
      ]
    },
    {
      "cell_type": "code",
      "execution_count": 2,
      "metadata": {
        "id": "H1uuBG4EW-PG"
      },
      "outputs": [],
      "source": [
        "import torch\n",
        "import torch.nn as nn\n",
        "import torchvision\n",
        "import torchvision.transforms as transforms\n",
        "from torch.utils.data import DataLoader, Dataset, Subset\n",
        "from sklearn.metrics import roc_curve, auc\n",
        "import pandas as pd\n",
        "import numpy as np\n",
        "import time\n",
        "import random\n",
        "import logging\n",
        "import os.path\n",
        "import matplotlib.pyplot as plt\n",
        "import json\n",
        "import seaborn as sn\n",
        "import pandas as pd\n",
        "import matplotlib \n",
        "import matplotlib.pyplot as plt"
      ]
    },
    {
      "cell_type": "code",
      "execution_count": 3,
      "metadata": {
        "id": "9GbkVgPaG92o"
      },
      "outputs": [],
      "source": [
        "with open('../data/casp13/casp13_data.json') as json_file:\n",
        "    casp13_dict = json.load(json_file)"
      ]
    },
    {
      "cell_type": "markdown",
      "metadata": {
        "id": "4MrmhjTZWtul"
      },
      "source": [
        "# Functions"
      ]
    },
    {
      "cell_type": "markdown",
      "metadata": {
        "id": "4V8-jucIUZnZ"
      },
      "source": [
        "## Helpers"
      ]
    },
    {
      "cell_type": "code",
      "execution_count": 4,
      "metadata": {
        "id": "Jf8HhdmUynxl"
      },
      "outputs": [],
      "source": [
        "def save_model_history(model, encoding, k):\n",
        "    with open(f'drive/My Drive/University of Glasgow/L4/L4 Project/models/trained/BiLSTM_{encoding}_fold{k}_hist.txt', 'w') as f:\n",
        "        f.write(\"mcc:\" + '\\n')\n",
        "        for elt in model.mcc_history:\n",
        "            f.write(str(elt) + '\\n')\n",
        "\n",
        "        f.write(\"loss:\" + '\\n')\n",
        "        for elt in model.loss_history:\n",
        "            f.write(str(elt) + '\\n')"
      ]
    },
    {
      "cell_type": "code",
      "execution_count": 5,
      "metadata": {
        "id": "x-NVpn5AUf5I"
      },
      "outputs": [],
      "source": [
        "def is_disc(chain):\n",
        "\tdomains = casp13_dict['domains'][chain]\n",
        "\tfor _, bounds in domains.items():\n",
        "\t\tif ';' in bounds:\n",
        "\t\t\treturn True\n",
        "\treturn False\n",
        "\n",
        "def boundaries_to_domains(binary_vector):\n",
        "    binary_vector = np.copy(binary_vector)\n",
        "    domain = 1\n",
        "    for i in range(len(binary_vector)):\n",
        "        if int(binary_vector[i]) == 1:\n",
        "            # this is the start of a new domain\n",
        "            domain += 1\n",
        "        binary_vector[i] = domain\n",
        "    return binary_vector.astype(int)\n",
        "\n",
        "def ndo_score(y_pred, y_true, key):\n",
        "    if is_disc(key):\n",
        "        return 'n/a'\n",
        "\n",
        "    y_pred = boundaries_to_domains(y_pred)\n",
        "    y_true = boundaries_to_domains(y_true)\n",
        "\n",
        "    table = np.zeros((max(y_pred)+2,max(y_true)+2))\n",
        "    \n",
        "    for d_pred, d_true in zip(y_pred, y_true):\n",
        "        table[d_pred, d_true] += 1\n",
        "\n",
        "    # columns\n",
        "    for i in range(1, table.shape[1]-1):\n",
        "        table[-1, i] = 2 * max(table[:, i]) - sum(table[:, i])\n",
        "\n",
        "    # rows\n",
        "    for i in range(1, table.shape[0]-1):\n",
        "        table[i, -1] = 2 * max(table[i, :]) - sum(table[i, :])\n",
        "\n",
        "    table[-1, -1] = (sum(table[:, -1]) + sum(table[-1, :])) / 2\n",
        "\n",
        "\n",
        "    num_of_defined_domains = 0\n",
        "    for elt in y_true:\n",
        "        if elt > 0:\n",
        "            num_of_defined_domains += 1\n",
        "    score = table[-1, -1] / num_of_defined_domains\n",
        "\n",
        "    return score\n",
        "\n",
        "\n",
        "\n",
        "def plot_losses(losses):\n",
        "    x_label = \"Steps\"\n",
        "    y_label = \"Running loss\"\n",
        "\n",
        "    # Plot the losses\n",
        "    plt.figure(figsize=(8, 6), dpi=80)\n",
        "    plt.title(\"Running loss over time\")\n",
        "    plt.plot(losses)\n",
        "\n",
        "    # Add x and y labels to the plot\n",
        "    plt.xlabel(x_label)\n",
        "    plt.ylabel(y_label)\n",
        "\n",
        "    # Display the plot\n",
        "    plt.show()\n",
        "\n",
        "\n",
        "def update_dict(data, code, chain, domain, boundaries):\n",
        "    data[code] = data.get(code, {})\n",
        "    if chain not in data[code].keys():\n",
        "        data[code][chain] = {}\n",
        "    data[code][chain][str(int(domain))] = boundaries\n",
        "    return data\n",
        "\n",
        "\n",
        "def num_of_domains(key):\n",
        "    return len(casp13_dict['domains'][key])\n",
        "\n",
        "\n",
        "def get_cath(lines_range = None, file=\"../data/cath/cath_domain_boundaries.txt\", verb=False):\n",
        "    with open(file, \"r\") as f:\n",
        "        lines = f.readlines() if lines_range is None else f.readlines()[lines_range[0]:lines_range[1]]\n",
        "        lines = map(lambda x : x.strip(), lines)\n",
        "        big = 0\n",
        "        data = {}\n",
        "        for line in lines:\n",
        "            name, boundaries = line.split(\"\\t\")\n",
        "            code = name[:4]\n",
        "            chain = name[4]\n",
        "            domain = name[5:]\n",
        "            data = update_dict(data, code, chain, domain, boundaries)\n",
        "    # verb and pprint(data)\n",
        "    return data\n",
        "\n",
        "def load_data(path, encoding):\n",
        "    encoding_file = encoding_map[encoding]\n",
        "    data = pd.read_pickle(path + encoding_file)\n",
        "    return data\n",
        "\n",
        "\n",
        "def median_seq(seq, logits):\n",
        "    # parse a sequence (which will be the output from the model)\n",
        "    # for every series of consecutive ones, leave only the median as one - the rest turn to 0\n",
        "    # seq = [1,1,0,0,0,0,0,1,1,1,0,0,0,0,0,1,1,1,0,1,1]\n",
        "    new_seq = np.zeros(len(seq))\n",
        "    consecutive_ones_indices = []\n",
        "    medians = []\n",
        "\n",
        "    # marks if the first consecutive zeros that are less than the typical size is the first (meaning is the beginning of the first domain)\n",
        "    for i in range(len(seq)):\n",
        "        if seq[i] == 0:\n",
        "            if len(consecutive_ones_indices) > 0:\n",
        "                h = [logits[elt] for elt in consecutive_ones_indices]\n",
        "                point = consecutive_ones_indices[np.argmax(h)]\n",
        "                medians.append(point)\n",
        "            consecutive_ones_indices = []\n",
        "\n",
        "        if seq[i] == 1:\n",
        "            consecutive_ones_indices.append(i)\n",
        "\n",
        "    if len(consecutive_ones_indices) > 0:\n",
        "        h = [logits[elt] for elt in consecutive_ones_indices]\n",
        "        point = consecutive_ones_indices[np.argmax(h)]\n",
        "        medians.append(point)\n",
        "\n",
        "    for elt in medians:\n",
        "        new_seq[elt] = 1\n",
        "\n",
        "    return new_seq\n",
        "\n",
        "def amplify_sharp(arr, size=41):\n",
        "    conv = np.ones((size))\n",
        "    result = np.convolve(arr, conv, mode='same')\n",
        "    normalize_by = np.max(result)\n",
        "    result = result / max(normalize_by, 1)\n",
        "    return result "
      ]
    },
    {
      "cell_type": "markdown",
      "metadata": {
        "id": "7LFMVrbaUVsu"
      },
      "source": [
        "## Metrics"
      ]
    },
    {
      "cell_type": "code",
      "execution_count": 6,
      "metadata": {
        "id": "Z31age0TW--u"
      },
      "outputs": [],
      "source": [
        "def confusion_matrix_B(all_y_pred, all_y_true, t, margin=20):\n",
        "    ts, tm, fs, fm = 0, 0, 0, 0\n",
        "    for (y_pred, y_true) in zip(all_y_pred, all_y_true):\n",
        "        y_true = np.copy(y_true)\n",
        "        y_pred = np.copy(median_seq(np.where(y_pred > t, 1, 0), y_pred))\n",
        "        \n",
        "        # for i in range(len(y_pred)):\n",
        "        #     window = y_true[max(0, i-margin):min(len(y_true), i+margin+1)]\n",
        "        #     indices_window = list(range(max(0, i-margin), min(len(y_true), i+margin+1)))\n",
        "        #     if y_pred[i] == 1.0:\n",
        "        #         if 1.0 in window:\n",
        "        #             pos = np.where(window == 1.0)[0][0]\n",
        "        #             j = indices_window[pos]\n",
        "        #             y_true[j] = 0.0\n",
        "        #         else:\n",
        "        #             y_pred[i] = 0.0\n",
        "\n",
        "        true_num = np.sum(y_true)\n",
        "        pred_num = np.sum(y_pred)\n",
        "        if int(true_num) == 0 and int(pred_num) == 0:\n",
        "            ts += 1\n",
        "        \n",
        "        if int(true_num) > 0 and int(pred_num) > 0:\n",
        "            tm += 1\n",
        "\n",
        "        if int(true_num) == 0 and int(pred_num) > 0:\n",
        "            fm += 1\n",
        "\n",
        "        if int(true_num) > 0 and int(pred_num) == 0:\n",
        "            fs += 1\n",
        "    return (ts, tm, fs, fm)"
      ]
    },
    {
      "cell_type": "code",
      "execution_count": 7,
      "metadata": {
        "id": "r0sETYntR3ID"
      },
      "outputs": [],
      "source": [
        "# mcc optmization\n",
        "# def confusion_matrix_B(all_y_pred, all_y_true, t):\n",
        "#     ts, tm, fs, fm = 0, 0, 0, 0\n",
        "#     for (pred, true) in zip(all_y_pred, all_y_true):\n",
        "#         pred = np.where(pred > t, 1, 0)\n",
        "#         pred = median_seq(pred)\n",
        "#         true_num = np.sum(true)\n",
        "#         pred_num = np.sum(pred)\n",
        "#         if int(true_num) == 0 and int(pred_num) == 0:\n",
        "#             ts += 1\n",
        "        \n",
        "#         if int(true_num) > 0 and int(pred_num) > 0:\n",
        "#             tm += 1\n",
        "\n",
        "#         if int(true_num) == 0 and int(pred_num) > 0:\n",
        "#             fm += 1\n",
        "\n",
        "#         if int(true_num) > 0 and int(pred_num) == 0:\n",
        "#             fs += 1\n",
        "#     return (ts, tm, fs, fm)\n",
        "\n",
        "def mcc_single_multi(ts, tm, fs, fm):\n",
        "    mcc_num = (tm * ts) - (fm * fs)\n",
        "    mcc_den = ((tm + fm) * (tm + fs) * (fm + ts) * (ts + fs))**0.5\n",
        "    mcc = mcc_num / mcc_den if mcc_den != 0 else 0\n",
        "    return mcc\n",
        "\n",
        "def optimise_single_multi_mcc(all_y_pred, all_y_true, max_num_iterations=10, linspace_size=16, start=0, end=1, ):\n",
        "    best_score = 0\n",
        "    i = 0\n",
        "    flag = True\n",
        "    pairs = []\n",
        "    while max_num_iterations > i and flag:\n",
        "        flag = False\n",
        "        for t in np.linspace(start, end, linspace_size):\n",
        "            ts, tm, fs, fm = confusion_matrix_B(all_y_pred, all_y_true, t)\n",
        "            ps, rs, pm, rm, acc, mcc = num_of_domains_metrics((ts, tm, fs, fm))\n",
        "            score = mcc\n",
        "            # score = mcc_single_multi(ts, tm, fs, fm)\n",
        "            pairs.append((ps, rs, pm, rm, acc, mcc, t))\n",
        "            if score > best_score:\n",
        "                best_t = t\n",
        "                best_score = score\n",
        "                flag = True\n",
        "        start = best_t * 0.7\n",
        "        end = best_t * 1.3\n",
        "        i += 1\n",
        "        linspace_size += 2\n",
        "    return best_score, best_t, pairs"
      ]
    },
    {
      "cell_type": "code",
      "execution_count": 8,
      "metadata": {
        "id": "LgOzgZv3UcFX"
      },
      "outputs": [],
      "source": [
        "def dbd_score(y_pred, y_true, margin=20):\n",
        "    \"\"\"A variation of DBD above that instead of finding a 1 in the window\n",
        "        we find the closest one. We expect this would increase the mean dbd\"\"\"\n",
        "    scores = []\n",
        "    number_of_true_boundaries = np.sum(y_true)\n",
        "    number_of_pred_boundaries = np.sum(y_pred)\n",
        "    denominator = max(number_of_true_boundaries,number_of_pred_boundaries)\n",
        "\n",
        "    if denominator == 0:\n",
        "        return 'n/a'\n",
        "\n",
        "    y_true_cp = np.copy(y_true)\n",
        "    for i in range(len(y_pred)):\n",
        "        window = y_true_cp[max(0, i-margin):min(len(y_true_cp), i+margin+1)]\n",
        "        indices_window = list(range(max(0, i-margin), min(len(y_true_cp), i+margin+1)))\n",
        "        if y_pred[i] == 1.0:\n",
        "            if 1.0 in window:\n",
        "                positions_with_boundaries = np.argwhere(window == 1).flatten()\n",
        "                js = [indices_window[pos] for pos in positions_with_boundaries]\n",
        "                closest_j = js[0]\n",
        "                for j in js:\n",
        "                    if abs(j - i) < abs(closest_j - i):\n",
        "                        closest_j = j\n",
        "                diff = abs(i - closest_j)\n",
        "                score = ((margin - diff) + 1) / (margin + 1)\n",
        "                y_true_cp[closest_j] = 0\n",
        "                scores.append(score)\n",
        "    return np.sum(scores) / denominator\n",
        "\n",
        "\n",
        "def confusion_matrix_bp(y_pred, y_true, margin):\n",
        "    tp = 0\n",
        "    tn = 0\n",
        "    fp = 0\n",
        "    fn = 0\n",
        "\n",
        "    y_true_cp = np.copy(y_true)\n",
        "\n",
        "    for i in range(len(y_pred)):\n",
        "        window = y_true_cp[max(0, i-margin):min(len(y_true_cp), i+margin+1)]\n",
        "        indices_window = list(range(max(0, i-margin), min(len(y_true_cp), i+margin+1)))\n",
        "        if y_pred[i] == 1.0:\n",
        "            if 1.0 in window:\n",
        "                pos = np.where(window == 1.0)[0][0]\n",
        "                j = indices_window[pos]\n",
        "                y_true_cp[j] = 0.0\n",
        "                tp += 1\n",
        "            else:\n",
        "                fp += 1\n",
        "\n",
        "    for i in range(len(y_pred)):\n",
        "        if y_pred[i] == 0.0:\n",
        "            if  y_true_cp[i] == 1.0:\n",
        "                fn += 1\n",
        "            else:\n",
        "                tn += 1\n",
        "\n",
        "    return (tp, tn, fp, fn)\n",
        "\n",
        "\n",
        "def num_of_domains_metrics(confusion_matrix_num):\n",
        "    ts, tm, fs, fm = confusion_matrix_num\n",
        "    # single\n",
        "    pre_single = ts / (ts + fs) if (ts + fs) != 0 else 0\n",
        "    rec_single = ts / (ts + fm) if (ts + fm) != 0 else 0\n",
        "    \n",
        "    # multi\n",
        "    pre_multi = tm / (tm + fm) if (tm + fm) != 0 else 0\n",
        "    rec_multi = tm / (tm + fs) if (tm + fs) != 0 else 0\n",
        "\n",
        "    acc = (tm + ts) / (tm + ts + fm + fs)\n",
        "\n",
        "    # mcc\n",
        "    mcc_num = (tm * ts) - (fm * fs)\n",
        "    mcc_den = ((tm + fm) * (tm + fs) * (fm + ts) * (ts + fs))**0.5\n",
        "    mcc = mcc_num / mcc_den if mcc_den != 0 else 0\n",
        "\n",
        "    return (pre_single, rec_single, pre_multi, rec_multi, acc, mcc)\n",
        "\n",
        "def boundary_prediction_metrics(y_pred, y_true, key, margin=20):\n",
        "    tp, tn, fp, fn = confusion_matrix_bp(y_pred, y_true, margin)\n",
        "\n",
        "    mcc_num = (tp * tn) - (fp * fn)\n",
        "    mcc_den = np.sqrt((tp + fp) * (tp + fn) * (tn + fp) * (tn + fn))\n",
        "    mcc = mcc_num / mcc_den if mcc_den else 0\n",
        "\n",
        "    dbd = dbd_score(y_pred, y_true, 8)\n",
        "    ndo = ndo_score(y_pred, y_true, key)\n",
        "\n",
        "    return (ndo, dbd, mcc)\n",
        "\n",
        "def domain_number_metrics(all_y_pred, all_y_true, t):\n",
        "    ts, tm, fs, fm = confusion_matrix_B(all_y_pred, all_y_true, t)\n",
        "    pre_single, rec_single, pre_multi, rec_multi, acc, mcc = num_of_domains_metrics((ts, tm, fs, fm))\n",
        "    return pre_single, rec_single, pre_multi, rec_multi, acc, mcc"
      ]
    },
    {
      "cell_type": "markdown",
      "metadata": {
        "id": "24OWolUJUSdz"
      },
      "source": [
        "## Train"
      ]
    },
    {
      "cell_type": "code",
      "execution_count": 9,
      "metadata": {
        "id": "r676w_BTPawE"
      },
      "outputs": [],
      "source": [
        "def save_for_cutoff_optimisation(model, validation_loader):\n",
        "    all_y_true = None\n",
        "    all_y_pred = None\n",
        "    n_samples = len(validation_loader)\n",
        "    model.eval()\n",
        "    with torch.no_grad():\n",
        "        for i, (input, y_true, _, key, _) in enumerate(validation_loader):\n",
        "            input = input.float().to(device)\n",
        "            y_pred = model(input)\n",
        "\n",
        "            y_pred = y_pred.cpu()\n",
        "            y_true = y_true.cpu().detach().numpy()\n",
        "\n",
        "            y_pred = y_pred.reshape(-1)\n",
        "            y_true = y_true.reshape(-1)\n",
        "    \n",
        "            if  (all_y_true is None) and (all_y_pred is None):\n",
        "                all_y_true = y_true\n",
        "                all_y_pred = y_pred\n",
        "            else:\n",
        "                all_y_true = np.vstack((all_y_true, y_true))\n",
        "                all_y_pred = np.vstack((all_y_pred, y_pred))\n",
        "    model.train()\n",
        "    return all_y_pred, all_y_true\n",
        "\n",
        "\n",
        "def get_best_mcc(model, validation_loader):\n",
        "    all_y_pred, all_y_true = save_for_cutoff_optimisation(model, validation_loader)\n",
        "    best_score, best_t, pairs = optimise_single_multi_mcc(all_y_pred, all_y_true)\n",
        "    return best_score, best_t, pairs"
      ]
    },
    {
      "cell_type": "code",
      "execution_count": 10,
      "metadata": {
        "id": "79_jSryuUnEJ"
      },
      "outputs": [],
      "source": [
        "\n",
        "def train(model, optimizer, scheduler, train_loader, num_epochs, validation_loader):\n",
        "    n_total_steps = len(train_loader)\n",
        "    print(\"Starting Training\")\n",
        "    model.train()\n",
        "    for epoch in range(num_epochs):\n",
        "        all_y_true = None\n",
        "        all_y_pred = None\n",
        "        running_loss = []\n",
        "        validation_loss = []\n",
        "        for i, (x, y_true, y_amplified, _, _) in enumerate(train_loader):\n",
        "            x = x.to(device).float()\n",
        "            y_true = y_true.reshape(-1)\n",
        "            y_amplified = y_amplified.to(device).float().reshape(-1)\n",
        "            y_pred = model(x).reshape(-1)\n",
        "            loss = criterion(y_pred, y_amplified)\n",
        "            optimizer.zero_grad()\n",
        "            loss.backward()\n",
        "            optimizer.step()\n",
        "\n",
        "            running_loss.append(loss.item())\n",
        "\n",
        "            if (i+1) % 10 == 0:\n",
        "                print(f'Epoch: [{epoch+1}/{num_epochs}], Step: [{i+1}/{n_total_steps}], Running Loss: {np.mean(running_loss):.4f}')\n",
        "                model.loss_history.append(np.mean(running_loss))\n",
        "                running_loss = []\n",
        "\n",
        "        model.eval()\n",
        "        with torch.no_grad():\n",
        "            for i, (x, y_true, y_amplified, _, seq_len) in enumerate(validation_loader):\n",
        "                seq_len = seq_len.to(device)\n",
        "                x = x.to(device).float()\n",
        "                y_amplified = y_amplified.to(device).float().reshape(-1)\n",
        "                y_pred = model(x).reshape(-1).float().to(device)\n",
        "                loss = criterion(y_pred, y_amplified)\n",
        "                validation_loss.append(loss.item())\n",
        "\n",
        "                if (i+1) % 2 == 0:\n",
        "                    print(f'Epoch: [{epoch+1}/{num_epochs}], Step: [{i+1}/{len(validation_loader)}], Running (Val) Loss: {np.mean(validation_loss):.4f}')\n",
        "                    model.validation_loss_history.append(np.mean(validation_loss))\n",
        "                    validation_loss = []    \n",
        "\n",
        "            print(f'Epoch: [{epoch+1}/{num_epochs}], Step: [{i+1}/{len(validation_loader)}], Running (Val) Loss: {np.mean(validation_loss):.4f}')\n",
        "            model.validation_loss_history.append(np.mean(validation_loss))\n",
        "\n",
        "        print(f'Epoch: [{epoch+1}/{num_epochs}], Training Loss: {np.mean(running_loss):.4f}, Validation Loss: {np.mean(validation_loss):.4f}')\n",
        "        scheduler.step()\n",
        "        \n",
        "    print(f'Finished training')\n",
        "\n",
        "    return model"
      ]
    },
    {
      "cell_type": "markdown",
      "metadata": {
        "id": "PwW1F-wU-aRY"
      },
      "source": [
        "## Test"
      ]
    },
    {
      "cell_type": "code",
      "execution_count": 11,
      "metadata": {
        "id": "gEwwhS3N-ZcO"
      },
      "outputs": [],
      "source": [
        "def test(model, validation_loader):\n",
        "    n_samples = len(validation_loader)\n",
        "    # mcc_single_multi, threshold = model.mcc_history[-1]\n",
        "    best_score, threshold, _ = get_best_mcc(model, casp_loader)\n",
        "    scores = {}\n",
        "    all_y_pred, all_y_true = None, None\n",
        "    print(\"Starting Testing\")\n",
        "    model.eval()\n",
        "    with torch.no_grad():\n",
        "        for i, (input, y_true, _, key, seq_len) in enumerate(validation_loader):\n",
        "            input = input.float().to(device)\n",
        "            y_pred = model(input)\n",
        "\n",
        "            y_pred = y_pred.cpu()\n",
        "            y_true = y_true.cpu().detach().numpy()\n",
        "\n",
        "            y_pred = y_pred.reshape(-1)\n",
        "            y_true = y_true.reshape(-1)\n",
        "\n",
        "            logits = np.copy(y_pred.float().cpu().detach().numpy())\n",
        "            y_pred = (y_pred > threshold).float().cpu().detach().numpy()\n",
        "            y_pred = median_seq(y_pred, logits)\n",
        "\n",
        "\n",
        "            if  (all_y_true is None) and (all_y_pred is None):\n",
        "                all_y_true = y_true\n",
        "                all_y_pred = y_pred\n",
        "            else:\n",
        "                all_y_true = np.vstack((all_y_true, y_true))\n",
        "                all_y_pred = np.vstack((all_y_pred, y_pred))\n",
        "\n",
        "            # undo padding\n",
        "            y_true = y_true[:seq_len]\n",
        "            y_pred = y_pred[:seq_len]\n",
        "\n",
        "            key = key[0] # this is a tuple before indexing the first element which is a string\n",
        "            number_of_domains = num_of_domains(key)\n",
        "            category = str(number_of_domains)\n",
        "\n",
        "            ndo, dbd, mcc_bp = boundary_prediction_metrics(y_pred, y_true, key)\n",
        "            if not scores.get(category):\n",
        "                scores[category] = {'boundary_prediction' : []}\n",
        "            scores[category]['boundary_prediction'].append((ndo, dbd, mcc_bp))\n",
        "            \n",
        "            if (i+1) % 150 == 0:\n",
        "                print(f'Step: [{i+1}/{n_samples}]')\n",
        "\n",
        "        ps, rs, pm, rm, acc, mcc_sm = domain_number_metrics(all_y_pred, all_y_true, threshold)\n",
        "        scores['domain_number'] = (ps, pm, rs, rm, acc, mcc_sm)\n",
        "\n",
        "\n",
        "    model.train()\n",
        "\n",
        "    print(\"Finished Testing\")\n",
        "    return scores"
      ]
    },
    {
      "cell_type": "code",
      "execution_count": 12,
      "metadata": {},
      "outputs": [],
      "source": [
        "def test_number_of_domains_predicted(model, validation_loader, threshold):\n",
        "    n_samples = len(validation_loader)\n",
        "    confusion_matrix = np.zeros((12,12))\n",
        "    model.eval()\n",
        "    coords = []\n",
        "    with torch.no_grad():\n",
        "        for i, (input, y_true, _, key, seq_len) in enumerate(validation_loader):\n",
        "            input = input.float().to(device)\n",
        "            y_pred = model(input)\n",
        "\n",
        "            y_pred = y_pred.cpu()\n",
        "            y_true = y_true.cpu().detach().numpy()\n",
        "\n",
        "            y_pred = y_pred.reshape(-1)\n",
        "            y_true = y_true.reshape(-1)\n",
        "\n",
        "            y_pred = median_seq((y_pred > threshold).float().cpu().detach().numpy(),y_pred)\n",
        "            # y_pred = median_seq(y_pred)\n",
        "\n",
        "            predicted_number = int(np.sum(y_pred))\n",
        "            true_number = int(np.sum(y_true))\n",
        "            coords.append((predicted_number, true_number))\n",
        "            \n",
        "            confusion_matrix[predicted_number, true_number] += 1\n",
        "\n",
        "    return confusion_matrix\n",
        "\n",
        "\n",
        "def single_multi_cf(model, validation_loader, threshold):\n",
        "    n_samples = len(validation_loader)\n",
        "    confusion_matrix = np.zeros((2,2))\n",
        "    model.eval()\n",
        "    with torch.no_grad():\n",
        "        for i, (input, y_true, _, key, seq_len) in enumerate(validation_loader):\n",
        "            input = input.float().to(device)\n",
        "            y_pred = model(input)\n",
        "\n",
        "            y_pred = y_pred.cpu()\n",
        "            y_true = y_true.cpu().detach().numpy()\n",
        "\n",
        "            y_pred = y_pred.reshape(-1)\n",
        "            y_true = y_true.reshape(-1)\n",
        "\n",
        "            y_pred = median_seq((y_pred > threshold).float().cpu().detach().numpy(),y_pred)\n",
        "\n",
        "            prediction = min(int(np.sum(y_pred)), 1)\n",
        "\n",
        "            truth = min(int(np.sum(y_true)), 1)\n",
        "            \n",
        "            confusion_matrix[prediction, truth] += 1\n",
        "\n",
        "    return confusion_matrix\n",
        "\n",
        "\n",
        "def domain_number_sequence_length(model, validation_loader, threshold):\n",
        "    n_samples = len(validation_loader)\n",
        "    predictions = []\n",
        "    truths = []\n",
        "    model.eval()\n",
        "    with torch.no_grad():\n",
        "        for i, (input, y_true, _, key, seq_len) in enumerate(validation_loader):\n",
        "            input = input.float().to(device)\n",
        "            y_pred = model(input)\n",
        "\n",
        "            y_pred = y_pred.cpu()\n",
        "            y_true = y_true.cpu().detach().numpy()\n",
        "\n",
        "            y_pred = y_pred.reshape(-1)\n",
        "            y_true = y_true.reshape(-1)\n",
        "\n",
        "            y_pred = median_seq((y_pred > threshold).float().cpu().detach().numpy(),y_pred)\n",
        "\n",
        "            prediction = int(np.sum(y_pred))\n",
        "            truth = int(np.sum(y_true))\n",
        "\n",
        "            predictions.append((prediction, seq_len))\n",
        "            truths.append((truth, seq_len))\n",
        "\n",
        "    return predictions, truths\n"
      ]
    },
    {
      "cell_type": "markdown",
      "metadata": {
        "id": "_2CnRd3hWdVg"
      },
      "source": [
        "# Classes"
      ]
    },
    {
      "cell_type": "code",
      "execution_count": 13,
      "metadata": {
        "id": "0-NMreT5WfIr"
      },
      "outputs": [],
      "source": [
        "class BiLSTM(nn.Module):\n",
        "    def __init__(self, input_size, hidden_size, num_layers):\n",
        "        super(BiLSTM, self).__init__()\n",
        "        self.hidden_size = hidden_size\n",
        "        self.num_layers = num_layers\n",
        "\n",
        "        self.lstm = nn.LSTM(input_size, hidden_size, num_layers, batch_first=True, bidirectional=True, dropout=0.0)\n",
        "        # x -> batch_size, sequence_length, input_size\n",
        "        self.fc0 = nn.Linear(hidden_size*2,80)\n",
        "        self.fc1 = nn.Linear(80,60)\n",
        "        self.fc2 = nn.Linear(60,50)\n",
        "        self.fc3 = nn.Linear(50,20)\n",
        "        self.fc4 = nn.Linear(20,10)\n",
        "        self.fc5 = nn.Linear(10, 1)\n",
        "\n",
        "        self.a = nn.ReLU()\n",
        "        self.sig = nn.Sigmoid()\n",
        "        self.loss_history = []\n",
        "        self.mcc_history = []\n",
        "        self.validation_loss_history = []\n",
        "\n",
        "    def forward(self, x):\n",
        "        h0 = torch.zeros(self.num_layers*2, x.size(0), self.hidden_size).to(device)\n",
        "        c0 = torch.zeros(self.num_layers*2, x.size(0), self.hidden_size).to(device) \n",
        "        # out: batch_size, seq_length, hidden_size\n",
        "\n",
        "        out, _ = self.lstm(x, (h0, c0))\n",
        "        out = self.a(out)\n",
        "\n",
        "        out = self.fc0(out)\n",
        "        out = self.a(out)\n",
        "\n",
        "        out = self.fc1(out)\n",
        "        out = self.a(out)\n",
        "\n",
        "        out = self.fc2(out)\n",
        "        out = self.a(out)\n",
        "\n",
        "        out = self.fc3(out)\n",
        "        out = self.a(out)\n",
        "\n",
        "        out = self.fc4(out)\n",
        "        out = self.a(out)\n",
        "\n",
        "        out = self.fc5(out)\n",
        "        out = self.sig(out)\n",
        "        return out\n",
        "        \n",
        "\n",
        "class SequenceDataset(Dataset):\n",
        "    def __init__(self, data, transform):\n",
        "        self.data = data\n",
        "        self.transform = transform\n",
        "        chain_sizes = [data['in'].iloc[i].shape[0] for i in range(len(data))]\n",
        "        self.longest_chain = max(chain_sizes)\n",
        "\n",
        "    def __len__(self):\n",
        "        return len(self.data)\n",
        "\n",
        "    def __getitem__(self, index):\n",
        "        x = self.data['in'].iloc[index]\n",
        "        y = self.data['out'].iloc[index]\n",
        "        seq_len = self.data['seq_len'].iloc[index]\n",
        "\n",
        "        x = np.pad(x, ((0, self.longest_chain-x.shape[0]), (0,0)), 'minimum')\n",
        "        \n",
        "        y = y.astype(np.float16) # convert from bool to float\n",
        "\n",
        "        y_amplified = amplify_sharp(y, 41) \n",
        "        y_amplified = np.pad(y_amplified, (0, self.longest_chain-y_amplified.shape[0]), 'minimum')\n",
        "        y = np.pad(y, (0, self.longest_chain-y.shape[0]), 'minimum')\n",
        "        y_amplified = y_amplified.reshape((1,-1))\n",
        "        y_amplified = np.array(y_amplified, dtype=np.float64)\n",
        "        key = self.data['key'].iloc[index]\n",
        "\n",
        "        return x, y, y_amplified, key, seq_len"
      ]
    },
    {
      "cell_type": "markdown",
      "metadata": {
        "id": "Rm72BoUuWid3"
      },
      "source": [
        "# Main"
      ]
    },
    {
      "cell_type": "markdown",
      "metadata": {
        "id": "mkC-385chSrF"
      },
      "source": [
        "## Hyperparams"
      ]
    },
    {
      "cell_type": "code",
      "execution_count": 19,
      "metadata": {
        "id": "dijS6kbeoLvV"
      },
      "outputs": [],
      "source": [
        "cath = get_cath()\n",
        "\n",
        "\n",
        "device = torch.device('cuda' if torch.cuda.is_available() else 'cpu')\n",
        "\n",
        "# three datasets with different encodings are available: CARP encodings, ESM encodings and One-Hot encodings:\n",
        "# carp38M_data.csv\n",
        "# esm35M_data.csv\n",
        "# onehot_data.csv\n",
        "\n",
        "encoding_map = {'carp' : 'carp38M_data.csv', 'esm' : 'esm35M_data.csv', 'onehot' : 'onehot_data.csv'}\n",
        "input_size_map = {'carp' : 1024, 'esm' : 480, 'onehot' : 21}\n",
        "\n",
        "\n",
        "encoding = 'esm'\n",
        "input_size = input_size_map[encoding]\n",
        "num_layers = 3\n",
        "hidden_size = 100\n",
        "num_epochs = 10\n",
        "batch_size = 32\n",
        "learning_rate = 0.001\n",
        "criterion = nn.BCELoss(reduction='sum')"
      ]
    },
    {
      "cell_type": "markdown",
      "metadata": {
        "id": "StWHd2z4hVnm"
      },
      "source": [
        "## Load Data"
      ]
    },
    {
      "cell_type": "code",
      "execution_count": 15,
      "metadata": {
        "id": "uSK4GEy2-2jx"
      },
      "outputs": [],
      "source": [
        "casp_dataframe = pd.read_pickle('../data/casp13/casp13_test_model.csv')\n",
        "casp_dataset = SequenceDataset(casp_dataframe, transforms.ToTensor())"
      ]
    },
    {
      "cell_type": "code",
      "execution_count": 16,
      "metadata": {
        "id": "WXxDqrp4Y8WG"
      },
      "outputs": [],
      "source": [
        "# dataframe = load_data(path, encoding)\n",
        "# dataset = SequenceDataset(dataframe, transforms.ToTensor())"
      ]
    },
    {
      "cell_type": "code",
      "execution_count": 17,
      "metadata": {
        "id": "m3BGZsuA_-mu"
      },
      "outputs": [],
      "source": [
        "# train_loader = DataLoader(dataset, batch_size=batch_size, shuffle=True)\n",
        "casp_loader = DataLoader(casp_dataset, batch_size=1, shuffle=True)"
      ]
    },
    {
      "cell_type": "markdown",
      "metadata": {
        "id": "BxWqP5l0hY-L"
      },
      "source": [
        "## Main"
      ]
    },
    {
      "cell_type": "code",
      "execution_count": 18,
      "metadata": {
        "colab": {
          "base_uri": "https://localhost:8080/"
        },
        "id": "vPNqWQL0eskI",
        "outputId": "540296b7-2120-4179-c9d9-ffdbd4d00a23"
      },
      "outputs": [],
      "source": [
        "# NO NEED TO TRAIN, SEE CELLS BELOW\n",
        "\n",
        "# model = BiLSTM(input_size, hidden_size, num_layers).to(device)\n",
        "# optimizer = torch.optim.Adam(model.parameters(), lr=learning_rate)\n",
        "# scheduler = torch.optim.lr_scheduler.MultiplicativeLR(optimizer, lambda epoch: 0.85)\n",
        "# start = time.time()\n",
        "# model = train(model, optimizer, scheduler, train_loader, num_epochs, casp_loader)\n",
        "# end = time.time()\n",
        "# print(f\"Time to train: {end - start}\")"
      ]
    },
    {
      "cell_type": "code",
      "execution_count": null,
      "metadata": {
        "id": "rNLI_HtOAuVU"
      },
      "outputs": [],
      "source": [
        "# torch.save(model.state_dict(), f\"{trained_models_path}_CASP13_READY\")"
      ]
    },
    {
      "cell_type": "code",
      "execution_count": 21,
      "metadata": {
        "colab": {
          "base_uri": "https://localhost:8080/"
        },
        "id": "f1QxolFZXguN",
        "outputId": "df10ae4e-820d-4182-944f-7069f58304b4"
      },
      "outputs": [
        {
          "data": {
            "text/plain": [
              "BiLSTM(\n",
              "  (lstm): LSTM(480, 100, num_layers=3, batch_first=True, bidirectional=True)\n",
              "  (fc0): Linear(in_features=200, out_features=80, bias=True)\n",
              "  (fc1): Linear(in_features=80, out_features=60, bias=True)\n",
              "  (fc2): Linear(in_features=60, out_features=50, bias=True)\n",
              "  (fc3): Linear(in_features=50, out_features=20, bias=True)\n",
              "  (fc4): Linear(in_features=20, out_features=10, bias=True)\n",
              "  (fc5): Linear(in_features=10, out_features=1, bias=True)\n",
              "  (a): ReLU()\n",
              "  (sig): Sigmoid()\n",
              ")"
            ]
          },
          "execution_count": 21,
          "metadata": {},
          "output_type": "execute_result"
        }
      ],
      "source": [
        "model = BiLSTM(input_size, hidden_size, num_layers).to(device)\n",
        "model.load_state_dict(torch.load(f\"../pre_trained_models/CASP13_READY\", map_location=torch.device('cpu')))\n",
        "model.eval()"
      ]
    },
    {
      "cell_type": "markdown",
      "metadata": {
        "id": "vXMb5XACVGHp"
      },
      "source": [
        "best t: 0.30000000000000004"
      ]
    },
    {
      "cell_type": "markdown",
      "metadata": {
        "id": "9oI-4TQDDDXp"
      },
      "source": [
        "# Analysis"
      ]
    },
    {
      "cell_type": "code",
      "execution_count": 23,
      "metadata": {
        "colab": {
          "base_uri": "https://localhost:8080/"
        },
        "id": "05SeF3NiMnEu",
        "outputId": "43e59568-e365-4255-de80-181d9d4eeddf"
      },
      "outputs": [
        {
          "name": "stdout",
          "output_type": "stream",
          "text": [
            "Starting Testing\n",
            "Finished Testing\n"
          ]
        }
      ],
      "source": [
        "scores = test(model, casp_loader)\n",
        "best_score, best_t, pairs = get_best_mcc(model, casp_loader)\n",
        "confusion_matrix = test_number_of_domains_predicted(model, casp_loader, best_t)"
      ]
    },
    {
      "cell_type": "code",
      "execution_count": 24,
      "metadata": {
        "id": "Z37S9LdNSAub"
      },
      "outputs": [
        {
          "data": {
            "text/plain": [
              "<function matplotlib.pyplot.show(close=None, block=None)>"
            ]
          },
          "execution_count": 24,
          "metadata": {},
          "output_type": "execute_result"
        },
        {
          "data": {
            "image/png": "[encoded data removed]",
            "text/plain": [
              "<Figure size 720x576 with 1 Axes>"
            ]
          },
          "metadata": {
            "needs_background": "light"
          },
          "output_type": "display_data"
        }
      ],
      "source": [
        "font = {'family' : 'sans-serif',\n",
        "        'weight' : 'normal',\n",
        "        'size'   : 15}\n",
        "\n",
        "matplotlib.rc('font', **font)\n",
        "\n",
        "sorted_pairs = sorted(pairs, key=lambda x : x[6])\n",
        "\n",
        "ps_score = [i[0] for i in sorted_pairs]\n",
        "rs_score = [i[1] for i in sorted_pairs]\n",
        "pm_score = [i[2] for i in sorted_pairs]\n",
        "rm_score = [i[3] for i in sorted_pairs]\n",
        "acc_score = [i[4] for i in sorted_pairs]\n",
        "mcc_score = [i[5] for i in sorted_pairs]\n",
        "\n",
        "ts = [i[6] for i in sorted_pairs]\n",
        "\n",
        "fig = plt.figure(figsize=(10,8))\n",
        "plt.xlabel(\"t\")\n",
        "plt.ylabel(\"Metrics\")\n",
        "plt.grid()\n",
        "\n",
        "plt.plot(ts, mcc_score, label='MCC')\n",
        "plt.plot(ts, acc_score, label='Accuracy')\n",
        "plt.plot(ts, ps_score, label='Precision(single)')\n",
        "plt.plot(ts, rs_score, label='Recall(single)')\n",
        "plt.plot(ts, pm_score, label='Precision(multi)')\n",
        "plt.plot(ts, rm_score, label='Recall(multi)')\n",
        "\n",
        "plt.legend()\n",
        "plt.savefig('t_optimisation.pdf')  \n",
        "\n",
        "plt.show"
      ]
    },
    {
      "cell_type": "code",
      "execution_count": null,
      "metadata": {
        "colab": {
          "base_uri": "https://localhost:8080/",
          "height": 524
        },
        "id": "kbyxcXabPC55",
        "outputId": "ee715ded-edd8-4fa8-f83c-4269feb03a0b"
      },
      "outputs": [],
      "source": []
    },
    {
      "cell_type": "code",
      "execution_count": 25,
      "metadata": {
        "colab": {
          "base_uri": "https://localhost:8080/",
          "height": 872
        },
        "id": "MBKEq2YaWBab",
        "outputId": "a18fa475-9699-4acb-e2c8-08825197fb72"
      },
      "outputs": [
        {
          "data": {
            "image/png": "[encoded data removed]",
            "text/plain": [
              "<Figure size 1440x1008 with 2 Axes>"
            ]
          },
          "metadata": {
            "needs_background": "light"
          },
          "output_type": "display_data"
        }
      ],
      "source": [
        "font = {'family' : 'sans-serif',\n",
        "        'weight' : 'normal',\n",
        "        'size'   : 30}\n",
        "\n",
        "matplotlib.rc('font', **font)\n",
        "single_mutli_cf = single_multi_cf(model, casp_loader, best_t)\n",
        "df_cm = pd.DataFrame(confusion_matrix, index = [str(i+1) for i in [0, 1, 2, 3, 4, 5, 6, 7, 8, 9, 10, 11]],\n",
        "                  columns = [str(i+1) for i in [0, 1, 2, 3, 4, 5, 6, 7, 8, 9, 10, 11]])\n",
        "plt.figure(figsize = (20,14))\n",
        "sn.heatmap(df_cm, annot=True, cmap=\"YlGnBu\", vmin=0, vmax=7)\n",
        "plt.ylabel('Predicted')\n",
        "plt.xlabel('True')\n",
        "plt.savefig('casp13heatmap.pdf')\n",
        "plt.show()"
      ]
    },
    {
      "cell_type": "code",
      "execution_count": 26,
      "metadata": {
        "colab": {
          "base_uri": "https://localhost:8080/",
          "height": 872
        },
        "id": "lUpaEd_yeChd",
        "outputId": "6e3251eb-f7e6-435c-ff51-bf576ad8a64d"
      },
      "outputs": [
        {
          "data": {
            "image/png": "[encoded data removed]",
            "text/plain": [
              "<Figure size 1440x1008 with 2 Axes>"
            ]
          },
          "metadata": {
            "needs_background": "light"
          },
          "output_type": "display_data"
        }
      ],
      "source": [
        "df_cm = pd.DataFrame(single_mutli_cf, index = [str(i) for i in [0, 1]],\n",
        "                  columns = [str(i) for i in [0, 1]])\n",
        "plt.figure(figsize = (20,14))\n",
        "sn.heatmap(df_cm, annot=True, cmap=\"YlGnBu\", vmin=0, vmax=20)\n",
        "plt.ylabel('Predicted')\n",
        "plt.xlabel('True')\n",
        "plt.savefig('casp13heatmap_sm.pdf')\n",
        "\n",
        "plt.show()"
      ]
    },
    {
      "cell_type": "code",
      "execution_count": 27,
      "metadata": {
        "id": "e-tvOpTGhYaU"
      },
      "outputs": [],
      "source": [
        "font = {'family' : 'sans-serif',\n",
        "        'weight' : 'normal',\n",
        "        'size'   : 15}\n",
        "\n",
        "matplotlib.rc('font', **font)"
      ]
    },
    {
      "cell_type": "code",
      "execution_count": 28,
      "metadata": {
        "colab": {
          "base_uri": "https://localhost:8080/"
        },
        "id": "pkUkPA71H3oo",
        "outputId": "fbb62906-161b-4d4f-956d-3fa2e21abdf2"
      },
      "outputs": [
        {
          "name": "stdout",
          "output_type": "stream",
          "text": [
            "Mean DBD:\n",
            "0.12423280423280424\n"
          ]
        }
      ],
      "source": [
        "counter = 0\n",
        "ndo, dbd, mcc_bp = ([],[],[])\n",
        "for n in scores.keys():\n",
        "    if n == 'domain_number':\n",
        "        continue\n",
        "    for tpl in scores[n]['boundary_prediction']:\n",
        "        ndo_, dbd_, mcc_bp_ = tpl\n",
        "        if ndo_ != 'n/a':\n",
        "            ndo.append(ndo_)\n",
        "        if dbd_ != 'n/a':\n",
        "            dbd.append(dbd_)\n",
        "        mcc_bp.append(mcc_bp_)\n",
        "        \n",
        "# print(np.mean(ndo))\n",
        "print(\"Mean DBD:\")\n",
        "print(np.mean(dbd))\n",
        "# print(np.mean(mcc_bp))\n",
        "\n",
        "# 0.8060918979142484 0.5395412457912456 0.155408166359137"
      ]
    },
    {
      "cell_type": "code",
      "execution_count": 29,
      "metadata": {
        "colab": {
          "base_uri": "https://localhost:8080/"
        },
        "id": "CIx2DBh6NPRj",
        "outputId": "95dfccf4-e8ac-4af9-8ff0-ef33100ba1e9"
      },
      "outputs": [
        {
          "name": "stdout",
          "output_type": "stream",
          "text": [
            "Precision(single), Recall(single), Precision(multi), Recall(multi), Accuracy, MCC:\n",
            "(0.8653846153846154, 0.6785714285714286, 0.8333333333333334, 0.7307692307692307, 0.8, 0.5539377213682883)\n"
          ]
        }
      ],
      "source": [
        "print(\"Precision(single), Recall(single), Precision(multi), Recall(multi), Accuracy, MCC:\")\n",
        "print(scores['domain_number'])"
      ]
    },
    {
      "cell_type": "code",
      "execution_count": 30,
      "metadata": {
        "id": "zj4MKzyJvKdk"
      },
      "outputs": [],
      "source": [
        "predictions, truths = domain_number_sequence_length(model, casp_loader, best_t)"
      ]
    },
    {
      "cell_type": "code",
      "execution_count": 31,
      "metadata": {
        "id": "p7DCQ88uvp_E"
      },
      "outputs": [],
      "source": [
        "font = {'family' : 'sans-serif',\n",
        "        'weight' : 'normal',\n",
        "        'size'   : 10}\n",
        "\n",
        "matplotlib.rc('font', **font)"
      ]
    },
    {
      "cell_type": "code",
      "execution_count": 32,
      "metadata": {
        "colab": {
          "base_uri": "https://localhost:8080/",
          "height": 296
        },
        "id": "xzkxES80p6fw",
        "outputId": "c77e33e8-77a5-4744-b17f-9819980aa657"
      },
      "outputs": [
        {
          "data": {
            "image/png": "[encoded data removed]",
            "text/plain": [
              "<Figure size 360x288 with 1 Axes>"
            ]
          },
          "metadata": {
            "needs_background": "light"
          },
          "output_type": "display_data"
        },
        {
          "name": "stdout",
          "output_type": "stream",
          "text": [
            "Correlation coefficient\n",
            "0.8141802672734249\n"
          ]
        }
      ],
      "source": [
        "fig = plt.figure(figsize=(5,4))\n",
        "\n",
        "x_axis = [x[1].item() for x in predictions]\n",
        "y_axis = [x[0] + 1 for x in predictions]\n",
        "\n",
        "plt.grid()\n",
        "plt.xlabel(\"Sequence length\")\n",
        "plt.ylabel(\"Number of domains\")\n",
        "plt.plot(x_axis, y_axis, 'x', color='red')\n",
        "plt.savefig('length_vs_number_pred.pdf')\n",
        "\n",
        "plt.show()\n",
        "\n",
        "correlation_coef = np.corrcoef(np.array(x_axis), np.array(y_axis))[0, 1]\n",
        "print(\"Correlation coefficient\")\n",
        "print(correlation_coef)"
      ]
    },
    {
      "cell_type": "code",
      "execution_count": 33,
      "metadata": {
        "colab": {
          "base_uri": "https://localhost:8080/",
          "height": 296
        },
        "id": "AJqFtGJXvlne",
        "outputId": "346abf5a-564c-4150-9f90-e77c9dd20fbf"
      },
      "outputs": [
        {
          "data": {
            "image/png": "[encoded data removed]",
            "text/plain": [
              "<Figure size 360x288 with 1 Axes>"
            ]
          },
          "metadata": {
            "needs_background": "light"
          },
          "output_type": "display_data"
        },
        {
          "name": "stdout",
          "output_type": "stream",
          "text": [
            "Correlation coefficient\n",
            "0.4908461943625021\n"
          ]
        }
      ],
      "source": [
        "fig = plt.figure(figsize=(5,4))\n",
        "\n",
        "x_axis = [x[1].item() for x in truths]\n",
        "y_axis = [x[0] + 1 for x in truths]\n",
        "plt.grid()\n",
        "plt.xlabel(\"Sequence length\")\n",
        "plt.ylabel(\"Number of domains\")\n",
        "plt.plot(x_axis, y_axis, 'x', color='blue')\n",
        "plt.savefig('length_vs_number_truth.pdf')\n",
        "plt.show()\n",
        "\n",
        "correlation_coef = np.corrcoef(np.array(x_axis), np.array(y_axis))[0, 1]\n",
        "print(\"Correlation coefficient\")\n",
        "print(correlation_coef)"
      ]
    }
  ],
  "metadata": {
    "accelerator": "GPU",
    "colab": {
      "collapsed_sections": [
        "e2DqU_BbU6kt"
      ],
      "provenance": [],
      "toc_visible": true
    },
    "gpuClass": "standard",
    "kernelspec": {
      "display_name": "Python 3",
      "name": "python3"
    },
    "language_info": {
      "codemirror_mode": {
        "name": "ipython",
        "version": 3
      },
      "file_extension": ".py",
      "mimetype": "text/x-python",
      "name": "python",
      "nbconvert_exporter": "python",
      "pygments_lexer": "ipython3",
      "version": "3.9.12"
    }
  },
  "nbformat": 4,
  "nbformat_minor": 0
}
