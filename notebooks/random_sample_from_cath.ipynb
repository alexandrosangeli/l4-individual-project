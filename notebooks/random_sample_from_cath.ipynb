{
 "cells": [
  {
   "cell_type": "code",
   "execution_count": 1,
   "metadata": {},
   "outputs": [],
   "source": [
    "import random\n",
    "import numpy as np\n",
    "import matplotlib.pyplot as plt\n",
    "import random\n",
    "import copy\n",
    "import json\n",
    "import pandas as pd\n",
    "import seaborn as sns\n",
    "\n",
    "from helpers.helper import get_cath\n",
    "from Bio import SeqIO\n",
    "from os import listdir\n",
    "from os.path import isfile, join\n"
   ]
  },
  {
   "cell_type": "code",
   "execution_count": 2,
   "metadata": {},
   "outputs": [],
   "source": [
    "cath = get_cath()"
   ]
  },
  {
   "cell_type": "code",
   "execution_count": 22,
   "metadata": {},
   "outputs": [],
   "source": [
    "# sort proteins by number of domains and seperate\n",
    "# maximum number of domains is 6\n",
    "\n",
    "# domain_chains_dict = {\n",
    "    \n",
    "# }\n",
    "\n",
    "\n",
    "# lengths = {}\n",
    "# for code, info in cath.items():\n",
    "#     chains = info.keys()\n",
    "#     for chain in chains:\n",
    "#         domains = cath[code][chain]\n",
    "#         no_of_domains = len(domains)\n",
    "#         lengths[str(no_of_domains)] = lengths.get(str(no_of_domains), 0) + 1\n",
    "\n",
    "# for n in lengths.keys():\n",
    "#     domain_chains_dict[n] = []\n",
    "\n",
    "# for code, info in cath.items():\n",
    "#     chains = info.keys()\n",
    "#     for chain in chains:\n",
    "#         domains = cath[code][chain]\n",
    "#         no_of_domains = len(domains)\n",
    "#         domain_chains_dict[str(no_of_domains)].append(f'{code}:{chain}')\n",
    "\n",
    "\n",
    "# random_sample = {}\n",
    "# for size, chains in domain_chains_dict.items():\n",
    "#     x = len(chains)\n",
    "#     random_sample[size] = random.sample(chains, min(2500, x))\n"
   ]
  },
  {
   "cell_type": "code",
   "execution_count": 4,
   "metadata": {},
   "outputs": [],
   "source": [
    "with open('../data/cath/random_balanced/result.json') as f:\n",
    "    random_sample = json.load(f)"
   ]
  },
  {
   "cell_type": "code",
   "execution_count": 5,
   "metadata": {},
   "outputs": [
    {
     "name": "stdout",
     "output_type": "stream",
     "text": [
      "1 2500\n",
      "2 2500\n",
      "3 2500\n",
      "4 2500\n",
      "5 2338\n",
      "6 863\n",
      "7 160\n",
      "8 419\n",
      "9 75\n",
      "10 44\n",
      "11 4\n",
      "12 21\n",
      "13 29\n",
      "14 1\n",
      "16 8\n",
      "19 1\n",
      "20 2\n"
     ]
    }
   ],
   "source": [
    "# number of chains for each size from 6 chains and upwards, accumulated\n",
    "for i in range(1,21):\n",
    "    s = str(i)\n",
    "    if s in random_sample.keys():\n",
    "        l = len(random_sample[s])\n",
    "        print(s, l)"
   ]
  },
  {
   "cell_type": "code",
   "execution_count": null,
   "metadata": {},
   "outputs": [],
   "source": []
  },
  {
   "cell_type": "code",
   "execution_count": 7,
   "metadata": {},
   "outputs": [
    {
     "name": "stdout",
     "output_type": "stream",
     "text": [
      "1627\n"
     ]
    }
   ],
   "source": [
    "# number of chains for each size from 6 chains and upwards, accumulated\n",
    "acc = []\n",
    "for i in range(6,21):\n",
    "    s = str(i)\n",
    "    if s in random_sample.keys():\n",
    "        l = len(random_sample[s])\n",
    "        acc.append(l)\n",
    "\n",
    "print(sum(acc))"
   ]
  },
  {
   "cell_type": "code",
   "execution_count": 8,
   "metadata": {},
   "outputs": [
    {
     "name": "stdout",
     "output_type": "stream",
     "text": [
      "13965\n"
     ]
    }
   ],
   "source": [
    "# total number of chains\n",
    "all = [len(x) for x in random_sample.values()]\n",
    "print(sum(all))"
   ]
  },
  {
   "cell_type": "code",
   "execution_count": 44,
   "metadata": {},
   "outputs": [
    {
     "data": {
      "image/png": "[encoded data removed]",
      "text/plain": [
       "<Figure size 1008x936 with 1 Axes>"
      ]
     },
     "metadata": {
      "needs_background": "light"
     },
     "output_type": "display_data"
    }
   ],
   "source": [
    "# visualisations\n",
    "\n",
    "# data from CATH (v. 4.3)\n",
    "# http://download.cathdb.info/cath/releases/all-releases/v4_3_0/cath-classification-data/\n",
    "\n",
    "# data = {i : len(domain_chains_dict[str(i)]) for i in domain_chains_dict.keys}\n",
    "\n",
    "domains = [str(i) for i in range(1,21)]\n",
    "size = [len(domain_chains_dict.get(str(i),[] )) for i in range(1,21)]\n",
    "\n",
    "fig = plt.figure(figsize = (14, 13))\n",
    "\n",
    "# creating the bar plot\n",
    "plt.bar(domains, size, width = 0.4)\n",
    "\n",
    "plt.xlabel(\"Number of domains\")\n",
    "plt.ylabel(\"Number of chains\")\n",
    "plt.title(\"\")\n",
    "plt.show()"
   ]
  },
  {
   "cell_type": "code",
   "execution_count": 243,
   "metadata": {},
   "outputs": [
    {
     "data": {
      "image/png": "[encoded data removed]",
      "text/plain": [
       "<Figure size 1008x936 with 1 Axes>"
      ]
     },
     "metadata": {
      "needs_background": "light"
     },
     "output_type": "display_data"
    },
    {
     "name": "stdout",
     "output_type": "stream",
     "text": [
      "Chains with 1 domains: 2500\n",
      "Chains with 2 domains: 2500\n",
      "Chains with 3 domains: 2500\n",
      "Chains with 4 domains: 2500\n",
      "Chains with 8 domains: 419\n",
      "Chains with 7 domains: 160\n",
      "Chains with 6 domains: 863\n",
      "Chains with 5 domains: 2338\n",
      "Chains with 10 domains: 44\n",
      "Chains with 9 domains: 75\n",
      "Chains with 12 domains: 21\n",
      "Chains with 13 domains: 29\n",
      "Chains with 11 domains: 4\n",
      "Chains with 20 domains: 2\n",
      "Chains with 19 domains: 1\n",
      "Chains with 16 domains: 8\n",
      "Chains with 14 domains: 1\n"
     ]
    }
   ],
   "source": [
    "domains = [str(i) for i in range(1,21)]\n",
    "size = [len(random_sample.get(str(i),[] )) for i in range(1,21)]\n",
    "\n",
    "fig = plt.figure(figsize = (14, 13))\n",
    "\n",
    "# creating the bar plot\n",
    "plt.bar(domains, size, width = 0.4)\n",
    "\n",
    "plt.xlabel(\"Number of domains\")\n",
    "plt.ylabel(\"Number of chains\")\n",
    "plt.title(\"\")\n",
    "plt.show()\n",
    "\n",
    "for k in [int(x) for x in random_sample.keys()]:\n",
    "    print(f\"Chains with {k} domains: {len(random_sample[str(k)])}\")"
   ]
  },
  {
   "cell_type": "code",
   "execution_count": 194,
   "metadata": {},
   "outputs": [],
   "source": [
    "# create comma seperated codes for bulk download\n",
    "codes = []\n",
    "for k, v in random_sample.items():\n",
    "    for chain in v:\n",
    "        codes.append(chain[:4] + ',')"
   ]
  },
  {
   "cell_type": "code",
   "execution_count": 56,
   "metadata": {},
   "outputs": [],
   "source": [
    "with open('../data/pdb/bulk/balanced/balanced.txt', 'w') as f:\n",
    "    f.writelines(codes)"
   ]
  },
  {
   "cell_type": "code",
   "execution_count": 9,
   "metadata": {},
   "outputs": [],
   "source": [
    "random_sample_keys = []\n",
    "for k, v in random_sample.items():\n",
    "    for code in v:\n",
    "        random_sample_keys.append(code.upper())"
   ]
  },
  {
   "cell_type": "code",
   "execution_count": 10,
   "metadata": {},
   "outputs": [
    {
     "data": {
      "text/plain": [
       "13965"
      ]
     },
     "execution_count": 10,
     "metadata": {},
     "output_type": "execute_result"
    }
   ],
   "source": [
    "len(random_sample_keys)"
   ]
  },
  {
   "cell_type": "code",
   "execution_count": 199,
   "metadata": {},
   "outputs": [],
   "source": [
    "# print(sorted(random_sample_keys))"
   ]
  },
  {
   "cell_type": "code",
   "execution_count": 11,
   "metadata": {},
   "outputs": [
    {
     "name": "stdout",
     "output_type": "stream",
     "text": [
      "File does not exist 1BOS:J\n",
      "\n",
      "1BOS:J\n",
      "dict_keys(['1Q7Y:1', '1Q7Y:2', '1Q7Y:3', '1Q7Y:4', '1Q7Y:5', '1Q7Y:A', '1Q7Y:B', '1Q7Y:C', '1Q7Y:D', '1Q7Y:E', '1Q7Y:F', '1Q7Y:G', '1Q7Y:H', '1Q7Y:I', '1Q7Y:J', '1Q7Y:K', '1Q7Y:L', '1Q7Y:M', '1Q7Y:N', '1Q7Y:O', '1Q7Y:P', '1Q7Y:Q', '1Q7Y:R', '1Q7Y:S', '1Q7Y:T', '1Q7Y:U', '1Q7Y:V', '1Q7Y:W', '1Q7Y:X', '1Q7Y:Y', '1Q7Y:Z'])\n",
      "1bos.pdb\n",
      "\n",
      "1TDM:0\n",
      "dict_keys([' '])\n",
      "1tdm.pdb\n",
      "\n",
      "File does not exist 5EXC:G\n",
      "\n",
      "5EXC:G\n",
      "dict_keys(['5ZGC:A', '5ZGC:B', '5ZGC:C', '5ZGC:D', '5ZGC:E', '5ZGC:F', '5ZGC:G', '5ZGC:H', '5ZGC:I', '5ZGC:J', '5ZGC:K', '5ZGC:L'])\n",
      "5exc.pdb\n",
      "\n",
      "5P8N:A\n",
      "dict_keys(['5OYQ:A'])\n",
      "5p8n.pdb\n",
      "\n",
      "5OZK:A\n",
      "dict_keys(['5OYQ:A'])\n",
      "5ozk.pdb\n",
      "\n",
      "5P1Y:A\n",
      "dict_keys(['5OYQ:A'])\n",
      "5p1y.pdb\n",
      "\n",
      "5P6J:A\n",
      "dict_keys(['5OYQ:A'])\n",
      "5p6j.pdb\n",
      "\n",
      "5P3I:A\n",
      "dict_keys(['5OYQ:A'])\n",
      "5p3i.pdb\n",
      "\n",
      "5P1U:A\n",
      "dict_keys(['5OYQ:A'])\n",
      "5p1u.pdb\n",
      "\n",
      "5OYS:A\n",
      "dict_keys(['5OYQ:A'])\n",
      "5oys.pdb\n",
      "\n",
      "5P7E:A\n",
      "dict_keys(['5OYQ:A'])\n",
      "5p7e.pdb\n",
      "\n",
      "5P6L:A\n",
      "dict_keys(['5OYQ:A'])\n",
      "5p6l.pdb\n",
      "\n",
      "5P5D:A\n",
      "dict_keys(['5OYQ:A'])\n",
      "5p5d.pdb\n",
      "\n",
      "5P30:A\n",
      "dict_keys(['5OYQ:A'])\n",
      "5p30.pdb\n",
      "\n",
      "5P03:A\n",
      "dict_keys(['5OYQ:A'])\n",
      "5p03.pdb\n",
      "\n",
      "5P6Y:A\n",
      "dict_keys(['5OYQ:A'])\n",
      "5p6y.pdb\n",
      "\n",
      "1ALO:0\n",
      "dict_keys(['1ALO: '])\n",
      "1alo.pdb\n",
      "\n",
      "1BUK:0\n",
      "dict_keys(['1BUK: '])\n",
      "1buk.pdb\n",
      "\n"
     ]
    }
   ],
   "source": [
    "mypath = '../data/pdb/bulk/balanced/backup/data/'\n",
    "\n",
    "files = [f for f in listdir(mypath) if isfile(join(mypath, f))]\n",
    "# codes = [x[:4] for x in files]\n",
    "missing = []\n",
    "\n",
    "# find the missing chains\n",
    "\n",
    "chains_of_interest = []\n",
    "for key in random_sample_keys:\n",
    "    file = key[:4].lower() + '.pdb'\n",
    "    PDB_file_path = f'{mypath}{file}'\n",
    "    try:\n",
    "        chains = {record.id: record.seq for record in SeqIO.parse(PDB_file_path, 'pdb-seqres')}\n",
    "    except FileNotFoundError:\n",
    "        print(\"File does not exist\", key)\n",
    "        print()\n",
    "        missing.append(key)\n",
    "\n",
    "    # chains.keys() take weird formats some times so try different formats\n",
    "    key2 = key[:-1] + key[-1].lower()\n",
    "    key3 = key[-1]\n",
    "    if (key not in chains.keys()) and (key2 not in chains.keys()) and (key3 not in chains.keys()):\n",
    "        # missing.append(key)\n",
    "        print(key)\n",
    "        print(chains.keys())\n",
    "        print(file)\n",
    "        print()\n",
    "        missing.append(key)\n"
   ]
  },
  {
   "cell_type": "code",
   "execution_count": 12,
   "metadata": {},
   "outputs": [
    {
     "data": {
      "text/plain": [
       "['1BOS:J',\n",
       " '1BOS:J',\n",
       " '1TDM:0',\n",
       " '5EXC:G',\n",
       " '5EXC:G',\n",
       " '5P8N:A',\n",
       " '5OZK:A',\n",
       " '5P1Y:A',\n",
       " '5P6J:A',\n",
       " '5P3I:A',\n",
       " '5P1U:A',\n",
       " '5OYS:A',\n",
       " '5P7E:A',\n",
       " '5P6L:A',\n",
       " '5P5D:A',\n",
       " '5P30:A',\n",
       " '5P03:A',\n",
       " '5P6Y:A',\n",
       " '1ALO:0',\n",
       " '1BUK:0']"
      ]
     },
     "execution_count": 12,
     "metadata": {},
     "output_type": "execute_result"
    }
   ],
   "source": [
    "missing"
   ]
  },
  {
   "cell_type": "code",
   "execution_count": 13,
   "metadata": {},
   "outputs": [],
   "source": [
    "# function to figure how many domains a chain has (from the sample dict):\n",
    "def domains_from_chain(chain):\n",
    "    chain = chain.lower()\n",
    "    for k, v in random_sample.items():\n",
    "        v = [x.lower() for x in v]\n",
    "        if chain in v:\n",
    "            # print(f\"{chain} has {k} domains\")\n",
    "            return k\n",
    "    print(f\"didn't find {chain}\")\n",
    "    "
   ]
  },
  {
   "cell_type": "code",
   "execution_count": 14,
   "metadata": {},
   "outputs": [
    {
     "data": {
      "text/plain": [
       "['1BOS:J',\n",
       " '1BOS:J',\n",
       " '1TDM:0',\n",
       " '5EXC:G',\n",
       " '5EXC:G',\n",
       " '5P8N:A',\n",
       " '5OZK:A',\n",
       " '5P1Y:A',\n",
       " '5P6J:A',\n",
       " '5P3I:A',\n",
       " '5P1U:A',\n",
       " '5OYS:A',\n",
       " '5P7E:A',\n",
       " '5P6L:A',\n",
       " '5P5D:A',\n",
       " '5P30:A',\n",
       " '5P03:A',\n",
       " '5P6Y:A',\n",
       " '1ALO:0',\n",
       " '1BUK:0']"
      ]
     },
     "execution_count": 14,
     "metadata": {},
     "output_type": "execute_result"
    }
   ],
   "source": [
    "missing"
   ]
  },
  {
   "cell_type": "code",
   "execution_count": 15,
   "metadata": {},
   "outputs": [
    {
     "name": "stdout",
     "output_type": "stream",
     "text": [
      "1BOS:J has 1\n",
      "1BOS:J has 1\n",
      "1TDM:0 has 1\n",
      "5EXC:G has 1\n",
      "5EXC:G has 1\n",
      "5P8N:A has 2\n",
      "5OZK:A has 2\n",
      "5P1Y:A has 2\n",
      "5P6J:A has 2\n",
      "5P3I:A has 2\n",
      "5P1U:A has 2\n",
      "5OYS:A has 2\n",
      "5P7E:A has 2\n",
      "5P6L:A has 2\n",
      "5P5D:A has 2\n",
      "5P30:A has 2\n",
      "5P03:A has 2\n",
      "5P6Y:A has 2\n",
      "1ALO:0 has 7\n",
      "1BUK:0 has 6\n"
     ]
    }
   ],
   "source": [
    "for c in missing:\n",
    "    print(c, \"has\", domains_from_chain(c))"
   ]
  },
  {
   "attachments": {},
   "cell_type": "markdown",
   "metadata": {},
   "source": [
    "### Finally\n",
    "\n",
    "After performing stratified sampling and downloading the data, only 20 chains were missings. The results are shown below"
   ]
  },
  {
   "cell_type": "code",
   "execution_count": null,
   "metadata": {},
   "outputs": [],
   "source": []
  },
  {
   "cell_type": "code",
   "execution_count": 16,
   "metadata": {},
   "outputs": [
    {
     "name": "stdout",
     "output_type": "stream",
     "text": [
      "1bos:J not in\n",
      "5exc:G not in\n"
     ]
    }
   ],
   "source": [
    "true_random_sample = copy.deepcopy(random_sample)\n",
    "for chain in missing:\n",
    "    chain = chain[:-1].lower() + chain[-1]\n",
    "    # print(chain)\n",
    "    n = domains_from_chain(chain)\n",
    "    try:\n",
    "        true_random_sample[str(n)].remove(chain)\n",
    "    except ValueError:\n",
    "        print(chain, \"not in\") # probably removed already"
   ]
  },
  {
   "cell_type": "code",
   "execution_count": 17,
   "metadata": {},
   "outputs": [
    {
     "data": {
      "image/png": "[encoded data removed]",
      "text/plain": [
       "<Figure size 1008x936 with 1 Axes>"
      ]
     },
     "metadata": {
      "needs_background": "light"
     },
     "output_type": "display_data"
    },
    {
     "name": "stdout",
     "output_type": "stream",
     "text": [
      "Chains with 1 domains: 2497\n",
      "Chains with 2 domains: 2487\n",
      "Chains with 3 domains: 2500\n",
      "Chains with 4 domains: 2500\n",
      "Chains with 5 domains: 2338\n",
      "Chains with 6 domains: 862\n",
      "Chains with 7 domains: 159\n",
      "Chains with 8 domains: 419\n",
      "Chains with 9 domains: 75\n",
      "Chains with 10 domains: 44\n",
      "Chains with 11 domains: 4\n",
      "Chains with 12 domains: 21\n",
      "Chains with 13 domains: 29\n",
      "Chains with 14 domains: 1\n",
      "Chains with 16 domains: 8\n",
      "Chains with 19 domains: 1\n",
      "Chains with 20 domains: 2\n"
     ]
    }
   ],
   "source": [
    "domains = [str(i) for i in range(1,21)]\n",
    "size = [len(true_random_sample.get(str(i),[] )) for i in range(1,21)]\n",
    "\n",
    "fig = plt.figure(figsize = (14, 13))\n",
    "\n",
    "# creating the bar plot\n",
    "plt.bar(domains, size, width = 0.4)\n",
    "\n",
    "plt.xlabel(\"Number of domains\")\n",
    "plt.ylabel(\"Number of chains\")\n",
    "plt.title(\"\")\n",
    "plt.show()\n",
    "\n",
    "for k in range(1, 21):\n",
    "    try:\n",
    "        print(f\"Chains with {k} domains: {len(true_random_sample[str(k)])}\")\n",
    "    except KeyError:\n",
    "        continue"
   ]
  },
  {
   "cell_type": "code",
   "execution_count": 18,
   "metadata": {},
   "outputs": [
    {
     "data": {
      "image/png": "[encoded data removed]",
      "text/plain": [
       "<Figure size 1008x936 with 1 Axes>"
      ]
     },
     "metadata": {
      "needs_background": "light"
     },
     "output_type": "display_data"
    },
    {
     "name": "stdout",
     "output_type": "stream",
     "text": [
      "Chains with 1 domains: 2497\n",
      "Chains with 2 domains: 2487\n",
      "Chains with 3 domains: 2500\n",
      "Chains with 4 domains: 2500\n",
      "Chains with 5 domains: 2338\n",
      "Chains with > 5 domains: 1625\n"
     ]
    }
   ],
   "source": [
    "n = 6\n",
    "domains = [str(i) for i in range(1,n)]\n",
    "size = [len(true_random_sample.get(str(i),[] )) for i in range(1,n)]\n",
    "\n",
    "more_than_n = sum([len(true_random_sample.get(str(i),[] )) for i in range(n,21)])\n",
    "\n",
    "domains.append('> 5')\n",
    "size.append(more_than_n)\n",
    "\n",
    "fig = plt.figure(figsize = (14, 13))\n",
    "\n",
    "# creating the bar plot\n",
    "plt.bar(domains, size, width = 0.4)\n",
    "\n",
    "plt.xlabel(\"Number of domains\")\n",
    "plt.ylabel(\"Number of chains\")\n",
    "plt.title(\"\")\n",
    "plt.show()\n",
    "\n",
    "for k in range(1, n):\n",
    "    try:\n",
    "        print(f\"Chains with {k} domains: {len(true_random_sample[str(k)])}\")\n",
    "    except KeyError:\n",
    "        continue\n",
    "\n",
    "print(f\"Chains with > {n-1} domains: {more_than_n}\")\n"
   ]
  },
  {
   "cell_type": "code",
   "execution_count": 19,
   "metadata": {},
   "outputs": [],
   "source": [
    "densities = {\n",
    "    '1' : [],\n",
    "    '2' : [],\n",
    "    '3' : [],\n",
    "    '4' : [],\n",
    "    '5' : [],\n",
    "    '> 5' : []\n",
    "    }\n",
    "n = 6\n",
    "for dom, lst in true_random_sample.items():\n",
    "    tmp = []\n",
    "    for chain in lst:\n",
    "\n",
    "        pdb_code = chain[:4]\n",
    "        \n",
    "        pdb_file_path = f'../data/pdb/bulk/balanced/backup/data/{pdb_code}.pdb'\n",
    "\n",
    "        chains = {record.id: record.seq for record in SeqIO.parse(pdb_file_path, 'pdb-seqres')}\n",
    "\n",
    "        key = chain.upper()\n",
    "        key2 = key[:-1] + key[-1].lower()\n",
    "        key3 = key[-1]\n",
    "\n",
    "        keys = [key, key2, key3]\n",
    "\n",
    "        found = False\n",
    "        for k in keys:\n",
    "            if k in chains.keys():\n",
    "                seq = chains[k]\n",
    "                break\n",
    "\n",
    "        if int(dom) > n - 1:\n",
    "            densities['> 5'].append(len(seq))\n",
    "        else:\n",
    "         densities[dom].append(len(seq))\n",
    "        "
   ]
  },
  {
   "cell_type": "code",
   "execution_count": 20,
   "metadata": {},
   "outputs": [
    {
     "data": {
      "image/png": "[encoded data removed]",
      "text/plain": [
       "<Figure size 936x504 with 1 Axes>"
      ]
     },
     "metadata": {
      "needs_background": "light"
     },
     "output_type": "display_data"
    }
   ],
   "source": [
    "fig = plt.figure(figsize = (13, 7))\n",
    "labels = []\n",
    "\n",
    "for k, v in densities.items():\n",
    "    sns.kdeplot(data=v, bw_adjust=1.5)\n",
    "    labels.append(k)\n",
    "\n",
    "plt.legend(labels=labels)\n",
    "plt.xlabel(\"Sequence Length\")    \n",
    "plt.title(\"Density Plot\")\n",
    "plt.show()"
   ]
  },
  {
   "attachments": {},
   "cell_type": "markdown",
   "metadata": {},
   "source": [
    "### Create the DataFrame from the balanced data"
   ]
  },
  {
   "attachments": {},
   "cell_type": "markdown",
   "metadata": {},
   "source": [
    "#### One-Hot"
   ]
  },
  {
   "cell_type": "code",
   "execution_count": 21,
   "metadata": {},
   "outputs": [],
   "source": [
    "true_random_sample_keys = []\n",
    "for v in true_random_sample.values():\n",
    "    for chain in v:\n",
    "        true_random_sample_keys.append(chain)"
   ]
  },
  {
   "cell_type": "code",
   "execution_count": 269,
   "metadata": {},
   "outputs": [],
   "source": [
    "# DOUBLE CHECK THAT NOTHING IS MISSING\n",
    "\n",
    "# mypath = '../data/pdb/bulk/balanced/backup/data/'\n",
    "\n",
    "# files = [f for f in listdir(mypath) if isfile(join(mypath, f))]\n",
    "# # codes = [x[:4] for x in files]\n",
    "# missing = []\n",
    "\n",
    "# chains_of_interest = []\n",
    "# for key in true_random_sample_keys:\n",
    "#     key = key.upper()\n",
    "#     file = key[:4].lower() + '.pdb'\n",
    "#     PDB_file_path = f'{mypath}{file}'\n",
    "#     chains = {record.id: record.seq for record in SeqIO.parse(PDB_file_path, 'pdb-seqres')}\n",
    "\n",
    "\n",
    "#     # chains.keys() take weird formats some times so try different formats\n",
    "#     key2 = key[:-1] + key[-1].lower()\n",
    "#     key3 = key[-1]\n",
    "#     if (key not in chains.keys()) and (key2 not in chains.keys()) and (key3 not in chains.keys()):\n",
    "#         print(key)\n",
    "#         print(chains.keys())\n",
    "#         print()"
   ]
  },
  {
   "cell_type": "code",
   "execution_count": 22,
   "metadata": {},
   "outputs": [],
   "source": [
    "def one_hot_seq(seq):\n",
    "    amino_acids = 'ACDEFGHIKLMNPQRSTVWY'\n",
    "    encoded = np.array([1 if elt == 'A' else 0 for elt in seq],dtype=np.float64)\n",
    "    # start from the second element since the first one is A and was created above\n",
    "    for amino_acid in amino_acids[1:]:\n",
    "        new = np.array([1 if elt == amino_acid else 0 for elt in seq])\n",
    "        encoded = np.vstack((encoded, new))\n",
    "    return encoded\n",
    "\n",
    "\n",
    "def boundariesN(seq, domain, n):\n",
    "    # return the boundaries from a sequence and a domain\n",
    "    # seq is only used for getting the length\n",
    "    bounds = np.zeros((len(seq)), dtype=np.int8)\n",
    "\n",
    "    for k, v in domain.items():\n",
    "        boundary_positions = v.split(',')\n",
    "        for b in boundary_positions:\n",
    "            indices = [int(i) for i in b.split('-')]\n",
    "            for i in indices:\n",
    "                low = max(i - n, 1)\n",
    "                high = min(i + n, len(seq))\n",
    "                for j in range(low, high + 1):\n",
    "                    bounds[j - 1] = 1\n",
    "    return np.array(bounds, dtype=np.float64)"
   ]
  },
  {
   "cell_type": "code",
   "execution_count": 377,
   "metadata": {},
   "outputs": [],
   "source": [
    "# s='ACDEFGHIKLMNPQRSTVWYACDEFGHIKLMNPQRSTVWY'\n",
    "# d = {\n",
    "#     '1' : '1-19,31-41',\n",
    "#     '2' : '20-31'\n",
    "# }\n",
    "# # boundariesN(s,d,2)\n",
    "\n",
    "# # analyse why some targets look like this : [1,1,1,1,1,0,0,0,0,0,0,0,0,0,0,1]\n",
    "# ANSWER: low = max(i - n, 0) caused j to become -1 affecting the last element. Changed to: low = max(i - n, 1)\n",
    "\n",
    "# for chain in true_random_sample_keys:\n",
    "\n",
    "#     pdb_code = chain[:4]\n",
    "    \n",
    "#     pdb_file_path = f'../data/pdb/bulk/balanced/backup/data/{pdb_code}.pdb'\n",
    "\n",
    "#     chains = {record.id: record.seq for record in SeqIO.parse(pdb_file_path, 'pdb-seqres')}\n",
    "\n",
    "#     key = chain.upper()\n",
    "#     key2 = key[:-1] + key[-1].lower()\n",
    "#     key3 = key[-1]\n",
    "\n",
    "#     keys = [key, key2, key3]\n",
    "\n",
    "#     found = False\n",
    "#     for k in keys:\n",
    "#         if k in chains.keys():\n",
    "#             seq = chains[k]\n",
    "#             break\n",
    "\n",
    "#     domain = cath[pdb_code][chain[-1]]\n",
    "#     target = boundariesN(seq, domain, 8)\n",
    "#     print(domain)\n",
    "#     print(len(seq))\n",
    "#     print(target)\n",
    "#     break"
   ]
  },
  {
   "cell_type": "code",
   "execution_count": 23,
   "metadata": {},
   "outputs": [
    {
     "name": "stdout",
     "output_type": "stream",
     "text": [
      "Written 1000/13947 entries\n",
      "Written 2000/13947 entries\n",
      "Written 3000/13947 entries\n",
      "Written 4000/13947 entries\n",
      "Written 5000/13947 entries\n",
      "Written 6000/13947 entries\n",
      "Written 7000/13947 entries\n",
      "Written 8000/13947 entries\n",
      "Written 9000/13947 entries\n",
      "Written 10000/13947 entries\n",
      "Written 11000/13947 entries\n",
      "Written 12000/13947 entries\n",
      "Written 13000/13947 entries\n",
      "Written 13947/13947 entries\n"
     ]
    }
   ],
   "source": [
    "df = pd.DataFrame(columns=['in', 'out'])\n",
    "df['in'] = df['in'].astype(object)\n",
    "df['out'] = df['out'].astype(object)\n",
    "\n",
    "counter = 0\n",
    "\n",
    "for chain in true_random_sample_keys:\n",
    "\n",
    "    pdb_code = chain[:4]\n",
    "    \n",
    "    pdb_file_path = f'../data/pdb/bulk/balanced/backup/data/{pdb_code}.pdb'\n",
    "\n",
    "    chains = {record.id: record.seq for record in SeqIO.parse(pdb_file_path, 'pdb-seqres')}\n",
    "\n",
    "    key = chain.upper()\n",
    "    key2 = key[:-1] + key[-1].lower()\n",
    "    key3 = key[-1]\n",
    "\n",
    "    keys = [key, key2, key3]\n",
    "\n",
    "    found = False\n",
    "    for k in keys:\n",
    "        if k in chains.keys():\n",
    "            seq = chains[k]\n",
    "            break\n",
    "\n",
    "    input = one_hot_seq(seq)\n",
    "    domain = cath[pdb_code][chain[-1]]\n",
    "    target = boundariesN(seq, domain, 20)\n",
    "\n",
    "    new_df = pd.DataFrame({'in':[input], 'out':[target]})\n",
    "    df = pd.concat([df,new_df], ignore_index=True)\n",
    "    counter += 1\n",
    "    if counter % 1000 == 0:\n",
    "        print(f'Written {counter}/{len(true_random_sample_keys)} entries')\n",
    "\n",
    "print(f'Written {counter}/{len(true_random_sample_keys)} entries')"
   ]
  },
  {
   "cell_type": "code",
   "execution_count": 24,
   "metadata": {},
   "outputs": [],
   "source": [
    "df.to_pickle('../data/cnn/one_hot/data.csv')"
   ]
  },
  {
   "cell_type": "code",
   "execution_count": 382,
   "metadata": {},
   "outputs": [
    {
     "data": {
      "text/plain": [
       "13947"
      ]
     },
     "execution_count": 382,
     "metadata": {},
     "output_type": "execute_result"
    }
   ],
   "source": [
    "test = pd.read_pickle('../data/cnn/one_hot/data.csv')\n",
    "len(test)"
   ]
  },
  {
   "cell_type": "code",
   "execution_count": null,
   "metadata": {},
   "outputs": [],
   "source": []
  }
 ],
 "metadata": {
  "kernelspec": {
   "display_name": "base",
   "language": "python",
   "name": "python3"
  },
  "language_info": {
   "codemirror_mode": {
    "name": "ipython",
    "version": 3
   },
   "file_extension": ".py",
   "mimetype": "text/x-python",
   "name": "python",
   "nbconvert_exporter": "python",
   "pygments_lexer": "ipython3",
   "version": "3.9.12"
  },
  "orig_nbformat": 4,
  "vscode": {
   "interpreter": {
    "hash": "1b6993604730f8cf29f5900b73e8b88206f8a6983047fdc957f382b3e5d49baa"
   }
  }
 },
 "nbformat": 4,
 "nbformat_minor": 2
}
