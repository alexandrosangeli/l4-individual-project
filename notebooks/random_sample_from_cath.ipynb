{
 "cells": [
  {
   "cell_type": "code",
   "execution_count": 229,
   "metadata": {},
   "outputs": [],
   "source": [
    "import random\n",
    "import numpy as np\n",
    "import matplotlib.pyplot as plt\n",
    "from helpers.helper import get_cath\n",
    "import random\n",
    "from Bio import SeqIO\n",
    "from os import listdir\n",
    "from os.path import isfile, join\n",
    "import copy"
   ]
  },
  {
   "cell_type": "code",
   "execution_count": 3,
   "metadata": {},
   "outputs": [],
   "source": [
    "cath = get_cath()"
   ]
  },
  {
   "cell_type": "code",
   "execution_count": 22,
   "metadata": {},
   "outputs": [],
   "source": [
    "# sort proteins by number of domains and seperate\n",
    "# maximum number of domains is 6\n",
    "\n",
    "domain_chains_dict = {\n",
    "    \n",
    "}\n",
    "\n",
    "\n",
    "lengths = {}\n",
    "for code, info in cath.items():\n",
    "    chains = info.keys()\n",
    "    for chain in chains:\n",
    "        domains = cath[code][chain]\n",
    "        no_of_domains = len(domains)\n",
    "        lengths[str(no_of_domains)] = lengths.get(str(no_of_domains), 0) + 1\n",
    "\n",
    "for n in lengths.keys():\n",
    "    domain_chains_dict[n] = []\n",
    "\n",
    "for code, info in cath.items():\n",
    "    chains = info.keys()\n",
    "    for chain in chains:\n",
    "        domains = cath[code][chain]\n",
    "        no_of_domains = len(domains)\n",
    "        domain_chains_dict[str(no_of_domains)].append(f'{code}:{chain}')\n",
    "\n",
    "\n",
    "random_sample = {}\n",
    "for size, chains in domain_chains_dict.items():\n",
    "    x = len(chains)\n",
    "    random_sample[size] = random.sample(chains, min(2500, x))\n"
   ]
  },
  {
   "cell_type": "code",
   "execution_count": 24,
   "metadata": {},
   "outputs": [
    {
     "name": "stdout",
     "output_type": "stream",
     "text": [
      "1 2500\n",
      "2 2500\n",
      "3 2500\n",
      "4 2500\n",
      "5 2338\n",
      "6 863\n",
      "7 160\n",
      "8 419\n",
      "9 75\n",
      "10 44\n",
      "11 4\n",
      "12 21\n",
      "13 29\n",
      "14 1\n",
      "16 8\n",
      "19 1\n",
      "20 2\n"
     ]
    }
   ],
   "source": [
    "# number of chains for each size from 6 chains and upwards, accumulated\n",
    "for i in range(1,21):\n",
    "    s = str(i)\n",
    "    if s in random_sample.keys():\n",
    "        l = len(random_sample[s])\n",
    "        print(s, l)"
   ]
  },
  {
   "cell_type": "code",
   "execution_count": 25,
   "metadata": {},
   "outputs": [
    {
     "name": "stdout",
     "output_type": "stream",
     "text": [
      "1627\n"
     ]
    }
   ],
   "source": [
    "# number of chains for each size from 6 chains and upwards, accumulated\n",
    "acc = []\n",
    "for i in range(6,21):\n",
    "    s = str(i)\n",
    "    if s in random_sample.keys():\n",
    "        l = len(random_sample[s])\n",
    "        acc.append(l)\n",
    "\n",
    "print(sum(acc))"
   ]
  },
  {
   "cell_type": "code",
   "execution_count": 26,
   "metadata": {},
   "outputs": [
    {
     "name": "stdout",
     "output_type": "stream",
     "text": [
      "13965\n"
     ]
    }
   ],
   "source": [
    "# total number of chains\n",
    "all = [len(x) for x in random_sample.values()]\n",
    "print(sum(all))"
   ]
  },
  {
   "cell_type": "code",
   "execution_count": 44,
   "metadata": {},
   "outputs": [
    {
     "data": {
      "image/png": "[encoded data removed]",
      "text/plain": [
       "<Figure size 1008x936 with 1 Axes>"
      ]
     },
     "metadata": {
      "needs_background": "light"
     },
     "output_type": "display_data"
    }
   ],
   "source": [
    "# visualisations\n",
    "\n",
    "# data from CATH (v. 4.3)\n",
    "# http://download.cathdb.info/cath/releases/all-releases/v4_3_0/cath-classification-data/\n",
    "\n",
    "# data = {i : len(domain_chains_dict[str(i)]) for i in domain_chains_dict.keys}\n",
    "\n",
    "domains = [str(i) for i in range(1,21)]\n",
    "size = [len(domain_chains_dict.get(str(i),[] )) for i in range(1,21)]\n",
    "\n",
    "fig = plt.figure(figsize = (14, 13))\n",
    "\n",
    "# creating the bar plot\n",
    "plt.bar(domains, size, width = 0.4)\n",
    "\n",
    "plt.xlabel(\"Number of domains\")\n",
    "plt.ylabel(\"Number of chains\")\n",
    "plt.title(\"\")\n",
    "plt.show()"
   ]
  },
  {
   "cell_type": "code",
   "execution_count": 243,
   "metadata": {},
   "outputs": [
    {
     "data": {
      "image/png": "[encoded data removed]",
      "text/plain": [
       "<Figure size 1008x936 with 1 Axes>"
      ]
     },
     "metadata": {
      "needs_background": "light"
     },
     "output_type": "display_data"
    },
    {
     "name": "stdout",
     "output_type": "stream",
     "text": [
      "Chains with 1 domains: 2500\n",
      "Chains with 2 domains: 2500\n",
      "Chains with 3 domains: 2500\n",
      "Chains with 4 domains: 2500\n",
      "Chains with 8 domains: 419\n",
      "Chains with 7 domains: 160\n",
      "Chains with 6 domains: 863\n",
      "Chains with 5 domains: 2338\n",
      "Chains with 10 domains: 44\n",
      "Chains with 9 domains: 75\n",
      "Chains with 12 domains: 21\n",
      "Chains with 13 domains: 29\n",
      "Chains with 11 domains: 4\n",
      "Chains with 20 domains: 2\n",
      "Chains with 19 domains: 1\n",
      "Chains with 16 domains: 8\n",
      "Chains with 14 domains: 1\n"
     ]
    }
   ],
   "source": [
    "domains = [str(i) for i in range(1,21)]\n",
    "size = [len(random_sample.get(str(i),[] )) for i in range(1,21)]\n",
    "\n",
    "fig = plt.figure(figsize = (14, 13))\n",
    "\n",
    "# creating the bar plot\n",
    "plt.bar(domains, size, width = 0.4)\n",
    "\n",
    "plt.xlabel(\"Number of domains\")\n",
    "plt.ylabel(\"Number of chains\")\n",
    "plt.title(\"\")\n",
    "plt.show()\n",
    "\n",
    "for k in [int(x) for x in random_sample.keys()]:\n",
    "    print(f\"Chains with {k} domains: {len(random_sample[str(k)])}\")"
   ]
  },
  {
   "cell_type": "code",
   "execution_count": 194,
   "metadata": {},
   "outputs": [],
   "source": [
    "# create comma seperated codes for bulk download\n",
    "codes = []\n",
    "for k, v in random_sample.items():\n",
    "    for chain in v:\n",
    "        codes.append(chain[:4] + ',')"
   ]
  },
  {
   "cell_type": "code",
   "execution_count": 56,
   "metadata": {},
   "outputs": [],
   "source": [
    "with open('../data/pdb/bulk/balanced/balanced.txt', 'w') as f:\n",
    "    f.writelines(codes)"
   ]
  },
  {
   "cell_type": "code",
   "execution_count": 221,
   "metadata": {},
   "outputs": [],
   "source": [
    "random_sample_keys = []\n",
    "for k, v in random_sample.items():\n",
    "    for code in v:\n",
    "        random_sample_keys.append(code.upper())"
   ]
  },
  {
   "cell_type": "code",
   "execution_count": 222,
   "metadata": {},
   "outputs": [
    {
     "data": {
      "text/plain": [
       "13965"
      ]
     },
     "execution_count": 222,
     "metadata": {},
     "output_type": "execute_result"
    }
   ],
   "source": [
    "len(random_sample_keys)"
   ]
  },
  {
   "cell_type": "code",
   "execution_count": 199,
   "metadata": {},
   "outputs": [],
   "source": [
    "# print(sorted(random_sample_keys))"
   ]
  },
  {
   "cell_type": "code",
   "execution_count": null,
   "metadata": {},
   "outputs": [],
   "source": [
    "mypath = '../data/pdb/bulk/balanced/backup/data/'\n",
    "\n",
    "files = [f for f in listdir(mypath) if isfile(join(mypath, f))]\n",
    "# codes = [x[:4] for x in files]\n",
    "missing = []\n",
    "\n",
    "chains_of_interest = []\n",
    "for key in random_sample_keys:\n",
    "    file = key[:4].lower() + '.pdb'\n",
    "    PDB_file_path = f'{mypath}{file}'\n",
    "    try:\n",
    "        chains = {record.id: record.seq for record in SeqIO.parse(PDB_file_path, 'pdb-seqres')}\n",
    "    except FileNotFoundError:\n",
    "        print(\"File does not exist\", key)\n",
    "        print()\n",
    "        missing.append(key)\n",
    "\n",
    "    # chains.keys() take weird formats some times so try different formats\n",
    "    key2 = key[:-1] + key[-1].lower()\n",
    "    key3 = key[-1]\n",
    "    if (key not in chains.keys()) and (key2 not in chains.keys()) and (key3 not in chains.keys()):\n",
    "        # missing.append(key)\n",
    "        print(key)\n",
    "        print(chains.keys())\n",
    "        print(file)\n",
    "        print()\n",
    "        missing.append(key)\n"
   ]
  },
  {
   "cell_type": "code",
   "execution_count": 218,
   "metadata": {},
   "outputs": [
    {
     "data": {
      "text/plain": [
       "['5EXC:G',\n",
       " '5EXC:G',\n",
       " '1BOS:J',\n",
       " '1BOS:J',\n",
       " '1TDM:0',\n",
       " '5P8N:A',\n",
       " '5OZK:A',\n",
       " '5P1Y:A',\n",
       " '5P6J:A',\n",
       " '5P3I:A',\n",
       " '5P1U:A',\n",
       " '5OYS:A',\n",
       " '5P7E:A',\n",
       " '5P6L:A',\n",
       " '5P5D:A',\n",
       " '5P30:A',\n",
       " '5P03:A',\n",
       " '5P6Y:A',\n",
       " '1ALO:0',\n",
       " '1BUK:0']"
      ]
     },
     "execution_count": 218,
     "metadata": {},
     "output_type": "execute_result"
    }
   ],
   "source": [
    "missing"
   ]
  },
  {
   "cell_type": "code",
   "execution_count": 233,
   "metadata": {},
   "outputs": [],
   "source": [
    "# function to figure how many domains a chain has (from the sample dict):\n",
    "def domains_from_chain(chain):\n",
    "    chain = chain.lower()\n",
    "    for k, v in random_sample.items():\n",
    "        v = [x.lower() for x in v]\n",
    "        if chain in v:\n",
    "            # print(f\"{chain} has {k} domains\")\n",
    "            return k\n",
    "    print(f\"didn't find {chain}\")\n",
    "    "
   ]
  },
  {
   "cell_type": "code",
   "execution_count": 192,
   "metadata": {},
   "outputs": [
    {
     "data": {
      "text/plain": [
       "['5EXC:G',\n",
       " '5EXC:G',\n",
       " '1BOS:J',\n",
       " '1BOS:J',\n",
       " '1TDM:0',\n",
       " '5P8N:A',\n",
       " '5OZK:A',\n",
       " '5P1Y:A',\n",
       " '5P6J:A',\n",
       " '5P3I:A',\n",
       " '5P1U:A',\n",
       " '5OYS:A',\n",
       " '5P7E:A',\n",
       " '5P6L:A',\n",
       " '5P5D:A',\n",
       " '5P30:A',\n",
       " '5P03:A',\n",
       " '5P6Y:A',\n",
       " '1ALO:0',\n",
       " '1BUK:0']"
      ]
     },
     "execution_count": 192,
     "metadata": {},
     "output_type": "execute_result"
    }
   ],
   "source": [
    "missing"
   ]
  },
  {
   "cell_type": "code",
   "execution_count": 234,
   "metadata": {},
   "outputs": [
    {
     "name": "stdout",
     "output_type": "stream",
     "text": [
      "5EXC:G has 1\n",
      "5EXC:G has 1\n",
      "1BOS:J has 1\n",
      "1BOS:J has 1\n",
      "1TDM:0 has 1\n",
      "5P8N:A has 2\n",
      "5OZK:A has 2\n",
      "5P1Y:A has 2\n",
      "5P6J:A has 2\n",
      "5P3I:A has 2\n",
      "5P1U:A has 2\n",
      "5OYS:A has 2\n",
      "5P7E:A has 2\n",
      "5P6L:A has 2\n",
      "5P5D:A has 2\n",
      "5P30:A has 2\n",
      "5P03:A has 2\n",
      "5P6Y:A has 2\n",
      "1ALO:0 has 7\n",
      "1BUK:0 has 6\n"
     ]
    }
   ],
   "source": [
    "for c in missing:\n",
    "    print(c, \"has\", domains_from_chain(c))"
   ]
  },
  {
   "attachments": {},
   "cell_type": "markdown",
   "metadata": {},
   "source": [
    "### Finally\n",
    "\n",
    "After performing stratified sampling and downloading the data, only 20 chains were missings. The results are shown below"
   ]
  },
  {
   "cell_type": "code",
   "execution_count": null,
   "metadata": {},
   "outputs": [],
   "source": []
  },
  {
   "cell_type": "code",
   "execution_count": 241,
   "metadata": {},
   "outputs": [
    {
     "name": "stdout",
     "output_type": "stream",
     "text": [
      "5exc:G not in\n",
      "1bos:J not in\n"
     ]
    }
   ],
   "source": [
    "true_random_sample = copy.deepcopy(random_sample)\n",
    "for chain in missing:\n",
    "    chain = chain[:-1].lower() + chain[-1]\n",
    "    # print(chain)\n",
    "    n = domains_from_chain(chain)\n",
    "    try:\n",
    "        true_random_sample[str(n)].remove(chain)\n",
    "    except ValueError:\n",
    "        print(chain, \"not in\") # probably removed already"
   ]
  },
  {
   "cell_type": "code",
   "execution_count": 242,
   "metadata": {},
   "outputs": [
    {
     "data": {
      "image/png": "[encoded data removed]",
      "text/plain": [
       "<Figure size 1008x936 with 1 Axes>"
      ]
     },
     "metadata": {
      "needs_background": "light"
     },
     "output_type": "display_data"
    },
    {
     "name": "stdout",
     "output_type": "stream",
     "text": [
      "Chains with 1 domains: 2497\n",
      "Chains with 2 domains: 2487\n",
      "Chains with 3 domains: 2500\n",
      "Chains with 4 domains: 2500\n",
      "Chains with 8 domains: 419\n",
      "Chains with 7 domains: 159\n",
      "Chains with 6 domains: 862\n",
      "Chains with 5 domains: 2338\n",
      "Chains with 10 domains: 44\n",
      "Chains with 9 domains: 75\n",
      "Chains with 12 domains: 21\n",
      "Chains with 13 domains: 29\n",
      "Chains with 11 domains: 4\n",
      "Chains with 20 domains: 2\n",
      "Chains with 19 domains: 1\n",
      "Chains with 16 domains: 8\n",
      "Chains with 14 domains: 1\n"
     ]
    }
   ],
   "source": [
    "domains = [str(i) for i in range(1,21)]\n",
    "size = [len(true_random_sample.get(str(i),[] )) for i in range(1,21)]\n",
    "\n",
    "fig = plt.figure(figsize = (14, 13))\n",
    "\n",
    "# creating the bar plot\n",
    "plt.bar(domains, size, width = 0.4)\n",
    "\n",
    "plt.xlabel(\"Number of domains\")\n",
    "plt.ylabel(\"Number of chains\")\n",
    "plt.title(\"\")\n",
    "plt.show()\n",
    "\n",
    "for k in [int(x) for x in true_random_sample.keys()]:\n",
    "    print(f\"Chains with {k} domains: {len(true_random_sample[str(k)])}\")"
   ]
  }
 ],
 "metadata": {
  "kernelspec": {
   "display_name": "base",
   "language": "python",
   "name": "python3"
  },
  "language_info": {
   "codemirror_mode": {
    "name": "ipython",
    "version": 3
   },
   "file_extension": ".py",
   "mimetype": "text/x-python",
   "name": "python",
   "nbconvert_exporter": "python",
   "pygments_lexer": "ipython3",
   "version": "3.9.12"
  },
  "orig_nbformat": 4,
  "vscode": {
   "interpreter": {
    "hash": "1b6993604730f8cf29f5900b73e8b88206f8a6983047fdc957f382b3e5d49baa"
   }
  }
 },
 "nbformat": 4,
 "nbformat_minor": 2
}
