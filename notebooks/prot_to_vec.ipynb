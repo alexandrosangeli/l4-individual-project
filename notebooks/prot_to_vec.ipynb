{
 "cells": [
  {
   "cell_type": "code",
   "execution_count": 1,
   "metadata": {},
   "outputs": [],
   "source": [
    "import numpy as np\n",
    "from sequence_models.pretrained import load_model_and_alphabet"
   ]
  },
  {
   "cell_type": "code",
   "execution_count": 2,
   "metadata": {},
   "outputs": [],
   "source": [
    "model, collater = load_model_and_alphabet('../pretrained_esm/microsoft/carp_600k.pt')\n",
    "\n",
    "# maybe download others and test them"
   ]
  },
  {
   "cell_type": "code",
   "execution_count": 4,
   "metadata": {},
   "outputs": [],
   "source": [
    "seqs = [['MDREQ'], ['MGTRRLLP']]\n",
    "# seqs = [['MGTRRLLP']]\n",
    "seqs = [['MDREQ']]\n",
    "x = collater(seqs)[0]  # (n, max_len)\n",
    "rep = model(x)  # (n, max_len, d_model)"
   ]
  },
  {
   "cell_type": "code",
   "execution_count": 5,
   "metadata": {},
   "outputs": [
    {
     "data": {
      "text/plain": [
       "torch.Size([5, 128])"
      ]
     },
     "execution_count": 5,
     "metadata": {},
     "output_type": "execute_result"
    }
   ],
   "source": [
    "rep['representations'][16][0].shape"
   ]
  },
  {
   "cell_type": "code",
   "execution_count": 14,
   "metadata": {},
   "outputs": [
    {
     "data": {
      "text/plain": [
       "torch.Size([1, 5, 128])"
      ]
     },
     "execution_count": 14,
     "metadata": {},
     "output_type": "execute_result"
    }
   ],
   "source": [
    "seqs = [['MDREQ']]\n",
    "# seqs = [['MGTRRLLP']]\n",
    "# seqs = [['MDREQ']]\n",
    "x = collater(seqs)[0]  # (n, max_len)\n",
    "rep = model(x)  # (n, max_len, d_model)\n",
    "rep['representations'][16].shape"
   ]
  },
  {
   "cell_type": "code",
   "execution_count": 1,
   "metadata": {},
   "outputs": [],
   "source": [
    "def metrics(y_pred, y_true):\n",
    "    true_positive = 0\n",
    "    true_negative = 0\n",
    "    false_negative = 0\n",
    "    false_positive = 0\n",
    "\n",
    "    for i in range(len(y_pred)):\n",
    "        window = y_true[max(0, i-20):min(len(y_true), i+20)]\n",
    "        if y_pred[i] == 1.0:\n",
    "            if 1.0 in window:\n",
    "                true_positive += 1\n",
    "            else:\n",
    "                false_positive += 1\n",
    "\n",
    "\n",
    "        elif y_pred[i] == 0.0:\n",
    "            if y_true[i] == 1.0:\n",
    "                false_negative += 1\n",
    "            else:\n",
    "                true_negative += 1\n",
    "\n",
    "    try:\n",
    "        accuracy = (true_negative + true_positive) / (true_negative + true_positive + false_negative + false_positive)\n",
    "    except ZeroDivisionError:\n",
    "        accuracy = 0\n",
    "\n",
    "    try:\n",
    "        precision = true_positive / (true_positive + false_positive)\n",
    "    except ZeroDivisionError:\n",
    "        precision = 0\n",
    "\n",
    "    try:\n",
    "        recall = true_positive / (true_positive + false_negative)\n",
    "    except ZeroDivisionError:\n",
    "        recall = 0\n",
    "\n",
    "    try:\n",
    "        f1 = (2 * precision * recall) / (precision + recall)\n",
    "    except ZeroDivisionError:\n",
    "        f1 = 0\n",
    "\n",
    "    try:\n",
    "        mcc = ((true_positive * true_negative) - (false_positive * false_negative)) / ((true_positive + false_positive) * (true_positive + false_negative) * (true_negative + false_positive) * (true_negative + false_negative))**0.5\n",
    "    except ZeroDivisionError:\n",
    "        mcc = 0\n",
    "\n",
    "    return (accuracy, precision, recall, f1, mcc)"
   ]
  },
  {
   "cell_type": "code",
   "execution_count": 5,
   "metadata": {},
   "outputs": [
    {
     "data": {
      "text/plain": [
       "(0.9999999, 1.0, 0.5, 0.6666666666666666, 0.707106745831204)"
      ]
     },
     "execution_count": 5,
     "metadata": {},
     "output_type": "execute_result"
    }
   ],
   "source": [
    "pred = [0] * 10000000\n",
    "true = [0] * 10000000\n",
    "\n",
    "pred[4] = 1\n",
    "true[5] = 1\n",
    "\n",
    "metrics(pred, true)"
   ]
  }
 ],
 "metadata": {
  "kernelspec": {
   "display_name": "base",
   "language": "python",
   "name": "python3"
  },
  "language_info": {
   "codemirror_mode": {
    "name": "ipython",
    "version": 3
   },
   "file_extension": ".py",
   "mimetype": "text/x-python",
   "name": "python",
   "nbconvert_exporter": "python",
   "pygments_lexer": "ipython3",
   "version": "3.9.12"
  },
  "orig_nbformat": 4,
  "vscode": {
   "interpreter": {
    "hash": "1b6993604730f8cf29f5900b73e8b88206f8a6983047fdc957f382b3e5d49baa"
   }
  }
 },
 "nbformat": 4,
 "nbformat_minor": 2
}
