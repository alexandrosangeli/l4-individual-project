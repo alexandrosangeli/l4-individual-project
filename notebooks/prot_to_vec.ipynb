{
 "cells": [
  {
   "cell_type": "code",
   "execution_count": 8,
   "metadata": {},
   "outputs": [],
   "source": [
    "import numpy as np\n",
    "from sequence_models.pretrained import load_model_and_alphabet"
   ]
  },
  {
   "cell_type": "code",
   "execution_count": 2,
   "metadata": {},
   "outputs": [],
   "source": [
    "model, collater = load_model_and_alphabet('../pretrained_esm/microsoft/carp_600k.pt')\n",
    "\n",
    "# maybe download others and test them"
   ]
  },
  {
   "cell_type": "code",
   "execution_count": 3,
   "metadata": {},
   "outputs": [],
   "source": [
    "seqs = [['MDREQ'], ['MGTRRLLP']]\n",
    "# seqs = [['MGTRRLLP']]\n",
    "# seqs = [['MDREQ']]\n",
    "x = collater(seqs)[0]  # (n, max_len)\n",
    "rep = model(x)  # (n, max_len, d_model)"
   ]
  },
  {
   "cell_type": "code",
   "execution_count": 12,
   "metadata": {},
   "outputs": [
    {
     "data": {
      "text/plain": [
       "tensor([[-4.1366,  5.1128, -3.6904,  ...,  0.2222,  4.6479, -1.8519],\n",
       "        [-1.4000,  5.1182, -3.2264,  ..., -0.3830,  3.2247, -1.6782],\n",
       "        [-0.7146,  4.7172, -1.9305,  ...,  0.8250, -3.7471, -0.5640],\n",
       "        ...,\n",
       "        [-2.3337,  3.4047,  0.9617,  ...,  1.4845, -0.6672,  2.1559],\n",
       "        [-0.8996,  3.4637, -0.5748,  ...,  1.1370, -0.4351,  2.1470],\n",
       "        [-0.7039,  4.0368,  0.7780,  ...,  0.1764,  0.6147,  0.9072]],\n",
       "       grad_fn=<SelectBackward0>)"
      ]
     },
     "execution_count": 12,
     "metadata": {},
     "output_type": "execute_result"
    }
   ],
   "source": [
    "rep['representations'][16][0]"
   ]
  },
  {
   "cell_type": "code",
   "execution_count": 14,
   "metadata": {},
   "outputs": [
    {
     "data": {
      "text/plain": [
       "torch.Size([1, 5, 128])"
      ]
     },
     "execution_count": 14,
     "metadata": {},
     "output_type": "execute_result"
    }
   ],
   "source": [
    "seqs = [['MDREQ']]\n",
    "# seqs = [['MGTRRLLP']]\n",
    "# seqs = [['MDREQ']]\n",
    "x = collater(seqs)[0]  # (n, max_len)\n",
    "rep = model(x)  # (n, max_len, d_model)\n",
    "rep['representations'][16].shape"
   ]
  }
 ],
 "metadata": {
  "kernelspec": {
   "display_name": "base",
   "language": "python",
   "name": "python3"
  },
  "language_info": {
   "codemirror_mode": {
    "name": "ipython",
    "version": 3
   },
   "file_extension": ".py",
   "mimetype": "text/x-python",
   "name": "python",
   "nbconvert_exporter": "python",
   "pygments_lexer": "ipython3",
   "version": "3.9.12"
  },
  "orig_nbformat": 4,
  "vscode": {
   "interpreter": {
    "hash": "1b6993604730f8cf29f5900b73e8b88206f8a6983047fdc957f382b3e5d49baa"
   }
  }
 },
 "nbformat": 4,
 "nbformat_minor": 2
}
