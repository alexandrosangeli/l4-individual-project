{
 "cells": [
  {
   "cell_type": "code",
   "execution_count": 24,
   "metadata": {},
   "outputs": [],
   "source": [
    "import json\n",
    "import numpy as np\n",
    "from helpers.helper import get_cath"
   ]
  },
  {
   "cell_type": "code",
   "execution_count": 6,
   "metadata": {},
   "outputs": [],
   "source": [
    "cath = get_cath()"
   ]
  },
  {
   "cell_type": "code",
   "execution_count": 21,
   "metadata": {},
   "outputs": [],
   "source": [
    "def is_disc(chain):\n",
    "\tdomains = cath[chain[:-2]][chain[-1]]\n",
    "\tfor _, bounds in domains.items():\n",
    "\t\tif ',' in bounds:\n",
    "\t\t\treturn True\n",
    "\treturn False"
   ]
  },
  {
   "cell_type": "code",
   "execution_count": 19,
   "metadata": {},
   "outputs": [
    {
     "name": "stdout",
     "output_type": "stream",
     "text": [
      "True 1-186,285-327\n"
     ]
    }
   ],
   "source": [
    "chain = '10mh:A'\n",
    "domains = cath[chain[:-2]][chain[-1]]\n",
    "for _, bounds in domains.items():\n",
    "    if ',' in bounds:\n",
    "        print(True, bounds)"
   ]
  },
  {
   "cell_type": "code",
   "execution_count": 7,
   "metadata": {},
   "outputs": [],
   "source": [
    "with open('../data/cath/iid/chains_to_seq_iid.json', 'r') as jf:\n",
    "\tchains_to_seq = json.load(jf)"
   ]
  },
  {
   "cell_type": "code",
   "execution_count": 22,
   "metadata": {},
   "outputs": [
    {
     "name": "stdout",
     "output_type": "stream",
     "text": [
      "Non-Discontinuous count: 6545\n",
      "Discontinuous count: 1952\n"
     ]
    }
   ],
   "source": [
    "disc, non_dics = 0, 0\n",
    "for chain in chains_to_seq.keys():\n",
    "    if is_disc(chain):\n",
    "        disc += 1\n",
    "    else:\n",
    "        non_dics += 1\n",
    "        \n",
    "print(\"Non-Discontinuous count:\", non_dics)\n",
    "print(\"Discontinuous count:\", disc)"
   ]
  },
  {
   "cell_type": "code",
   "execution_count": 28,
   "metadata": {},
   "outputs": [],
   "source": [
    "def boundaries_to_domains(binary_vector):\n",
    "    binary_vector = np.copy(binary_vector)\n",
    "    domain = 1\n",
    "    for i in range(len(binary_vector)):\n",
    "        if binary_vector[i] == 1:\n",
    "            # this is the start of a new domain\n",
    "            domain += 1\n",
    "        binary_vector[i] = domain\n",
    "    return binary_vector"
   ]
  },
  {
   "cell_type": "code",
   "execution_count": 29,
   "metadata": {},
   "outputs": [
    {
     "data": {
      "text/plain": [
       "array([1, 1, 1, 1, 2, 2, 2, 2, 2, 3, 3])"
      ]
     },
     "execution_count": 29,
     "metadata": {},
     "output_type": "execute_result"
    }
   ],
   "source": [
    "boundaries_to_domains([0,0,0,0,1,0,0,0,0,1,0])"
   ]
  },
  {
   "cell_type": "code",
   "execution_count": 93,
   "metadata": {},
   "outputs": [],
   "source": [
    "def ndo(y_pred, y_true):\n",
    "    y_pred = boundaries_to_domains(y_pred)\n",
    "    y_true = boundaries_to_domains(y_true)\n",
    "    table = np.zeros((y_true[-1]+1, y_pred[-1]+1))\n",
    "    \n",
    "    for d_pred, d_true in zip(y_pred, y_true):\n",
    "        table[d_true-1, d_pred-1] += 1\n",
    "\n",
    "    print(table.shape)\n",
    "    print(table)\n",
    "\n",
    "    # columns\n",
    "    for i in range(table.shape[1]-1):\n",
    "        table[-1, i] = 2 * max(table[:, i]) - sum(table[:, i])\n",
    "\n",
    "    # rows\n",
    "    for i in range(table.shape[0]-1):\n",
    "        table[i, -1] = 2 * max(table[i, :]) - sum(table[i, :])\n",
    "\n",
    "    table[-1, -1] = (sum(table[:, -1]) + sum(table[-1, :])) / 2\n",
    "\n",
    "    score = table[-1, -1] / len(y_true)\n",
    "\n",
    "    print(table)\n",
    "\n",
    "    return score\n"
   ]
  },
  {
   "cell_type": "code",
   "execution_count": 94,
   "metadata": {},
   "outputs": [
    {
     "name": "stdout",
     "output_type": "stream",
     "text": [
      "(3, 4)\n",
      "[[ 85.   0.   0.   0.]\n",
      " [  0. 134.  82.   0.]\n",
      " [  0.   0.   0.   0.]]\n",
      "[[ 85.   0.   0.  85.]\n",
      " [  0. 134.  82.  52.]\n",
      " [ 85. 134.  82. 219.]]\n"
     ]
    },
    {
     "data": {
      "text/plain": [
       "0.7275747508305648"
      ]
     },
     "execution_count": 94,
     "metadata": {},
     "output_type": "execute_result"
    }
   ],
   "source": [
    "y_true = [0] * 301\n",
    "y_pred = [0] * 301\n",
    "\n",
    "y_true[85] = 1\n",
    "y_pred[85] = 1\n",
    "\n",
    "y_pred[85+134] = 1\n",
    "\n",
    "\n",
    "ndo(y_pred, y_true)"
   ]
  },
  {
   "cell_type": "code",
   "execution_count": null,
   "metadata": {},
   "outputs": [],
   "source": []
  }
 ],
 "metadata": {
  "kernelspec": {
   "display_name": "base",
   "language": "python",
   "name": "python3"
  },
  "language_info": {
   "codemirror_mode": {
    "name": "ipython",
    "version": 3
   },
   "file_extension": ".py",
   "mimetype": "text/x-python",
   "name": "python",
   "nbconvert_exporter": "python",
   "pygments_lexer": "ipython3",
   "version": "3.9.12"
  },
  "orig_nbformat": 4
 },
 "nbformat": 4,
 "nbformat_minor": 2
}
