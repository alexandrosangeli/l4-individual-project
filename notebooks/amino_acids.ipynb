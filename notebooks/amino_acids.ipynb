{
 "cells": [
  {
   "cell_type": "code",
   "execution_count": 21,
   "metadata": {},
   "outputs": [],
   "source": [
    "import json\n",
    "\n",
    "from Bio import SeqIO"
   ]
  },
  {
   "cell_type": "code",
   "execution_count": 28,
   "metadata": {},
   "outputs": [
    {
     "name": "stdout",
     "output_type": "stream",
     "text": [
      "SLSDKDKAAVKLLWSKISKSSDAIGNDALSRMIVVYPQTKTYFAHWPDLSPGSPHVKAHGKTVMGGIALAVSKIDDLRAGLLDLSEQHAYKLRVDPANFKILSHCILVVISMMFPKEFTPEAHVSLDKFLSGVSLALSERYR\n",
      "XSLSDKDKAAVKLLWSKISKSSDAIGNDALSRMIVVYPQTKTYFAHWPDLSPGSPHVKAHGKTVMGGIALAVSKIDDLRAGLLDLSEQHAYKLRVDPANFKILSHCILVVISMMFPKEFTPEAHVSLDKFLSGVSLALSERYR\n"
     ]
    },
    {
     "name": "stderr",
     "output_type": "stream",
     "text": [
      "/home/alexandros/anaconda3/lib/python3.9/site-packages/Bio/PDB/StructureBuilder.py:89: PDBConstructionWarning: WARNING: Chain A is discontinuous at line 5027.\n",
      "  warnings.warn(\n",
      "/home/alexandros/anaconda3/lib/python3.9/site-packages/Bio/PDB/StructureBuilder.py:89: PDBConstructionWarning: WARNING: Chain B is discontinuous at line 5072.\n",
      "  warnings.warn(\n",
      "/home/alexandros/anaconda3/lib/python3.9/site-packages/Bio/PDB/StructureBuilder.py:89: PDBConstructionWarning: WARNING: Chain C is discontinuous at line 5117.\n",
      "  warnings.warn(\n",
      "/home/alexandros/anaconda3/lib/python3.9/site-packages/Bio/PDB/StructureBuilder.py:89: PDBConstructionWarning: WARNING: Chain D is discontinuous at line 5162.\n",
      "  warnings.warn(\n",
      "/home/alexandros/anaconda3/lib/python3.9/site-packages/Bio/PDB/StructureBuilder.py:89: PDBConstructionWarning: WARNING: Chain A is discontinuous at line 5213.\n",
      "  warnings.warn(\n",
      "/home/alexandros/anaconda3/lib/python3.9/site-packages/Bio/PDB/StructureBuilder.py:89: PDBConstructionWarning: WARNING: Chain B is discontinuous at line 5317.\n",
      "  warnings.warn(\n",
      "/home/alexandros/anaconda3/lib/python3.9/site-packages/Bio/PDB/StructureBuilder.py:89: PDBConstructionWarning: WARNING: Chain C is discontinuous at line 5389.\n",
      "  warnings.warn(\n",
      "/home/alexandros/anaconda3/lib/python3.9/site-packages/Bio/PDB/StructureBuilder.py:89: PDBConstructionWarning: WARNING: Chain D is discontinuous at line 5494.\n",
      "  warnings.warn(\n"
     ]
    }
   ],
   "source": [
    "\n",
    "# open PDB file and extract chain ID\n",
    "pdb_filename = \"../data/pdb/bulk/balanced/backup/data/4esa.pdb\"\n",
    "chain_id = \"A\"\n",
    "\n",
    "# extract protein sequence from chain\n",
    "with open(pdb_filename, \"r\") as pdb_file:\n",
    "    for record in SeqIO.parse(pdb_file, \"pdb-atom\"):\n",
    "        if record.annotations[\"chain\"] == chain_id:\n",
    "            protein_seq = record.seq\n",
    "            break\n",
    "\n",
    "print(protein_seq)\n",
    "\n",
    "with open(pdb_filename, \"r\") as pdb_file:\n",
    "    for record in SeqIO.parse(pdb_file, \"pdb-seqres\"):\n",
    "        if record.annotations[\"chain\"] == chain_id:\n",
    "            protein_seq = record.seq\n",
    "            break\n",
    "\n",
    "print(protein_seq)"
   ]
  },
  {
   "cell_type": "code",
   "execution_count": null,
   "metadata": {},
   "outputs": [],
   "source": [
    "with open('../data/cath/key_to_seq_dict.json', 'r') as f:\n",
    "\tdata = json.load(f)\n",
    "\n"
   ]
  },
  {
   "cell_type": "code",
   "execution_count": null,
   "metadata": {},
   "outputs": [],
   "source": [
    "amino_acids = set()\n",
    "flag = False\n",
    "for ch, seq in data.items():\n",
    "\tfor i, aa in enumerate(seq):\n",
    "\t\tif aa == 'X':\n",
    "\t\t\tprint(ch, i, seq)\n",
    "\t\t\tflag = True\n",
    "\t\t\tinput()\n",
    "\t\tamino_acids.add(aa)\n",
    "amino_acids\n"
   ]
  }
 ],
 "metadata": {
  "kernelspec": {
   "display_name": "base",
   "language": "python",
   "name": "python3"
  },
  "language_info": {
   "codemirror_mode": {
    "name": "ipython",
    "version": 3
   },
   "file_extension": ".py",
   "mimetype": "text/x-python",
   "name": "python",
   "nbconvert_exporter": "python",
   "pygments_lexer": "ipython3",
   "version": "3.9.12"
  },
  "orig_nbformat": 4,
  "vscode": {
   "interpreter": {
    "hash": "1b6993604730f8cf29f5900b73e8b88206f8a6983047fdc957f382b3e5d49baa"
   }
  }
 },
 "nbformat": 4,
 "nbformat_minor": 2
}
