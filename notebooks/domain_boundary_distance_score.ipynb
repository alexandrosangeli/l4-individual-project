{
 "cells": [
  {
   "cell_type": "code",
   "execution_count": 2,
   "metadata": {},
   "outputs": [],
   "source": [
    "import numpy as np"
   ]
  },
  {
   "cell_type": "code",
   "execution_count": 8,
   "metadata": {},
   "outputs": [
    {
     "data": {
      "text/plain": [
       "0.875"
      ]
     },
     "execution_count": 8,
     "metadata": {},
     "output_type": "execute_result"
    }
   ],
   "source": [
    "def dbd_score(y_pred, y_true, margin=4):\n",
    "    scores = []\n",
    "    for i in range(len(y_pred)):\n",
    "        window = y_true[max(0, i-margin):min(len(y_true), i+margin+1)]\n",
    "        indices_window = list(range(max(0, i-margin), min(len(y_true), i+margin+1)))\n",
    "        if y_pred[i] == 1.0:\n",
    "            if 1.0 in window:\n",
    "                # if it's within the window, calculate the score\n",
    "                pos = np.where(window == 1.0)[0][0]\n",
    "                print(pos)\n",
    "                j = indices_window[pos]\n",
    "                diff = abs(i - j)\n",
    "                k = 0 if diff == 0 else 1\n",
    "                score = ((margin - diff) + k) / margin\n",
    "            else:\n",
    "                # false positive\n",
    "                score = 0\n",
    "            scores.append(score)\n",
    "\n",
    "    number_of_true_boundaries = np.sum(y_true)\n",
    "    number_of_pred_boundaries = np.sum(y_pred)\n",
    "    return np.sum(scores) / max(number_of_true_boundaries,number_of_pred_boundaries)\n",
    "\n",
    "y_pred = np.array([0,1,0,0,0,0,0,0,0,0,0,0,0,1,0,0,0,0,0,0,0,0])\n",
    "y_true = np.array([0,0,1,0,0,0,0,0,0,0,0,1,0,0,0,0,0,0,0,0,0,0])\n",
    "dbd_score(y_pred, y_true)"
   ]
  },
  {
   "cell_type": "code",
   "execution_count": 7,
   "metadata": {},
   "outputs": [
    {
     "data": {
      "text/plain": [
       "0.7"
      ]
     },
     "execution_count": 7,
     "metadata": {},
     "output_type": "execute_result"
    }
   ],
   "source": [
    "def dbd_score2(y_pred, y_true, margin=4):\n",
    "    scores = []\n",
    "    for i in range(len(y_pred)):\n",
    "        window = y_true[max(0, i-margin):min(len(y_true), i+margin+1)]\n",
    "        indices_window = list(range(max(0, i-margin), min(len(y_true), i+margin+1)))\n",
    "        if y_pred[i] == 1.0:\n",
    "            if 1.0 in window:\n",
    "                # if it's within the window, calculate the score\n",
    "                pos = window.index(1.0)\n",
    "                j = indices_window[pos]\n",
    "                diff = abs(i - j)\n",
    "                score = ((margin - diff) + 1) / (margin + 1)\n",
    "            else:\n",
    "                # false positive\n",
    "                score = 0\n",
    "            scores.append(score)\n",
    "    number_of_true_boundaries = np.sum(y_true)\n",
    "    number_of_pred_boundaries = np.sum(y_pred)\n",
    "    return np.sum(scores) / max(number_of_true_boundaries,number_of_pred_boundaries)\n",
    "\n",
    "y_pred = [0,1,0,0,0,0,0,0,0,0,0,0,0,1,0,0,0,0,0,0,0,0]\n",
    "y_true = [0,0,1,0,0,0,0,0,0,0,0,1,0,0,0,0,0,0,0,0,0,0]\n",
    "dbd_score2(y_pred, y_true)"
   ]
  },
  {
   "cell_type": "code",
   "execution_count": 35,
   "metadata": {},
   "outputs": [
    {
     "name": "stdout",
     "output_type": "stream",
     "text": [
      "indices window: [7, 8, 9, 10, 11, 12, 13, 14, 15]\n",
      "i, j: 11 11\n",
      "diff:  0\n",
      "score:  5\n",
      "y_pred index:  11\n",
      "y_true index:  11\n"
     ]
    }
   ],
   "source": [
    "y_pred = [0,0,0,0,0,0,0,0,0,0,0,1,0,0,0,0,0,0,0,0,0,0]\n",
    "y_true = [0,0,0,0,0,0,0,0,0,0,0,1,0,0,0,0,0,0,0,0,0,0]\n",
    "i = y_pred.index(1)\n",
    "margin = 4\n",
    "window = y_true[max(0, i-margin):min(len(y_true), i+margin+1)]\n",
    "indices_window = list(range(max(0, i-margin), min(len(y_true), i+margin+1)))\n",
    "print(\"indices window:\", indices_window)\n",
    "j_ = window.index(1)\n",
    "j = indices_window[j_]\n",
    "print(\"i, j:\", i, j)\n",
    "diff = abs(i - j)\n",
    "print(\"diff: \", diff)\n",
    "print(\"score: \", (margin - diff) + 1)\n",
    "print(\"y_pred index: \", i)\n",
    "print(\"y_true index: \", j)\n"
   ]
  },
  {
   "cell_type": "code",
   "execution_count": 22,
   "metadata": {},
   "outputs": [
    {
     "data": {
      "text/plain": [
       "22"
      ]
     },
     "execution_count": 22,
     "metadata": {},
     "output_type": "execute_result"
    }
   ],
   "source": [
    "def domain_boundary_distance(predicted, reference, distance_threshold):\n",
    "    dbd = 0\n",
    "    for p, r in zip(predicted, reference):\n",
    "        if abs(p - r) <= distance_threshold:\n",
    "            dbd += 1\n",
    "    return dbd\n",
    "\n",
    "\n",
    "domain_boundary_distance(y_pred, y_true, margin)    "
   ]
  },
  {
   "cell_type": "code",
   "execution_count": 17,
   "metadata": {},
   "outputs": [
    {
     "data": {
      "text/plain": [
       "[15, 16, 17, 18, 19]"
      ]
     },
     "execution_count": 17,
     "metadata": {},
     "output_type": "execute_result"
    }
   ],
   "source": [
    "def metrics(y_pred, y_true, margin=20):\n",
    "    true_positive = 0\n",
    "    true_negative = 0\n",
    "    false_negative = 0\n",
    "    false_positive = 0\n",
    "\n",
    "    for i in range(len(y_pred)):\n",
    "        window = y_true[max(0, i-margin):min(len(y_true), i+margin+1)]\n",
    "        if y_pred[i] == 1.0:\n",
    "            if 1.0 in window:\n",
    "                true_positive += 1\n",
    "            else:\n",
    "                false_positive += 1\n",
    "\n",
    "\n",
    "        elif y_pred[i] == 0.0:\n",
    "            if y_true[i] == 1.0:\n",
    "                false_negative += 1\n",
    "            else:\n",
    "                true_negative += 1\n",
    "\n",
    "    try:\n",
    "        accuracy = (true_negative + true_positive) / (true_negative + true_positive + false_negative + false_positive)\n",
    "    except ZeroDivisionError:\n",
    "        accuracy = 0\n",
    "\n",
    "    try:\n",
    "        precision = true_positive / (true_positive + false_positive)\n",
    "    except ZeroDivisionError:\n",
    "        precision = 0\n",
    "\n",
    "    try:\n",
    "        recall = true_positive / (true_positive + false_negative)\n",
    "    except ZeroDivisionError:\n",
    "        recall = 0\n",
    "\n",
    "    try:\n",
    "        f1 = (2 * precision * recall) / (precision + recall)\n",
    "    except ZeroDivisionError:\n",
    "        f1 = 0\n",
    "\n",
    "    try:\n",
    "        mcc = ((true_positive * true_negative) - (false_positive * false_negative)) / ((true_positive + false_positive) * (true_positive + false_negative) * (true_negative + false_positive) * (true_negative + false_negative))**0.5\n",
    "    except ZeroDivisionError:\n",
    "        mcc = 0\n",
    "\n",
    "    return (accuracy, precision, recall, f1, mcc)"
   ]
  }
 ],
 "metadata": {
  "kernelspec": {
   "display_name": "Python 3",
   "language": "python",
   "name": "python3"
  },
  "language_info": {
   "codemirror_mode": {
    "name": "ipython",
    "version": 3
   },
   "file_extension": ".py",
   "mimetype": "text/x-python",
   "name": "python",
   "nbconvert_exporter": "python",
   "pygments_lexer": "ipython3",
   "version": "3.8.10"
  },
  "orig_nbformat": 4,
  "vscode": {
   "interpreter": {
    "hash": "916dbcbb3f70747c44a77c7bcd40155683ae19c65e1c03b4aa3499c5328201f1"
   }
  }
 },
 "nbformat": 4,
 "nbformat_minor": 2
}
