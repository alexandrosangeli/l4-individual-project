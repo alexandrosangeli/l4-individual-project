{
 "cells": [
  {
   "cell_type": "code",
   "execution_count": 22,
   "id": "86217f2f",
   "metadata": {},
   "outputs": [],
   "source": [
    "from pprint import pprint"
   ]
  },
  {
   "cell_type": "code",
   "execution_count": 23,
   "id": "df95f277",
   "metadata": {},
   "outputs": [],
   "source": [
    "alpha = \"ABCDEFGHIJKLMNOPQRSTUVWXYZ\""
   ]
  },
  {
   "cell_type": "code",
   "execution_count": 32,
   "id": "5a121c5e",
   "metadata": {},
   "outputs": [
    {
     "name": "stdout",
     "output_type": "stream",
     "text": [
      "['4 ', '81 ', '                                 1-81 82-192 193-368 369-513', '    3.502638', '       ***', '']\n",
      "['7 ', '47 ', ' 1-81 82-128 129-192 193-255;339-368 256-338 369-451 452-513', '    3.333467', '         *', '']\n",
      "['6 ', '62 ', '         1-81 82-192 193-255;339-368 256-338 369-451 452-513', '    3.407615', '        **', '']\n",
      "['5 ', '62 ', '                 1-81 82-192 193-255;339-451 256-338 452-513', '    3.451592', '       ***', '']\n",
      "['4 ', '81 ', '                                 1-81 82-192 193-368 369-513', '    3.502638', '       ***', '']\n",
      "['3 ', '145', '                                       1-192 193-368 369-513', '    3.533774', '       ***', '']\n",
      "['2 ', '176', '                                       1-192;369-513 193-368', '    3.603867', '      ****', '']\n",
      "['1 ', '513', '                                                       1-513', '    0.000000', '       n/a', '']\n"
     ]
    }
   ],
   "source": [
    "data = {}\n",
    "with open(\"../data/sword/SWORD/out.txt\", \"r\") as f:\n",
    "    lines = f.readlines()\n",
    "    for i, line in enumerate(lines):\n",
    "        lines[i] = \"\".join([c for c in line if c not in [\"\\n\",'']])\n",
    "        if line != \"\\n\":\n",
    "            if not line.startswith((\"PDB:\", \"#D\", \"A\")):\n",
    "                res = lines[i].split(\"|\")\n",
    "                res = []\n",
    "                \n"
   ]
  },
  {
   "cell_type": "code",
   "execution_count": null,
   "id": "75bdb734",
   "metadata": {},
   "outputs": [],
   "source": []
  }
 ],
 "metadata": {
  "kernelspec": {
   "display_name": "Python 3 (ipykernel)",
   "language": "python",
   "name": "python3"
  },
  "language_info": {
   "codemirror_mode": {
    "name": "ipython",
    "version": 3
   },
   "file_extension": ".py",
   "mimetype": "text/x-python",
   "name": "python",
   "nbconvert_exporter": "python",
   "pygments_lexer": "ipython3",
   "version": "3.9.12"
  }
 },
 "nbformat": 4,
 "nbformat_minor": 5
}
