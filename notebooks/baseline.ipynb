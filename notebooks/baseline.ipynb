{
  "cells": [
    {
      "cell_type": "markdown",
      "metadata": {
        "id": "c3-S7PmSW0RN"
      },
      "source": [
        "# Upgrade Pandas"
      ]
    },
    {
      "cell_type": "code",
      "execution_count": null,
      "metadata": {
        "colab": {
          "base_uri": "https://localhost:8080/"
        },
        "id": "_nzUgkYVnpgJ",
        "outputId": "8db4ddde-f879-46ca-8b78-e78bb3e43103"
      },
      "outputs": [
        {
          "output_type": "stream",
          "name": "stdout",
          "text": [
            "Looking in indexes: https://pypi.org/simple, https://us-python.pkg.dev/colab-wheels/public/simple/\n",
            "Collecting pandas==1.4.2\n",
            "  Downloading pandas-1.4.2-cp39-cp39-manylinux_2_17_x86_64.manylinux2014_x86_64.whl (11.7 MB)\n",
            "\u001b[2K     \u001b[90m━━━━━━━━━━━━━━━━━━━━━━━━━━━━━━━━━━━━━━━━\u001b[0m \u001b[32m11.7/11.7 MB\u001b[0m \u001b[31m51.1 MB/s\u001b[0m eta \u001b[36m0:00:00\u001b[0m\n",
            "\u001b[?25hRequirement already satisfied: python-dateutil>=2.8.1 in /usr/local/lib/python3.9/dist-packages (from pandas==1.4.2) (2.8.2)\n",
            "Requirement already satisfied: numpy>=1.18.5 in /usr/local/lib/python3.9/dist-packages (from pandas==1.4.2) (1.22.4)\n",
            "Requirement already satisfied: pytz>=2020.1 in /usr/local/lib/python3.9/dist-packages (from pandas==1.4.2) (2022.7.1)\n",
            "Requirement already satisfied: six>=1.5 in /usr/local/lib/python3.9/dist-packages (from python-dateutil>=2.8.1->pandas==1.4.2) (1.16.0)\n",
            "Installing collected packages: pandas\n",
            "  Attempting uninstall: pandas\n",
            "    Found existing installation: pandas 1.4.4\n",
            "    Uninstalling pandas-1.4.4:\n",
            "      Successfully uninstalled pandas-1.4.4\n",
            "Successfully installed pandas-1.4.2\n"
          ]
        }
      ],
      "source": [
        "!pip install pandas==1.4.2"
      ]
    },
    {
      "cell_type": "markdown",
      "metadata": {
        "id": "qMlFiJwVW5Xh"
      },
      "source": [
        "# Imports"
      ]
    },
    {
      "cell_type": "code",
      "source": [
        "import numpy as np\n",
        "import time\n",
        "from scipy import stats"
      ],
      "metadata": {
        "id": "iujG7CbqHy_k"
      },
      "execution_count": null,
      "outputs": []
    },
    {
      "cell_type": "code",
      "execution_count": null,
      "metadata": {
        "id": "H1uuBG4EW-PG"
      },
      "outputs": [],
      "source": [
        "import torch\n",
        "import torch.nn as nn\n",
        "import torchvision\n",
        "import torchvision.transforms as transforms\n",
        "from torch.utils.data import DataLoader, Dataset, Subset\n",
        "from sklearn.metrics import roc_curve, auc\n",
        "from google.colab import drive\n",
        "from google.colab import runtime\n",
        "import pandas as pd\n",
        "import numpy as np\n",
        "import time\n",
        "import random\n",
        "import logging\n",
        "import os.path\n",
        "import matplotlib.pyplot as plt\n",
        "import json\n",
        "import seaborn as sn\n",
        "import pandas as pd\n",
        "import matplotlib \n",
        "import matplotlib.pyplot as plt"
      ]
    },
    {
      "cell_type": "markdown",
      "metadata": {
        "id": "4MrmhjTZWtul"
      },
      "source": [
        "# Functions"
      ]
    },
    {
      "cell_type": "markdown",
      "metadata": {
        "id": "4V8-jucIUZnZ"
      },
      "source": [
        "## Helpers"
      ]
    },
    {
      "cell_type": "code",
      "source": [
        "def save_model_history(model, encoding, k):\n",
        "    with open(f'drive/My Drive/University of Glasgow/L4/L4 Project/models/trained/BiLSTM_{encoding}_fold{k}_hist.txt', 'w') as f:\n",
        "        f.write(\"mcc:\" + '\\n')\n",
        "        for elt in model.mcc_history:\n",
        "            f.write(str(elt) + '\\n')\n",
        "\n",
        "        f.write(\"loss:\" + '\\n')\n",
        "        for elt in model.loss_history:\n",
        "            f.write(str(elt) + '\\n')"
      ],
      "metadata": {
        "id": "Jf8HhdmUynxl"
      },
      "execution_count": null,
      "outputs": []
    },
    {
      "cell_type": "code",
      "execution_count": null,
      "metadata": {
        "id": "x-NVpn5AUf5I"
      },
      "outputs": [],
      "source": [
        "def is_disc(chain):\n",
        "\tdomains = cath[chain[:-2]][chain[-1]]\n",
        "\tfor _, bounds in domains.items():\n",
        "\t\tif ',' in bounds:\n",
        "\t\t\treturn True\n",
        "\treturn False\n",
        "\n",
        "def boundaries_to_domains(binary_vector):\n",
        "    binary_vector = np.copy(binary_vector)\n",
        "    domain = 1\n",
        "    for i in range(len(binary_vector)):\n",
        "        if int(binary_vector[i]) == 1:\n",
        "            # this is the start of a new domain\n",
        "            domain += 1\n",
        "        binary_vector[i] = domain\n",
        "    return binary_vector.astype(int)\n",
        "\n",
        "def ndo_score(y_pred, y_true, key):\n",
        "    if is_disc(key):\n",
        "        return 'n/a'\n",
        "\n",
        "    y_pred = boundaries_to_domains(y_pred)\n",
        "    y_true = boundaries_to_domains(y_true)\n",
        "\n",
        "    table = np.zeros((max(y_pred)+2,max(y_true)+2))\n",
        "    \n",
        "    for d_pred, d_true in zip(y_pred, y_true):\n",
        "        table[d_pred, d_true] += 1\n",
        "\n",
        "    # columns\n",
        "    for i in range(1, table.shape[1]-1):\n",
        "        table[-1, i] = 2 * max(table[:, i]) - sum(table[:, i])\n",
        "\n",
        "    # rows\n",
        "    for i in range(1, table.shape[0]-1):\n",
        "        table[i, -1] = 2 * max(table[i, :]) - sum(table[i, :])\n",
        "\n",
        "    table[-1, -1] = (sum(table[:, -1]) + sum(table[-1, :])) / 2\n",
        "\n",
        "\n",
        "    num_of_defined_domains = 0\n",
        "    for elt in y_true:\n",
        "        if elt > 0:\n",
        "            num_of_defined_domains += 1\n",
        "    score = table[-1, -1] / num_of_defined_domains\n",
        "\n",
        "    return score\n",
        "\n",
        "\n",
        "\n",
        "def plot_losses(losses):\n",
        "    x_label = \"Steps\"\n",
        "    y_label = \"Running loss\"\n",
        "\n",
        "    # Plot the losses\n",
        "    plt.figure(figsize=(8, 6), dpi=80)\n",
        "    plt.title(\"Running loss over time\")\n",
        "    plt.plot(losses)\n",
        "\n",
        "    # Add x and y labels to the plot\n",
        "    plt.xlabel(x_label)\n",
        "    plt.ylabel(y_label)\n",
        "\n",
        "    # Display the plot\n",
        "    plt.show()\n",
        "\n",
        "\n",
        "def update_dict(data, code, chain, domain, boundaries):\n",
        "    data[code] = data.get(code, {})\n",
        "    if chain not in data[code].keys():\n",
        "        data[code][chain] = {}\n",
        "    data[code][chain][str(int(domain))] = boundaries\n",
        "    return data\n",
        "\n",
        "\n",
        "def num_of_domains(key):\n",
        "    code = key[:4]\n",
        "    chain = key[-1]\n",
        "    return len(cath[code][chain])\n",
        "\n",
        "\n",
        "def get_cath(lines_range = None, file=\"drive/My Drive/University of Glasgow/L4/L4 Project/cath_domain_boundaries.txt\", verb=False):\n",
        "    with open(file, \"r\") as f:\n",
        "        lines = f.readlines() if lines_range is None else f.readlines()[lines_range[0]:lines_range[1]]\n",
        "        lines = map(lambda x : x.strip(), lines)\n",
        "        big = 0\n",
        "        data = {}\n",
        "        for line in lines:\n",
        "            name, boundaries = line.split(\"\\t\")\n",
        "            code = name[:4]\n",
        "            chain = name[4]\n",
        "            domain = name[5:]\n",
        "            data = update_dict(data, code, chain, domain, boundaries)\n",
        "    # verb and pprint(data)\n",
        "    return data\n",
        "\n",
        "def load_data(path, encoding):\n",
        "    encoding_file = encoding_map[encoding]\n",
        "    data = pd.read_pickle(path + encoding_file)\n",
        "    return data\n",
        "\n",
        "\n",
        "def median_seq(seq):\n",
        "    # parse a sequence (which will be the output from the model)\n",
        "    # for every series of consecutive ones, leave only the median as one - the rest turn to 0\n",
        "    # seq = [1,1,0,0,0,0,0,1,1,1,0,0,0,0,0,1,1,1,0,1,1]\n",
        "    new_seq = np.zeros(len(seq))\n",
        "    consecutive_ones_indices = []\n",
        "    medians = []\n",
        "\n",
        "    # marks if the first consecutive zeros that are less than the typical size is the first (meaning is the beginning of the first domain)\n",
        "    for i in range(len(seq)):\n",
        "        if seq[i] == 0:\n",
        "            if len(consecutive_ones_indices) > 0:\n",
        "                medians.append(int(np.median(consecutive_ones_indices)))\n",
        "            consecutive_ones_indices = []\n",
        "\n",
        "        if seq[i] == 1:\n",
        "            consecutive_ones_indices.append(i)\n",
        "\n",
        "    if len(consecutive_ones_indices) > 0:\n",
        "        medians.append(int(np.median(consecutive_ones_indices)))\n",
        "\n",
        "    for elt in medians:\n",
        "        new_seq[elt] = 1\n",
        "\n",
        "    return new_seq\n",
        "\n",
        "\n",
        "def amplify_sharp(arr, size=41):\n",
        "    conv = np.ones((size))\n",
        "    result = np.convolve(arr, conv, mode='same')\n",
        "    normalize_by = np.max(result)\n",
        "    result = result / max(normalize_by, 1)\n",
        "    return result "
      ]
    },
    {
      "cell_type": "markdown",
      "metadata": {
        "id": "7LFMVrbaUVsu"
      },
      "source": [
        "## Metrics"
      ]
    },
    {
      "cell_type": "code",
      "execution_count": null,
      "metadata": {
        "id": "r0sETYntR3ID"
      },
      "outputs": [],
      "source": [
        "# mcc optmization\n",
        "def confusion_matrix_B(all_y_pred, all_y_true, t):\n",
        "    ts, tm, fs, fm = 0, 0, 0, 0\n",
        "    for (pred, true) in zip(all_y_pred, all_y_true):\n",
        "        pred = np.where(pred > t, 1, 0)\n",
        "        pred = median_seq(pred)\n",
        "        true_num = np.sum(true)\n",
        "        pred_num = np.sum(pred)\n",
        "        if int(true_num) == 0 and int(pred_num) == 0:\n",
        "            ts += 1\n",
        "        \n",
        "        if int(true_num) > 0 and int(pred_num) > 0:\n",
        "            tm += 1\n",
        "\n",
        "        if int(true_num) == 0 and int(pred_num) > 0:\n",
        "            fm += 1\n",
        "\n",
        "        if int(true_num) > 0 and int(pred_num) == 0:\n",
        "            fs += 1\n",
        "    return (ts, tm, fs, fm)\n",
        "\n",
        "def mcc_single_multi(ts, tm, fs, fm):\n",
        "    mcc_num = (tm * ts) - (fm * fs)\n",
        "    mcc_den = ((tm + fm) * (tm + fs) * (fm + ts) * (ts + fs))**0.5\n",
        "    mcc = mcc_num / mcc_den if mcc_den != 0 else 0\n",
        "    return mcc\n",
        "\n",
        "def optimise_single_multi_mcc(all_y_pred, all_y_true, max_num_iterations=10, linspace_size=6, start=0.1, end=0.4, ):\n",
        "    best_score = 0\n",
        "    i = 0\n",
        "    flag = True\n",
        "    while max_num_iterations > i and flag:\n",
        "        flag = False\n",
        "        best_t = start\n",
        "        for t in np.linspace(start, end, linspace_size):\n",
        "            ts, tm, fs, fm = confusion_matrix_B(all_y_pred, all_y_true, t)\n",
        "            score = mcc_single_multi(ts, tm, fs, fm)\n",
        "            if score > best_score:\n",
        "                best_t = t\n",
        "                best_score = score\n",
        "                flag = True\n",
        "        start = best_t * 0.75\n",
        "        end = best_t * 1.25\n",
        "        i += 1\n",
        "    return best_score, best_t"
      ]
    },
    {
      "cell_type": "code",
      "execution_count": null,
      "metadata": {
        "id": "LgOzgZv3UcFX"
      },
      "outputs": [],
      "source": [
        "def dbd_score(y_pred, y_true, margin=20):\n",
        "    scores = []\n",
        "    number_of_true_boundaries = np.sum(y_true)\n",
        "    number_of_pred_boundaries = np.sum(y_pred)\n",
        "    denominator = max(number_of_true_boundaries,number_of_pred_boundaries)\n",
        "\n",
        "    if denominator == 0:\n",
        "        return 'n/a'\n",
        "\n",
        "    y_true_cp = np.copy(y_true)\n",
        "    for i in range(len(y_pred)):\n",
        "        window = y_true_cp[max(0, i-margin):min(len(y_true_cp), i+margin+1)]\n",
        "        indices_window = list(range(max(0, i-margin), min(len(y_true_cp), i+margin+1)))\n",
        "        if y_pred[i] == 1.0:\n",
        "            if 1.0 in window:\n",
        "                # if it's within the window, calculate the score\n",
        "                pos = np.where(window == 1.0)[0][0]\n",
        "                j = indices_window[pos]\n",
        "                diff = abs(i - j)\n",
        "                score = ((margin - diff) + 1) / (margin + 1)\n",
        "                y_true_cp[j] = 0\n",
        "                scores.append(score)\n",
        "    return np.sum(scores) / denominator\n",
        "\n",
        "\n",
        "def confusion_matrix_bp(y_pred, y_true, margin):\n",
        "    tp = 0\n",
        "    tn = 0\n",
        "    fp = 0\n",
        "    fn = 0\n",
        "\n",
        "    y_true_cp = np.copy(y_true)\n",
        "\n",
        "    for i in range(len(y_pred)):\n",
        "        window = y_true_cp[max(0, i-margin):min(len(y_true_cp), i+margin+1)]\n",
        "        indices_window = list(range(max(0, i-margin), min(len(y_true_cp), i+margin+1)))\n",
        "        if y_pred[i] == 1.0:\n",
        "            if 1.0 in window:\n",
        "                pos = np.where(window == 1.0)[0][0]\n",
        "                j = indices_window[pos]\n",
        "                y_true_cp[j] = 0.0\n",
        "                tp += 1\n",
        "            else:\n",
        "                fp += 1\n",
        "\n",
        "    for i in range(len(y_pred)):\n",
        "        if y_pred[i] == 0.0:\n",
        "            if  y_true_cp[i] == 1.0:\n",
        "                fn += 1\n",
        "            else:\n",
        "                tn += 1\n",
        "\n",
        "    return (tp, tn, fp, fn)\n",
        "\n",
        "\n",
        "def num_of_domains_metrics(confusion_matrix_num):\n",
        "    ts, tm, fs, fm = confusion_matrix_num\n",
        "    # single\n",
        "    pre_single = ts / (ts + fs) if (ts + fs) != 0 else 0\n",
        "    rec_single = ts / (ts + fm) if (ts + fm) != 0 else 0\n",
        "    \n",
        "    # multi\n",
        "    pre_multi = tm / (tm + fm) if (tm + fm) != 0 else 0\n",
        "    rec_multi = tm / (tm + fs) if (tm + fs) != 0 else 0\n",
        "\n",
        "    acc = (tm + ts) / (tm + ts + fm + fs)\n",
        "\n",
        "    # mcc\n",
        "    mcc_num = (tm * ts) - (fm * fs)\n",
        "    mcc_den = ((tm + fm) * (tm + fs) * (fm + ts) * (ts + fs))**0.5\n",
        "    mcc = mcc_num / mcc_den if mcc_den != 0 else 0\n",
        "\n",
        "    return (pre_single, rec_single, pre_multi, rec_multi, acc, mcc)\n",
        "\n",
        "def boundary_prediction_metrics(y_pred, y_true, key, margin=20):\n",
        "    tp, tn, fp, fn = confusion_matrix_bp(y_pred, y_true, margin)\n",
        "\n",
        "    mcc_num = (tp * tn) - (fp * fn)\n",
        "    mcc_den = np.sqrt((tp + fp) * (tp + fn) * (tn + fp) * (tn + fn))\n",
        "    mcc = mcc_num / mcc_den if mcc_den else 0\n",
        "\n",
        "    dbd = dbd_score(y_pred, y_true, margin)\n",
        "    ndo = ndo_score(y_pred, y_true, key)\n",
        "\n",
        "    return (ndo, dbd, mcc)\n",
        "\n",
        "def domain_number_metrics(all_y_pred, all_y_true, t):\n",
        "    ts, tm, fs, fm = confusion_matrix_B(all_y_pred, all_y_true, t)\n",
        "    pre_single, rec_single, pre_multi, rec_multi, acc, mcc = num_of_domains_metrics((ts, tm, fs, fm))\n",
        "    return pre_single, rec_single, pre_multi, rec_multi, acc, mcc"
      ]
    },
    {
      "cell_type": "markdown",
      "metadata": {
        "id": "24OWolUJUSdz"
      },
      "source": [
        "## Train"
      ]
    },
    {
      "cell_type": "code",
      "source": [
        "def save_for_cutoff_optimisation(model, validation_loader):\n",
        "    all_y_true = None\n",
        "    all_y_pred = None\n",
        "    n_samples = len(validation_loader)\n",
        "    model.eval()\n",
        "    with torch.no_grad():\n",
        "        for i, (input, y_true, _, key, _) in enumerate(validation_loader):\n",
        "            input = input.float().to(device)\n",
        "            y_pred = model(input)\n",
        "\n",
        "            y_pred = y_pred.cpu()\n",
        "            y_true = y_true.cpu().detach().numpy()\n",
        "\n",
        "            y_pred = y_pred.reshape(-1)\n",
        "            y_true = y_true.reshape(-1)\n",
        "    \n",
        "            if  (all_y_true is None) and (all_y_pred is None):\n",
        "                all_y_true = y_true\n",
        "                all_y_pred = y_pred\n",
        "            else:\n",
        "                all_y_true = np.vstack((all_y_true, y_true))\n",
        "                all_y_pred = np.vstack((all_y_pred, y_pred))\n",
        "    model.train()\n",
        "    return all_y_pred, all_y_true\n",
        "\n",
        "\n",
        "def get_best_mcc(model, validation_loader):\n",
        "    all_y_pred, all_y_true = save_for_cutoff_optimisation(model, validation_loader)\n",
        "    best_score, best_t = optimise_single_multi_mcc(all_y_pred, all_y_true)\n",
        "    return best_score, best_t"
      ],
      "metadata": {
        "id": "r676w_BTPawE"
      },
      "execution_count": null,
      "outputs": []
    },
    {
      "cell_type": "code",
      "execution_count": null,
      "metadata": {
        "id": "79_jSryuUnEJ"
      },
      "outputs": [],
      "source": [
        "def train(model, optimizer, scheduler, train_loader, num_epochs, validation_loader):\n",
        "    n_total_steps = len(train_loader)\n",
        "    print(\"Starting Training\")\n",
        "    model.train()\n",
        "    for epoch in range(num_epochs):\n",
        "        all_y_true = None\n",
        "        all_y_pred = None\n",
        "        running_loss = []\n",
        "        for i, (x, y_true, y_amplified, _, _) in enumerate(train_loader):\n",
        "            x = x.to(device).float()\n",
        "            y_true = y_true.reshape(-1)\n",
        "            y_amplified = y_amplified.to(device).float().reshape(-1)\n",
        "            y_pred = model(x).reshape(-1)\n",
        "            loss = criterion(y_pred, y_amplified)\n",
        "            optimizer.zero_grad()\n",
        "            loss.backward()\n",
        "            optimizer.step()\n",
        "\n",
        "            running_loss.append(loss.item())\n",
        "\n",
        "            if (i+1) % 25 == 0:\n",
        "                print(f'Epoch: [{epoch+1}/{num_epochs}], Step: [{i+1}/{n_total_steps}], Running Loss: {np.mean(running_loss):.4f}')\n",
        "                model.loss_history.append(np.mean(running_loss))\n",
        "                running_loss = []\n",
        "        print(f'Epoch: [{epoch+1}/{num_epochs}], Step: [{i+1}/{n_total_steps}], Running Loss: {np.mean(running_loss):.4f}')\n",
        "        \n",
        "        # plot losses\n",
        "        mcc, t = get_best_mcc(model, validation_loader)\n",
        "        if mcc != 0 and len(model.mcc_history) > 2 and model.mcc_history[-3][0] > mcc:\n",
        "            print(\"Warning! MCC did not increase for 2 epochs. Early stopping!\")\n",
        "            break\n",
        "        else:\n",
        "            model.mcc_history.append((mcc, t))\n",
        "\n",
        "        scheduler.step()\n",
        "    print(f'Finished training')\n",
        "\n",
        "    return model"
      ]
    },
    {
      "cell_type": "markdown",
      "metadata": {
        "id": "PwW1F-wU-aRY"
      },
      "source": [
        "## Test"
      ]
    },
    {
      "cell_type": "code",
      "execution_count": null,
      "metadata": {
        "id": "gEwwhS3N-ZcO"
      },
      "outputs": [],
      "source": [
        "def test(model, validation_loader):\n",
        "    n_samples = len(validation_loader)\n",
        "    mcc_single_multi, threshold = model.mcc_history[-1]\n",
        "    scores = {}\n",
        "    all_y_pred, all_y_true = None, None\n",
        "    print(\"Starting Testing\")\n",
        "    model.eval()\n",
        "    with torch.no_grad():\n",
        "        for i, (input, y_true, _, key, seq_len) in enumerate(validation_loader):\n",
        "            input = input.float().to(device)\n",
        "            y_pred = model(input)\n",
        "\n",
        "            y_pred = y_pred.cpu()\n",
        "            y_true = y_true.cpu().detach().numpy()\n",
        "\n",
        "            y_pred = y_pred.reshape(-1)\n",
        "            y_true = y_true.reshape(-1)\n",
        "\n",
        "            y_pred = (y_pred > threshold).float().cpu().detach().numpy()\n",
        "            y_pred = median_seq(y_pred)\n",
        "\n",
        "\n",
        "            if  (all_y_true is None) and (all_y_pred is None):\n",
        "                all_y_true = y_true\n",
        "                all_y_pred = y_pred\n",
        "            else:\n",
        "                all_y_true = np.vstack((all_y_true, y_true))\n",
        "                all_y_pred = np.vstack((all_y_pred, y_pred))\n",
        "\n",
        "            # undo padding\n",
        "            y_true = y_true[:seq_len]\n",
        "            y_pred = y_pred[:seq_len]\n",
        "\n",
        "            key = key[0] # this is a tuple before indexing the first element which is a string\n",
        "            number_of_domains = num_of_domains(key)\n",
        "            category = str(number_of_domains)\n",
        "\n",
        "            ndo, dbd, mcc_bp = boundary_prediction_metrics(y_pred, y_true, key)\n",
        "            if not scores.get(category):\n",
        "                scores[category] = {'boundary_prediction' : []}\n",
        "            scores[category]['boundary_prediction'].append((ndo, dbd, mcc_bp))\n",
        "            \n",
        "            if (i+1) % 150 == 0:\n",
        "                print(f'Step: [{i+1}/{n_samples}]')\n",
        "\n",
        "        ps, rs, pm, rm, acc, mcc_sm = domain_number_metrics(all_y_pred, all_y_true, threshold)\n",
        "        scores['domain_number'] = (ps, pm, rs, rm, acc, mcc_sm)\n",
        "\n",
        "\n",
        "    model.train()\n",
        "\n",
        "    print(\"Finished Testing\")\n",
        "    return scores"
      ]
    },
    {
      "cell_type": "markdown",
      "metadata": {
        "id": "_2CnRd3hWdVg"
      },
      "source": [
        "# Classes"
      ]
    },
    {
      "cell_type": "code",
      "execution_count": null,
      "metadata": {
        "id": "0-NMreT5WfIr"
      },
      "outputs": [],
      "source": [
        "class BiLSTM(nn.Module):\n",
        "    def __init__(self, input_size, hidden_size, num_layers):\n",
        "        super(BiLSTM, self).__init__()\n",
        "        self.hidden_size = hidden_size\n",
        "        self.num_layers = num_layers\n",
        "        self.lstm = nn.LSTM(input_size, hidden_size, num_layers, batch_first=True, bidirectional=True, dropout=0.0)\n",
        "        self.fc0 = nn.Linear(hidden_size*2,80)\n",
        "        self.fc1 = nn.Linear(80,60)\n",
        "        self.fc2 = nn.Linear(60,50)\n",
        "        self.fc3 = nn.Linear(50,20)\n",
        "        self.fc4 = nn.Linear(20,10)\n",
        "        self.fc5 = nn.Linear(10, 1)\n",
        "        self.activation = nn.ReLU()\n",
        "        self.sigmoid = nn.Sigmoid()\n",
        "        self.loss_history = []\n",
        "        self.validation_loss_history = []\n",
        "        self.mcc_history = []\n",
        "        \n",
        "\n",
        "    def forward(self, x):\n",
        "        h0 = torch.zeros(self.num_layers*2, x.size(0), self.hidden_size).to(device)\n",
        "        c0 = torch.zeros(self.num_layers*2, x.size(0), self.hidden_size).to(device) \n",
        "        out, _ = self.lstm(x, (h0, c0))\n",
        "        out = self.activation(out)\n",
        "        out = self.fc0(out)\n",
        "        out = self.activation(out)\n",
        "        out = self.fc1(out)\n",
        "        out = self.activation(out)\n",
        "        out = self.fc2(out)\n",
        "        out = self.activation(out)\n",
        "        out = self.fc3(out)\n",
        "        out = self.activation(out)\n",
        "        out = self.fc4(out)\n",
        "        out = self.activation(out)\n",
        "        out = self.fc5(out)\n",
        "        out = self.sigmoid(out)\n",
        "        return out\n",
        "        \n",
        "\n",
        "class SequenceDataset(Dataset):\n",
        "    def __init__(self, data, transform):\n",
        "        self.data = data\n",
        "        self.transform = transform\n",
        "        chain_sizes = [data['in'].iloc[i].shape[0] for i in range(len(data))]\n",
        "        self.longest_chain = max(chain_sizes)\n",
        "\n",
        "    def __len__(self):\n",
        "        return len(self.data)\n",
        "\n",
        "    def __getitem__(self, index):\n",
        "        x = self.data['in'].iloc[index]\n",
        "        y = self.data['out'].iloc[index]\n",
        "        seq_len = self.data['seq_len'].iloc[index]\n",
        "\n",
        "        x = np.pad(x, ((0, self.longest_chain-x.shape[0]), (0,0)), 'minimum')\n",
        "        \n",
        "        y = y.astype(np.float16) # convert from bool to float\n",
        "\n",
        "        y_amplified = amplify_sharp(y, 41) \n",
        "        y_amplified = np.pad(y_amplified, (0, self.longest_chain-y_amplified.shape[0]), 'minimum')\n",
        "        y = np.pad(y, (0, self.longest_chain-y.shape[0]), 'minimum')\n",
        "        y_amplified = y_amplified.reshape((1,-1))\n",
        "        y_amplified = np.array(y_amplified, dtype=np.float64)\n",
        "        key = self.data['key'].iloc[index]\n",
        "\n",
        "        return x, y, y_amplified, key, seq_len"
      ]
    },
    {
      "cell_type": "markdown",
      "metadata": {
        "id": "Rm72BoUuWid3"
      },
      "source": [
        "# Main"
      ]
    },
    {
      "cell_type": "markdown",
      "metadata": {
        "id": "mkC-385chSrF"
      },
      "source": [
        "## Hyperparams"
      ]
    },
    {
      "cell_type": "code",
      "execution_count": null,
      "metadata": {
        "id": "dijS6kbeoLvV"
      },
      "outputs": [],
      "source": [
        "cath = get_cath()\n",
        "\n",
        "path = 'drive/My Drive/University of Glasgow/L4/L4 Project/training_data/final/'\n",
        "trained_models_path = 'drive/My Drive/University of Glasgow/L4/L4 Project/models/trained/'\n",
        "\n",
        "device = torch.device('cuda' if torch.cuda.is_available() else 'cpu')\n",
        "\n",
        "# three datasets with different encodings are available: CARP encodings, ESM encodings and One-Hot encodings:\n",
        "# carp38M_data.csv\n",
        "# esm35M_data.csv\n",
        "# onehot_data.csv\n",
        "\n",
        "encoding_map = {'carp' : 'carp38M_data.csv', 'esm' : 'esm35M_data.csv', 'onehot' : 'onehot_data.csv'}\n",
        "input_size_map = {'carp' : 1024, 'esm' : 480, 'onehot' : 21}\n",
        "\n",
        "\n",
        "encoding = 'carp'\n",
        "input_size = input_size_map[encoding]\n",
        "num_layers = 3\n",
        "hidden_size = 100\n",
        "num_epochs = 1\n",
        "batch_size = 32\n",
        "learning_rate = 0.001\n",
        "criterion = nn.BCELoss()\n",
        "\n",
        "\n",
        "K = 5 # K fold"
      ]
    },
    {
      "cell_type": "markdown",
      "metadata": {
        "id": "e2DqU_BbU6kt"
      },
      "source": [
        "## Setup Logging"
      ]
    },
    {
      "cell_type": "code",
      "execution_count": null,
      "metadata": {
        "id": "RH06hUzxVIJn"
      },
      "outputs": [],
      "source": [
        "logger = logging.getLogger(__name__)\n",
        "logger.setLevel(logging.INFO)\n",
        "\n",
        "# Define the log file path\n",
        "log_file = f'drive/My Drive/University of Glasgow/L4/L4 Project/models/training_logs/{encoding}_training.log'\n",
        "\n",
        "# Create a file handler and set the logging level\n",
        "file_handler = logging.FileHandler(log_file)\n",
        "file_handler.setLevel(logging.INFO)\n",
        "\n",
        "# Create a log format\n",
        "log_format = logging.Formatter('%(asctime)s - %(levelname)s - %(message)s')\n",
        "file_handler.setFormatter(log_format)\n",
        "\n",
        "# Add the file handler to the logger object\n",
        "logger.addHandler(file_handler)"
      ]
    },
    {
      "cell_type": "markdown",
      "metadata": {
        "id": "StWHd2z4hVnm"
      },
      "source": [
        "## Load Data"
      ]
    },
    {
      "cell_type": "code",
      "execution_count": null,
      "metadata": {
        "id": "WXxDqrp4Y8WG"
      },
      "outputs": [],
      "source": [
        "dataframe = load_data(path, encoding)\n",
        "dataset = SequenceDataset(dataframe, transforms.ToTensor())"
      ]
    },
    {
      "cell_type": "markdown",
      "metadata": {
        "id": "BxWqP5l0hY-L"
      },
      "source": [
        "## Main"
      ]
    },
    {
      "cell_type": "code",
      "execution_count": null,
      "metadata": {
        "id": "vPNqWQL0eskI",
        "colab": {
          "base_uri": "https://localhost:8080/"
        },
        "outputId": "cd15785b-48a4-4de6-8e35-52cb52664b9b"
      },
      "outputs": [
        {
          "output_type": "stream",
          "name": "stdout",
          "text": [
            "Fold: 1/5\n",
            "Starting Training\n",
            "Epoch: [1/1], Step: [25/213], Running Loss: 0.6906\n",
            "Epoch: [1/1], Step: [50/213], Running Loss: 0.6608\n",
            "Epoch: [1/1], Step: [75/213], Running Loss: 0.6495\n",
            "Epoch: [1/1], Step: [100/213], Running Loss: 0.6383\n",
            "Epoch: [1/1], Step: [125/213], Running Loss: 0.6276\n",
            "Epoch: [1/1], Step: [150/213], Running Loss: 0.6171\n",
            "Epoch: [1/1], Step: [175/213], Running Loss: 0.6062\n",
            "Epoch: [1/1], Step: [200/213], Running Loss: 0.5964\n",
            "Epoch: [1/1], Step: [213/213], Running Loss: 0.5883\n",
            "Finished training\n",
            "time to train: 429.6487612724304\n",
            "Fold: 2/5\n",
            "Starting Training\n"
          ]
        }
      ],
      "source": [
        "validation_scores = {}\n",
        "\n",
        "num_samples = len(dataset)\n",
        "indices = np.arange(num_samples)\n",
        "np.random.RandomState(seed=2023).shuffle(indices)\n",
        "\n",
        "# ratio of training to validation is (K-1)/K\n",
        "folds = np.array_split(indices, K)\n",
        "\n",
        "for k in range(K):\n",
        "    print(f\"Fold: {k+1}/{K}\")\n",
        "    validation_indices = folds[k]\n",
        "    training_indices = np.concatenate([folds[i] for i in range(K) if i != k])\n",
        "\n",
        "    validation_dataset = torch.utils.data.Subset(dataset, validation_indices)\n",
        "    training_dataset = torch.utils.data.Subset(dataset, training_indices)\n",
        "\n",
        "    train_loader = DataLoader(dataset=training_dataset, batch_size=batch_size, shuffle=True)\n",
        "    validation_loader = DataLoader(dataset=validation_dataset, batch_size=1, shuffle=True)\n",
        "\n",
        "    model = BiLSTM(input_size, hidden_size, num_layers).to(device)\n",
        "    optimizer = torch.optim.Adam(model.parameters(), lr=learning_rate)\n",
        "    scheduler = torch.optim.lr_scheduler.MultiplicativeLR(optimizer, lambda epoch: 0.85)\n",
        "\n",
        "    start = time.time()\n",
        "    model = train(model, optimizer, scheduler, train_loader, num_epochs, validation_loader)\n",
        "    end = time.time()\n",
        "    print(\"time to train:\", end - start )\n",
        "    # if  os.path.isfile(f\"{trained_models_path}BiLSTM_{encoding}_fold{k}\"):\n",
        "    #     print(\"Loading model...\")\n",
        "    #     model.load_state_dict(torch.load(f\"{trained_models_path}BiLSTM_{encoding}_fold{k}\"))\n",
        "    #     model.eval()\n",
        "    #     print(\"Model has been loaded.\")\n",
        "    # else:\n",
        "    #     print(\"No model found.\")\n",
        "    #     optimizer = torch.optim.Adam(model.parameters(), lr=learning_rate)\n",
        "    #     scheduler = torch.optim.lr_scheduler.MultiplicativeLR(optimizer, lambda epoch: 0.85)\n",
        "\n",
        "    #     model = train(model, optimizer, scheduler, train_loader, num_epochs, validation_loader)\n",
        "    #     torch.save(model.state_dict(), f\"{trained_models_path}BiLSTM_{encoding}_fold{k}\")\n",
        "    #     save_model_history(model, encoding, k)\n",
        "    #     scores = test(model, validation_loader)\n",
        "    #     validation_scores[f\"fold{k+1}\"] = scores"
      ]
    },
    {
      "cell_type": "markdown",
      "metadata": {
        "id": "9oI-4TQDDDXp"
      },
      "source": [
        "# Analysis"
      ]
    },
    {
      "cell_type": "code",
      "source": [
        "def conf_matrix(model, validation_loader, threshold):\n",
        "    n_samples = len(validation_loader)\n",
        "\n",
        "    max_dom = 0\n",
        "    for (input, y_true, _, key, seq_len) in validation_loader:\n",
        "        dom = torch.sum(y_true)\n",
        "        if dom > max_dom:\n",
        "            max_dom = dom\n",
        "    max_dom = int(max_dom.item())\n",
        "    confusion_matrix_a = np.zeros((2,2))\n",
        "    confusion_matrix_b = np.zeros((max_dom+1,max_dom+1))\n",
        "\n",
        "    with torch.no_grad():\n",
        "        for i, (input, y_true, _, key, seq_len) in enumerate(validation_loader):\n",
        "            input = input.float().to(device)\n",
        "            y_pred = model(input)\n",
        "\n",
        "            y_pred = y_pred.cpu()\n",
        "            y_true = y_true.cpu().detach().numpy()\n",
        "\n",
        "            y_pred = y_pred.reshape(-1)\n",
        "            y_true = y_true.reshape(-1)\n",
        "\n",
        "            y_pred = (y_pred > threshold).float().cpu().detach().numpy()\n",
        "            y_pred = median_seq(y_pred)\n",
        "\n",
        "            predicted_number = int(np.sum(y_pred))\n",
        "            true_number = int(np.sum(y_true))\n",
        "            \n",
        "            confusion_matrix_b[predicted_number, true_number] += 1\n",
        "\n",
        "            prediction = min(int(np.sum(y_pred)), 1)\n",
        "            truth = min(int(np.sum(y_true)), 1)\n",
        "            \n",
        "            confusion_matrix_a[prediction, truth] += 1\n",
        "\n",
        "    return confusion_matrix_a, confusion_matrix_b\n",
        "\n",
        "# def single_multi_cf(model, validation_loader, threshold):\n",
        "#     n_samples = len(validation_loader)\n",
        "#     confusion_matrix = np.zeros((20,20))\n",
        "#     model.eval()\n",
        "#     with torch.no_grad():\n",
        "#         for i, (input, y_true, _, key, seq_len) in enumerate(validation_loader):\n",
        "#             input = input.float().to(device)\n",
        "#             y_pred = model(input)\n",
        "\n",
        "#             y_pred = y_pred.cpu()\n",
        "#             y_true = y_true.cpu().detach().numpy()\n",
        "\n",
        "#             y_pred = y_pred.reshape(-1)\n",
        "#             y_true = y_true.reshape(-1)\n",
        "\n",
        "#             y_pred = (y_pred > threshold).float().cpu().detach().numpy()\n",
        "#             y_pred = median_seq(y_pred)\n",
        "\n",
        "#             prediction = min(int(np.sum(y_pred)), 1)\n",
        "#             truth = min(int(np.sum(y_true)), 1)\n",
        "            \n",
        "#             confusion_matrix[prediction, truth] += 1\n",
        "\n",
        "#     return confusion_matrix"
      ],
      "metadata": {
        "id": "MlFmQqgm11UX"
      },
      "execution_count": null,
      "outputs": []
    },
    {
      "cell_type": "code",
      "source": [
        "encodings = ['esm', 'carp', 'onehot']\n",
        "\n",
        "num_samples = len(dataset)\n",
        "indices = np.arange(num_samples)\n",
        "np.random.RandomState(seed=2023).shuffle(indices)\n",
        "\n",
        "folds = np.array_split(indices, K)\n",
        "\n",
        "ts_esm = [0.14726250000000002, 0.18975, 0.21000000000000002, 0.15675, 0.26775000000000004]\n",
        "ts_carp = [0.1489125, 0.1802625, 0.15462562500000002, 0.15675, ] \n",
        "ts_onehot = [0.1,0.1,0.1,0.1,0.1]  \n",
        "\n",
        "encoding = 'esm'\n",
        "input_size = input_size_map[encoding]\n",
        "\n",
        "# NEED TO CHANGE ENCODING, THE DATASET AND THE THRESHOLD VALUES!!!\n",
        "\n",
        "for k, threshold in zip(range(K), ts_esm):\n",
        "    validation_indices = folds[k]\n",
        "    validation_dataset = torch.utils.data.Subset(dataset, validation_indices)\n",
        "    validation_loader = DataLoader(dataset=validation_dataset, batch_size=1, shuffle=True)\n",
        "\n",
        "    model = BiLSTM(input_size, hidden_size, num_layers).to(device)\n",
        "    model.load_state_dict(torch.load(f\"{trained_models_path}BiLSTM_{encoding}_fold{k}\"))\n",
        "    model.eval()\n",
        "    cf_a, cf_b = conf_matrix(model, validation_loader, threshold)\n",
        "    break"
      ],
      "metadata": {
        "id": "xOWlwkya18_K"
      },
      "execution_count": null,
      "outputs": []
    },
    {
      "cell_type": "code",
      "source": [
        "fig = plt.figure()\n",
        "df_cm = pd.DataFrame(cf_b, index = [str(i) for i in range(1,16)],\n",
        "                  columns = [str(i) for i in range(1,16)])\n",
        "plt.figure(figsize = (20,14))\n",
        "sn.heatmap(df_cm, annot=True, cmap=\"YlGnBu\", vmin=-0, vmax=50)\n",
        "plt.ylabel('Predicted')\n",
        "plt.xlabel('True')\n",
        "plt.show()\n",
        "\n",
        "fig = plt.figure()\n",
        "df_cm = pd.DataFrame(cf_a, index = [str(i) for i in [0, 1]],\n",
        "                  columns = [str(i) for i in [0, 1]])\n",
        "plt.figure(figsize = (20,14))\n",
        "sn.heatmap(df_cm, annot=True, cmap=\"YlGnBu\")\n",
        "plt.ylabel('Predicted')\n",
        "plt.xlabel('True')\n",
        "plt.show()"
      ],
      "metadata": {
        "colab": {
          "base_uri": "https://localhost:8080/",
          "height": 1000
        },
        "id": "gpdqK9qq6PDC",
        "outputId": "e5d2477d-aded-4b86-b1d7-0e403b33d2ff"
      },
      "execution_count": null,
      "outputs": [
        {
          "output_type": "display_data",
          "data": {
            "text/plain": [
              "<Figure size 432x288 with 0 Axes>"
            ]
          },
          "metadata": {}
        },
        {
          "output_type": "display_data",
          "data": {
            "text/plain": [
              "<Figure size 1440x1008 with 2 Axes>"
            ],
            "image/png": "[encoded data removed]"
          },
          "metadata": {
            "needs_background": "light"
          }
        },
        {
          "output_type": "display_data",
          "data": {
            "text/plain": [
              "<Figure size 432x288 with 0 Axes>"
            ]
          },
          "metadata": {}
        },
        {
          "output_type": "display_data",
          "data": {
            "text/plain": [
              "<Figure size 1440x1008 with 2 Axes>"
            ],
            "image/png": "[encoded data removed]"
          },
          "metadata": {
            "needs_background": "light"
          }
        }
      ]
    },
    {
      "cell_type": "code",
      "source": [
        "with open(f'drive/My Drive/University of Glasgow/L4/L4 Project/model_performance/{encoding}.json', 'r') as fp:\n",
        "        read_validation_scores = json.load(fp)"
      ],
      "metadata": {
        "id": "mwf7xnuAVkYZ"
      },
      "execution_count": null,
      "outputs": []
    },
    {
      "cell_type": "code",
      "source": [
        "encodings = ['esm', 'carp', 'onehot']\n",
        "\n",
        "for k in range(K):\n",
        "    model = BiLSTM(input_size, hidden_size, num_layers).to(device)\n",
        "    model.load_state_dict(torch.load(f\"{trained_models_path}BiLSTM_{encoding}_fold{k}\"))\n",
        "    model.eval()"
      ],
      "metadata": {
        "id": "Yd3lh8LvYzVo"
      },
      "execution_count": null,
      "outputs": []
    },
    {
      "cell_type": "code",
      "source": [
        "for k in range(K):\n",
        "    with open(f'drive/My Drive/University of Glasgow/L4/L4 Project/models/trained/BiLSTM_{encoding}_fold{k}_hist.txt', 'r') as f:\n",
        "        for line in f.readlines():\n",
        "            print(line.strip())"
      ],
      "metadata": {
        "id": "HFNjZww5U2EF"
      },
      "execution_count": null,
      "outputs": []
    },
    {
      "cell_type": "code",
      "source": [
        "mcc_scores = {'carp' : [], 'esm' : [], 'onehot' : []}\n",
        "\n",
        "\n",
        "\n",
        "for encoding in encodings:\n",
        "    print(f\"\\n{encoding} results:\")\n",
        "    domain_number_metrics = []\n",
        "    for k in range(K):\n",
        "        with open(f'drive/My Drive/University of Glasgow/L4/L4 Project/model_performance/{encoding}.json', 'r') as fp:\n",
        "            read_validation_scores = json.load(fp)\n",
        "            # ps, rs, pm, rm, acc, mcc_sm\n",
        "            obtained_scores = read_validation_scores[f\"fold{k+1}\"]['domain_number']\n",
        "            mcc_score = obtained_scores[-1]\n",
        "            domain_number_metrics.append(obtained_scores)\n",
        "            mcc_scores[encoding].append(mcc_score)\n",
        "\n",
        "    domain_number_metrics = np.array(domain_number_metrics)\n",
        "    domain_number_metrics_mean = np.mean(domain_number_metrics, axis=0)\n",
        "    print(domain_number_metrics_mean)\n",
        "        "
      ],
      "metadata": {
        "id": "wig5Dl8LPUV2",
        "colab": {
          "base_uri": "https://localhost:8080/"
        },
        "outputId": "3c74befd-82e9-4852-eb23-4ab89b2dcfb5"
      },
      "execution_count": null,
      "outputs": [
        {
          "output_type": "stream",
          "name": "stdout",
          "text": [
            "\n",
            "esm results:\n",
            "[0.92439588 0.81044227 0.73921491 0.94523295 0.84935644 0.70876083]\n",
            "\n",
            "carp results:\n",
            "[0.90094594 0.77676444 0.68196459 0.93281951 0.81747014 0.64462586]\n",
            "\n",
            "onehot results:\n",
            "[0.46428238 0.         1.         0.         0.46428238 0.        ]\n"
          ]
        }
      ]
    },
    {
      "cell_type": "code",
      "source": [
        "esm_mcc_scores = mcc_scores['esm']\n",
        "carp_mcc_scores = mcc_scores['carp']\n",
        "onehot_mcc_scores = mcc_scores['onehot']\n",
        "\n",
        "stats.ttest_ind(carp_mcc_scores, onehot_mcc_scores)"
      ],
      "metadata": {
        "colab": {
          "base_uri": "https://localhost:8080/"
        },
        "id": "KiZh3LqJHlF4",
        "outputId": "750cefdb-1736-4c6a-96e1-5d1dd4061041"
      },
      "execution_count": null,
      "outputs": [
        {
          "output_type": "execute_result",
          "data": {
            "text/plain": [
              "Ttest_indResult(statistic=19.44312188416891, pvalue=5.085615097718696e-08)"
            ]
          },
          "metadata": {},
          "execution_count": 29
        }
      ]
    },
    {
      "cell_type": "code",
      "source": [
        "dbds_encoding = {'carp' : [], 'esm' : [], 'onehot' : []}\n"
      ],
      "metadata": {
        "id": "FYfdrUJqLwgI"
      },
      "execution_count": null,
      "outputs": []
    },
    {
      "cell_type": "code",
      "source": [
        "encoding = 'carp'\n",
        "\n",
        "with open(f'drive/My Drive/University of Glasgow/L4/L4 Project/model_performance/{encoding}.json', 'r') as fp:\n",
        "    read_validation_scores = json.load(fp)\n",
        "    # ps, rs, pm, rm, acc, mcc_sm\n",
        "    # for n in\n",
        "    boundary_prediction_metrics_ndo = []\n",
        "    boundary_prediction_metrics_dbd = []\n",
        "    boundary_prediction_metrics_mcc = []\n",
        "    for k in range(K):\n",
        "        for n in read_validation_scores[f\"fold{k+1}\"].keys():\n",
        "            if n == 'domain_number':\n",
        "                continue\n",
        "            # ndo, dbd, mcc_bp\n",
        "            boundary_prediction = read_validation_scores[f\"fold{k+1}\"][n]['boundary_prediction']\n",
        "            for (ndo, dbd, mcc_bp) in boundary_prediction:\n",
        "                if dbd != 1.0:\n",
        "                    dbds_encoding[encoding].append(dbd)\n"
      ],
      "metadata": {
        "id": "B-aIpL--cOIa"
      },
      "execution_count": null,
      "outputs": []
    },
    {
      "cell_type": "code",
      "source": [
        "onehot_dbds = dbds_encoding['onehot']\n",
        "esm_dbds = dbds_encoding['esm']\n",
        "carp_dbds = dbds_encoding['carp']\n",
        "\n",
        "stats.ttest_ind(carp_dbds, onehot_dbds)"
      ],
      "metadata": {
        "colab": {
          "base_uri": "https://localhost:8080/"
        },
        "id": "KXTufoWhI13b",
        "outputId": "5ea4f8f7-5cec-4667-c327-c04213b68788"
      },
      "execution_count": null,
      "outputs": [
        {
          "output_type": "execute_result",
          "data": {
            "text/plain": [
              "Ttest_indResult(statistic=52.37935327158776, pvalue=0.0)"
            ]
          },
          "metadata": {},
          "execution_count": 48
        }
      ]
    },
    {
      "cell_type": "code",
      "source": [
        "encodings = ['esm', 'carp', 'onehot']\n",
        "\n",
        "num_samples = len(dataset)\n",
        "indices = np.arange(num_samples)\n",
        "np.random.RandomState(seed=2023).shuffle(indices)\n",
        "\n",
        "# ratio of training to validation is (K-1)/K\n",
        "folds = np.array_split(indices, K)\n",
        "\n",
        "ts_esm = [0.14726250000000002, 0.18975, 0.21000000000000002, 0.15675, 0.26775000000000004]\n",
        "ts_carp = [0.1489125, 0.1802625, 0.15462562500000002, 0.15675, ] \n",
        "ts_onehot = [0.1,0.1,0.1,0.1,0.1]  \n",
        "\n",
        "for k in range(K):\n",
        "    print(f\"Fold: {k+1}/{K}\")\n",
        "    validation_indices = folds[k]\n",
        "    validation_dataset = torch.utils.data.Subset(dataset, validation_indices)\n",
        "    validation_loader = DataLoader(dataset=validation_dataset, batch_size=1, shuffle=True)\n",
        "    model = BiLSTM(input_size, hidden_size, num_layers).to(device)\n",
        "    model.load_state_dict(torch.load(f\"{trained_models_path}BiLSTM_{encoding}_fold{k}\"))\n",
        "    model.eval()\n",
        "\n",
        "    test_number_of_domains_predicted(model, validation_loader, t)"
      ],
      "metadata": {
        "id": "JXIT5TqZ_uN8"
      },
      "execution_count": null,
      "outputs": []
    },
    {
      "cell_type": "code",
      "source": [],
      "metadata": {
        "id": "9dRkCei2jEbD"
      },
      "execution_count": null,
      "outputs": []
    }
  ],
  "metadata": {
    "accelerator": "GPU",
    "colab": {
      "provenance": [],
      "toc_visible": true,
      "collapsed_sections": [
        "_2CnRd3hWdVg",
        "e2DqU_BbU6kt"
      ]
    },
    "gpuClass": "standard",
    "kernelspec": {
      "display_name": "Python 3",
      "name": "python3"
    },
    "language_info": {
      "name": "python"
    }
  },
  "nbformat": 4,
  "nbformat_minor": 0
}