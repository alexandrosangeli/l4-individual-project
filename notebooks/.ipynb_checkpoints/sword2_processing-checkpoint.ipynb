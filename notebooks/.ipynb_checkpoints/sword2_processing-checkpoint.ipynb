{
 "cells": [
  {
   "cell_type": "code",
   "execution_count": 22,
   "id": "b32a5579",
   "metadata": {},
   "outputs": [],
   "source": [
    "from pprint import pprint"
   ]
  },
  {
   "cell_type": "code",
   "execution_count": 34,
   "id": "70663e4f",
   "metadata": {},
   "outputs": [
    {
     "name": "stdout",
     "output_type": "stream",
     "text": [
      "{'option0': {'D1': '1-156'},\n",
      " 'option1': {'D1': '1-31;69-100', 'D2': '32-68', 'D3': '101-156'},\n",
      " 'option2': {'D1': '1-68', 'D2': '69-100', 'D3': '101-156'},\n",
      " 'option3': {'D1': '1-100', 'D2': '101-156'},\n",
      " 'option4': {'D1': '1-68', 'D2': '69-156'}}\n"
     ]
    }
   ],
   "source": [
    "with open(\"../data/sword2/SWORD2/results/1a0h_A/sword.txt\", \"r\") as f:\n",
    "    data = {}\n",
    "    lines = f.readlines()\n",
    "    option = 0\n",
    "    for i, line in enumerate(lines):\n",
    "        lines[i] = \"\".join([c for c in line if c not in [\"\\n\",'']])\n",
    "        if line != \"\\n\":\n",
    "            if not line.startswith((\"PDB:\", \"#D\", \"A\")):\n",
    "                res = lines[i].split(\"|\")\n",
    "                boundaries = res[2]\n",
    "                domains = boundaries.strip().split(\" \")\n",
    "                data[f\"option{option}\"] = {}\n",
    "                for j in range(len(domains)):\n",
    "                    data[f\"option{option}\"][f\"D{j+1}\"] = domains[j]\n",
    "                option += 1\n",
    "    pprint(data)"
   ]
  },
  {
   "cell_type": "code",
   "execution_count": null,
   "id": "b6a12951",
   "metadata": {},
   "outputs": [],
   "source": []
  },
  {
   "cell_type": "code",
   "execution_count": null,
   "id": "b05ddcab",
   "metadata": {},
   "outputs": [],
   "source": []
  }
 ],
 "metadata": {
  "kernelspec": {
   "display_name": "Python 3 (ipykernel)",
   "language": "python",
   "name": "python3"
  },
  "language_info": {
   "codemirror_mode": {
    "name": "ipython",
    "version": 3
   },
   "file_extension": ".py",
   "mimetype": "text/x-python",
   "name": "python",
   "nbconvert_exporter": "python",
   "pygments_lexer": "ipython3",
   "version": "3.9.12"
  }
 },
 "nbformat": 4,
 "nbformat_minor": 5
}
