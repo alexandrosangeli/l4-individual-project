{
 "cells": [
  {
   "cell_type": "code",
   "execution_count": 26,
   "id": "5ced6c1b",
   "metadata": {},
   "outputs": [],
   "source": [
    "from pprint import pprint"
   ]
  },
  {
   "cell_type": "code",
   "execution_count": 27,
   "id": "997a4998",
   "metadata": {},
   "outputs": [
    {
     "data": {
      "text/plain": [
       "'1-107'"
      ]
     },
     "execution_count": 27,
     "metadata": {},
     "output_type": "execute_result"
    }
   ],
   "source": [
    "example_dict = {\n",
    "                '12e8' : {\n",
    "                            'P' : {\n",
    "                                '0' : '1-107',\n",
    "                                '1' : '108-200'\n",
    "                            },\n",
    "                            'M' : {\n",
    "                                '0' : '1-93'\n",
    "                            }\n",
    "                }\n",
    "}\n",
    "\n",
    "example_dict['12e8']['P']['0']"
   ]
  },
  {
   "cell_type": "code",
   "execution_count": 45,
   "id": "b511ea86",
   "metadata": {},
   "outputs": [],
   "source": [
    "def update_dict(data, code, chain, domain, boundaries):\n",
    "    data[code] = data.get(code, {})\n",
    "    data[code][chain] = data.get(chain, {})\n",
    "    data[code][chain].update({domain : boundaries})\n",
    "    return data\n"
   ]
  },
  {
   "cell_type": "code",
   "execution_count": 46,
   "id": "866e4a1a",
   "metadata": {},
   "outputs": [
    {
     "ename": "KeyError",
     "evalue": "'B'",
     "output_type": "error",
     "traceback": [
      "\u001b[0;31m---------------------------------------------------------------------------\u001b[0m",
      "\u001b[0;31mKeyError\u001b[0m                                  Traceback (most recent call last)",
      "Input \u001b[0;32mIn [46]\u001b[0m, in \u001b[0;36m<cell line: 1>\u001b[0;34m()\u001b[0m\n\u001b[1;32m     13\u001b[0m     chain \u001b[38;5;241m=\u001b[39m name[\u001b[38;5;241m4\u001b[39m]\n\u001b[1;32m     14\u001b[0m     domain \u001b[38;5;241m=\u001b[39m name[\u001b[38;5;241m5\u001b[39m:]\n\u001b[0;32m---> 15\u001b[0m     \u001b[43mupdate_dict\u001b[49m\u001b[43m(\u001b[49m\u001b[43mdata\u001b[49m\u001b[43m,\u001b[49m\u001b[43m \u001b[49m\u001b[43mcode\u001b[49m\u001b[43m,\u001b[49m\u001b[43m \u001b[49m\u001b[43mchain\u001b[49m\u001b[43m,\u001b[49m\u001b[43m \u001b[49m\u001b[43mdomain\u001b[49m\u001b[43m,\u001b[49m\u001b[43m \u001b[49m\u001b[43mboundaries\u001b[49m\u001b[43m)\u001b[49m\n\u001b[1;32m     16\u001b[0m pprint(data)\n",
      "Input \u001b[0;32mIn [45]\u001b[0m, in \u001b[0;36mupdate_dict\u001b[0;34m(data, code, chain, domain, boundaries)\u001b[0m\n\u001b[1;32m      1\u001b[0m \u001b[38;5;28;01mdef\u001b[39;00m \u001b[38;5;21mupdate_dict\u001b[39m(data, code, chain, domain, boundaries):\n\u001b[1;32m      2\u001b[0m     data[code] \u001b[38;5;241m=\u001b[39m data\u001b[38;5;241m.\u001b[39mget(code, {})\n\u001b[0;32m----> 3\u001b[0m     data[code]\u001b[38;5;241m.\u001b[39mupdate(\u001b[43mdata\u001b[49m\u001b[43m[\u001b[49m\u001b[43mcode\u001b[49m\u001b[43m]\u001b[49m\u001b[43m[\u001b[49m\u001b[43mchain\u001b[49m\u001b[43m]\u001b[49m\u001b[38;5;241m.\u001b[39mupdate({domain : boundaries}))\n",
      "\u001b[0;31mKeyError\u001b[0m: 'B'"
     ]
    }
   ],
   "source": [
    "with open(\"../data/cath/cath_domain_boundaries.txt\") as f:\n",
    "    lines = f.readlines()[60:72]\n",
    "    lines = map(lambda x : x.strip(), lines)\n",
    "    big = 0\n",
    "    data = {}\n",
    "    for line in lines:\n",
    "#         check that the name is always 7 chars long\n",
    "#         if len(name) > big:\n",
    "#             big = len(name)\n",
    "\n",
    "        name, boundaries = line.split(\"\\t\")\n",
    "        code = name[:4]\n",
    "        chain = name[4]\n",
    "        domain = name[5:]\n",
    "        data = update_dict(data, code, chain, domain, boundaries)\n",
    "    pprint(data)\n",
    "\n",
    "    "
   ]
  },
  {
   "cell_type": "code",
   "execution_count": null,
   "id": "2604cd2e",
   "metadata": {},
   "outputs": [],
   "source": []
  }
 ],
 "metadata": {
  "kernelspec": {
   "display_name": "Python 3 (ipykernel)",
   "language": "python",
   "name": "python3"
  },
  "language_info": {
   "codemirror_mode": {
    "name": "ipython",
    "version": 3
   },
   "file_extension": ".py",
   "mimetype": "text/x-python",
   "name": "python",
   "nbconvert_exporter": "python",
   "pygments_lexer": "ipython3",
   "version": "3.9.12"
  }
 },
 "nbformat": 4,
 "nbformat_minor": 5
}
