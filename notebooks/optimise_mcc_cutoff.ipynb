{
 "cells": [
  {
   "cell_type": "code",
   "execution_count": 1,
   "metadata": {},
   "outputs": [],
   "source": [
    "import numpy as np"
   ]
  },
  {
   "cell_type": "code",
   "execution_count": null,
   "metadata": {},
   "outputs": [],
   "source": [
    "def optimise_single_multi_mcc(y_pred, y_true, max_num_iterations=10, linspace_size=10, start=0.2, end=0.5, ):\n",
    "    best_score = 0\n",
    "    i = 0\n",
    "    flag = True\n",
    "    while max_num_iterations > i and flag:\n",
    "        flag = False\n",
    "        print(\"start and finish:\", start, end)\n",
    "        for t in np.linspace(start, end, linspace_size):\n",
    "            ts, tm, fs, fm = confusion_matrix_B(y_pred, y_true, t)\n",
    "            score = mcc_single_multi(ts, tm, fs, fm)\n",
    "            if score > best_score:\n",
    "                best_t = t\n",
    "                best_score = score\n",
    "                flag = True\n",
    "        start = best_t * 0.75\n",
    "        end = best_t * 1.25\n",
    "        i += 1\n",
    "    print(\"Best Score:\", best_score)\n",
    "    print(\"Best t:\", best_t)\n",
    "    return best_score, best_t"
   ]
  },
  {
   "cell_type": "code",
   "execution_count": 2,
   "metadata": {},
   "outputs": [],
   "source": [
    "def mcc(tp, tn, fp, fn):\n",
    "    mcc_num = (tp * tn) - (fp * fn)\n",
    "    mcc_den = ((tp + fp) * (tp + fn) * (tn + fp) * (tn + fn))**0.5\n",
    "    mcc = mcc_num / mcc_den if mcc_den else 0\n",
    "    return mcc\n",
    "\n",
    "def mcc_single_multi(ts, tm, fs, fm):\n",
    "    # # single\n",
    "    # pre_single = ts / (ts + fs) if (ts + fs) != 0 else 0\n",
    "    # rec_single = ts / (ts + fm) if (ts + fm) != 0 else 0\n",
    "    \n",
    "    # # multi\n",
    "    # pre_multi = tm / (tm + fm) if (tm + fm) != 0 else 0\n",
    "    # rec_multi = tm / (tm + fs) if (tm + fs) != 0 else 0\n",
    "\n",
    "    # acc = (tm + ts) / (tm + ts + fm + fs)\n",
    "\n",
    "    # mcc\n",
    "    mcc_num = (tm * ts) - (fm * fs)\n",
    "    mcc_den = ((tm + fm) * (tm + fs) * (fm + ts) * (ts + fs))**0.5\n",
    "    mcc = mcc_num / mcc_den if mcc_den != 0 else 0\n",
    "    return mcc"
   ]
  },
  {
   "cell_type": "code",
   "execution_count": 3,
   "metadata": {},
   "outputs": [],
   "source": [
    "def median_seq(seq):\n",
    "    # parse a sequence (which will be the output from the model)\n",
    "    # for every series of consecutive ones, leave only the median as one - the rest turn to 0\n",
    "    # seq = [1,1,0,0,0,0,0,1,1,1,0,0,0,0,0,1,1,1,0,1,1]\n",
    "    new_seq = np.zeros(len(seq))\n",
    "    consecutive_ones_indices = []\n",
    "    medians = []\n",
    "\n",
    "    # marks if the first consecutive zeros that are less than the typical size is the first (meaning is the beginning of the first domain)\n",
    "    for i in range(len(seq)):\n",
    "        if seq[i] == 0:\n",
    "            if len(consecutive_ones_indices) > 0:\n",
    "                medians.append(int(np.median(consecutive_ones_indices)))\n",
    "            consecutive_ones_indices = []\n",
    "\n",
    "        if seq[i] == 1:\n",
    "            consecutive_ones_indices.append(i)\n",
    "\n",
    "    if len(consecutive_ones_indices) > 0:\n",
    "        medians.append(int(np.median(consecutive_ones_indices)))\n",
    "\n",
    "    for elt in medians:\n",
    "        new_seq[elt] = 1\n",
    "\n",
    "    return new_seq"
   ]
  },
  {
   "cell_type": "code",
   "execution_count": 4,
   "metadata": {},
   "outputs": [],
   "source": [
    "def confusion_matrix_A(y_pred, y_true, t, margin=20):\n",
    "    y_pred = np.where(y_pred > t, 1, 0)\n",
    "    y_pred = median_seq(y_pred)\n",
    "    tp, tn, fp, fn = 0, 0, 0, 0\n",
    "\n",
    "    y_true_cp = np.copy(y_true)\n",
    "\n",
    "    for i in range(len(y_pred)):\n",
    "        window = y_true_cp[max(0, i-margin):min(len(y_true_cp), i+margin+1)]\n",
    "        indices_window = list(range(max(0, i-margin), min(len(y_true_cp), i+margin+1)))\n",
    "        if y_pred[i] == 1.0:\n",
    "            if 1.0 in window:\n",
    "                pos = np.where(window == 1.0)[0][0]\n",
    "                j = indices_window[pos]\n",
    "                y_true_cp[j] = 0.0\n",
    "                tp += 1\n",
    "            else:\n",
    "                fp += 1\n",
    "\n",
    "    for i in range(len(y_pred)):\n",
    "        if y_pred[i] == 0.0:\n",
    "            if  y_true_cp[i] == 1.0:\n",
    "                fn += 1\n",
    "            else:\n",
    "                tn += 1\n",
    "\n",
    "    return (tp, tn, fp, fn)\n",
    "\n",
    "def confusion_matrix_B(y_pred, y_true, t):\n",
    "    ts, tm, fs, fm = 0, 0, 0, 0\n",
    "    for (pred, true) in zip(y_pred, y_true):\n",
    "        pred = np.where(pred > t, 1, 0)\n",
    "        pred = median_seq(pred)\n",
    "        true_num = np.sum(true)\n",
    "        pred_num = np.sum(pred)\n",
    "        if int(true_num) == 0 and int(pred_num) == 0:\n",
    "            ts += 1\n",
    "        \n",
    "        if int(true_num) > 0 and int(pred_num) > 0:\n",
    "            tm += 1\n",
    "\n",
    "        if int(true_num) == 0 and int(pred_num) > 0:\n",
    "            fm += 1\n",
    "\n",
    "        if int(true_num) > 0 and int(pred_num) == 0:\n",
    "            fs += 1\n",
    "    return (ts, tm, fs, fm)\n"
   ]
  },
  {
   "cell_type": "code",
   "execution_count": 15,
   "metadata": {},
   "outputs": [],
   "source": [
    "y_pred = np.load('../data/cutoff_optimisation/all_y_pred.npy')\n",
    "y_true = np.load('../data/cutoff_optimisation/all_y_true.npy')"
   ]
  },
  {
   "cell_type": "code",
   "execution_count": 6,
   "metadata": {},
   "outputs": [],
   "source": [
    "# t = 0.5\n",
    "# # for i in range(num_iterations):\n",
    "\n",
    "# num_iterations = 2\n",
    "# best_t = None\n",
    "# best_score = 0\n",
    "\n",
    "# start, end = 0.2, 0.6\n",
    "# for i in range(num_iterations):\n",
    "# \tprint(\"start and finish:\", start, end)\n",
    "# \tfor t in np.linspace(start, end, 3):\n",
    "# \t\ttp, tn, fp, fn = confusion_matrix(y_pred, y_true, t, 20)\n",
    "# \t\tscore = mcc(tp, tn, fp, fn)\n",
    "# \t\tif score > best_score:\n",
    "# \t\t\tbest_t = t\n",
    "# \t\t\tbest_score = score\n",
    "# \tstart = best_t * 0.75\n",
    "# \tend = best_t * 1.25"
   ]
  },
  {
   "cell_type": "code",
   "execution_count": 9,
   "metadata": {},
   "outputs": [],
   "source": [
    "# print(\"best_t\", t)\n",
    "# print(\"best_score\", score)"
   ]
  },
  {
   "cell_type": "code",
   "execution_count": 8,
   "metadata": {},
   "outputs": [
    {
     "data": {
      "text/plain": [
       "0.3876531710085079"
      ]
     },
     "execution_count": 8,
     "metadata": {},
     "output_type": "execute_result"
    }
   ],
   "source": [
    "tp, tn, fp, fn = confusion_matrix_A(y_pred, y_true, 0.35, 20)\n",
    "score = mcc(tp, tn, fp, fn)\n",
    "score"
   ]
  },
  {
   "attachments": {},
   "cell_type": "markdown",
   "metadata": {},
   "source": [
    "# 2d"
   ]
  },
  {
   "cell_type": "code",
   "execution_count": 16,
   "metadata": {},
   "outputs": [],
   "source": [
    "y_pred_2d = np.load('../data/cutoff_optimisation/all_y_pred_2d.npy')\n",
    "y_true_2d = np.load('../data/cutoff_optimisation/all_y_true_2d.npy')"
   ]
  },
  {
   "cell_type": "code",
   "execution_count": 18,
   "metadata": {},
   "outputs": [],
   "source": [
    "y_pred = y_pred_2d[0]\n",
    "y_true = y_true_2d[0]"
   ]
  },
  {
   "cell_type": "code",
   "execution_count": 47,
   "metadata": {},
   "outputs": [
    {
     "name": "stdout",
     "output_type": "stream",
     "text": [
      "2 675 1 0\n",
      "0.8158924398306318\n",
      "2 1797 1 0\n",
      "0.8162694924569376\n",
      "When including padding there is a 0.04% increase in MCC\n"
     ]
    }
   ],
   "source": [
    "n = 678\n",
    "\n",
    "tp, tn, fp, fn = confusion_matrix_A(y_pred[:n], y_true[:n], 0.2)\n",
    "print(tp, tn, fp, fn)\n",
    "print(mcc(tp, tn, fp, fn))\n",
    "\n",
    "\n",
    "n = 1800\n",
    "tp, tn, fp, fn = confusion_matrix_A(y_pred[:n], y_true[:n], 0.2)\n",
    "print(tp, tn, fp, fn)\n",
    "print(mcc(tp, tn, fp, fn))\n",
    "\n",
    "d = ((-0.8158924398306318 + 0.8162045055898428) / (0.8158924398306318)) * 100\n",
    "print(f\"When including padding there is a {d:.2f}% increase in MCC\")"
   ]
  },
  {
   "cell_type": "code",
   "execution_count": 43,
   "metadata": {},
   "outputs": [],
   "source": [
    "def optimise_mcc(y_pred, y_true, margin=20, num_iterations=2, start=0.2, end=0.6):\n",
    "\tbest_score, score = 0, 0\n",
    "\tfor i in range(num_iterations):\n",
    "\t\tprint(\"start and finish:\", start, end)\n",
    "\t\tfor t in np.linspace(start, end, 3):\n",
    "\t\t\tfor (pred, true) in zip(y_pred, y_true):\n",
    "\t\t\t\ttp, tn, fp, fn = confusion_matrix_A(pred, true, t, margin)\n",
    "\t\t\t\tscore += mcc(tp, tn, fp, fn)\n",
    "\t\t\tscore = score / y_pred.shape[0]\n",
    "\t\t\tif score > best_score:\n",
    "\t\t\t\tbest_t = t\n",
    "\t\t\t\tbest_score = score\n",
    "\t\tstart = best_t * 0.75\n",
    "\t\tend = best_t * 1.25\n",
    "\tprint(\"Best Score:\", best_score)\n",
    "\tprint(\"Best t:\", best_t)\n",
    "\treturn best_score, best_t\n",
    "\n",
    "def optimise_single_multi_mcc(y_pred, true, num_iterations=2, linspace_size=3, start=0.2, end=0.6, ):\n",
    "\tbest_score = 0\n",
    "\tfor i in range(num_iterations):\n",
    "\t\tprint(\"start and finish:\", start, end)\n",
    "\t\tfor t in np.linspace(start, end, linspace_size):\n",
    "\t\t\tts, tm, fs, fm = confusion_matrix_B(y_pred, true, t)\n",
    "\t\t\tscore = mcc_single_multi(ts, tm, fs, fm)\n",
    "\t\t\tif score > best_score:\n",
    "\t\t\t\tbest_t = t\n",
    "\t\t\t\tbest_score = score\n",
    "\t\tstart = best_t * 0.75\n",
    "\t\tend = best_t * 1.25\n",
    "\tprint(\"Best Score:\", best_score)\n",
    "\tprint(\"Best t:\", best_t)\n",
    "\treturn best_score, best_t"
   ]
  },
  {
   "cell_type": "code",
   "execution_count": 44,
   "metadata": {},
   "outputs": [
    {
     "name": "stdout",
     "output_type": "stream",
     "text": [
      "start and finish: 0.2 0.6\n",
      "start and finish: 0.15000000000000002 0.25\n",
      "Best Score: 0.5632578567451626\n",
      "Best t: 0.2\n"
     ]
    },
    {
     "data": {
      "text/plain": [
       "(0.5632578567451626, 0.2)"
      ]
     },
     "execution_count": 44,
     "metadata": {},
     "output_type": "execute_result"
    }
   ],
   "source": [
    "optimise_single_multi_mcc(y_pred_2d, y_true_2d, 2, 3)"
   ]
  },
  {
   "cell_type": "code",
   "execution_count": 46,
   "metadata": {},
   "outputs": [
    {
     "name": "stdout",
     "output_type": "stream",
     "text": [
      "start and finish: 0.2 0.6\n",
      "start and finish: 0.15000000000000002 0.25\n",
      "Best Score: 0.5632578567451626\n",
      "Best t: 0.2\n"
     ]
    },
    {
     "data": {
      "text/plain": [
       "(0.5632578567451626, 0.2)"
      ]
     },
     "execution_count": 46,
     "metadata": {},
     "output_type": "execute_result"
    }
   ],
   "source": [
    "optimise_single_multi_mcc(y_pred_2d, y_true_2d, 2, 10)"
   ]
  },
  {
   "cell_type": "code",
   "execution_count": 30,
   "metadata": {},
   "outputs": [
    {
     "name": "stdout",
     "output_type": "stream",
     "text": [
      "start and finish: 0.2 0.6\n",
      "start and finish: 0.15000000000000002 0.25\n",
      "Best Score: 0.26047197450439896\n",
      "Best t: 0.15000000000000002\n"
     ]
    },
    {
     "data": {
      "text/plain": [
       "(0.26047197450439896, 0.15000000000000002)"
      ]
     },
     "execution_count": 30,
     "metadata": {},
     "output_type": "execute_result"
    }
   ],
   "source": [
    "optimise_mcc(y_pred_2d, y_true_2d)"
   ]
  },
  {
   "cell_type": "code",
   "execution_count": 31,
   "metadata": {},
   "outputs": [
    {
     "data": {
      "text/plain": [
       "0.15281694945520788"
      ]
     },
     "execution_count": 31,
     "metadata": {},
     "output_type": "execute_result"
    }
   ],
   "source": [
    "# reproduce mcc in colab\n",
    "\n",
    "score = 0 \n",
    "for (pred, true) in zip(y_pred_2d, y_true_2d):\n",
    "\ttp, tn, fp, fn = confusion_matrix_A(pred, true, 0.35, 20)\n",
    "\tscore += mcc(tp, tn, fp, fn)\n",
    "score = score / y_pred_2d.shape[0]\n",
    "score"
   ]
  }
 ],
 "metadata": {
  "kernelspec": {
   "display_name": "base",
   "language": "python",
   "name": "python3"
  },
  "language_info": {
   "codemirror_mode": {
    "name": "ipython",
    "version": 3
   },
   "file_extension": ".py",
   "mimetype": "text/x-python",
   "name": "python",
   "nbconvert_exporter": "python",
   "pygments_lexer": "ipython3",
   "version": "3.9.12"
  },
  "orig_nbformat": 4
 },
 "nbformat": 4,
 "nbformat_minor": 2
}
