{
 "cells": [
  {
   "cell_type": "code",
   "execution_count": 14,
   "metadata": {},
   "outputs": [],
   "source": [
    "from helpers.helper import get_cath\n",
    "from Bio import SeqIO"
   ]
  },
  {
   "cell_type": "code",
   "execution_count": 60,
   "metadata": {},
   "outputs": [
    {
     "name": "stdout",
     "output_type": "stream",
     "text": [
      "Failed to download https://files.rcsb.org/download/5exc.pdb.gz\n",
      "\n",
      "Failed to download https://files.rcsb.org/download/1bos.pdb.gz\n",
      "\n"
     ]
    }
   ],
   "source": [
    "with open('../data/pdb/bulk/balanced/log.txt') as f:\n",
    "    for line in f.readlines():\n",
    "        if \"Failed\" in line:\n",
    "            print(line)"
   ]
  },
  {
   "cell_type": "code",
   "execution_count": 56,
   "metadata": {},
   "outputs": [],
   "source": [
    "from os import listdir\n",
    "from os.path import isfile, join\n",
    "\n",
    "\n",
    "mypath = '../data/pdb/bulk/balanced/backup/data/'\n",
    "\n",
    "files = [f for f in listdir(mypath) if isfile(join(mypath, f))]\n",
    "codes = [x[:4] for x in files]"
   ]
  },
  {
   "cell_type": "code",
   "execution_count": 58,
   "metadata": {},
   "outputs": [
    {
     "name": "stdout",
     "output_type": "stream",
     "text": [
      "dict_keys(['4MV0:A', '4MV0:B'])\n",
      "dict_keys(['1PD1:A', '1PD1:B'])\n",
      "dict_keys(['3IS7:A', '3IS7:B', '3IS7:C', '3IS7:D', '3IS7:E', '3IS7:F', '3IS7:G', '3IS7:H', '3IS7:I', '3IS7:J', '3IS7:K', '3IS7:L', '3IS7:M', '3IS7:N', '3IS7:O', '3IS7:P', '3IS7:Q', '3IS7:R', '3IS7:S', '3IS7:T', '3IS7:U', '3IS7:V', '3IS7:W', '3IS7:X'])\n"
     ]
    }
   ],
   "source": [
    "chains_of_interest = []\n",
    "for file in files[:3]:\n",
    "    PDB_file_path = f'{mypath}{file}'\n",
    "    chains = {record.id: record.seq for record in SeqIO.parse(PDB_file_path, 'pdb-seqres')}\n",
    "    print(chains.keys())\n"
   ]
  },
  {
   "cell_type": "code",
   "execution_count": 13,
   "metadata": {},
   "outputs": [
    {
     "ename": "NameError",
     "evalue": "name 'pdb_file_path' is not defined",
     "output_type": "error",
     "traceback": [
      "\u001b[0;31m---------------------------------------------------------------------------\u001b[0m",
      "\u001b[0;31mNameError\u001b[0m                                 Traceback (most recent call last)",
      "\u001b[1;32m/home/alexandros/Desktop/l4-individual-project/notebooks/analyse_balanced.ipynb Cell 4\u001b[0m in \u001b[0;36m<cell line: 1>\u001b[0;34m()\u001b[0m\n\u001b[0;32m----> <a href='vscode-notebook-cell:/home/alexandros/Desktop/l4-individual-project/notebooks/analyse_balanced.ipynb#W3sZmlsZQ%3D%3D?line=0'>1</a>\u001b[0m chains \u001b[39m=\u001b[39m {record\u001b[39m.\u001b[39mid: record\u001b[39m.\u001b[39mseq \u001b[39mfor\u001b[39;00m record \u001b[39min\u001b[39;00m SeqIO\u001b[39m.\u001b[39mparse(pdb_file_path, \u001b[39m'\u001b[39m\u001b[39mpdb-seqres\u001b[39m\u001b[39m'\u001b[39m)}\n",
      "\u001b[0;31mNameError\u001b[0m: name 'pdb_file_path' is not defined"
     ]
    }
   ],
   "source": [
    "for i, f in enumerate(files):\n",
    "        pdb_code = f[:4]\n",
    "        \n",
    "        pdb_file_path = f'../data/pdb/bulk/1.5029/data/{f}' \n",
    "chains = {record.id: record.seq for record in SeqIO.parse(pdb_file_path, 'pdb-seqres')}"
   ]
  },
  {
   "cell_type": "code",
   "execution_count": null,
   "metadata": {},
   "outputs": [],
   "source": []
  },
  {
   "cell_type": "code",
   "execution_count": null,
   "metadata": {},
   "outputs": [],
   "source": []
  }
 ],
 "metadata": {
  "kernelspec": {
   "display_name": "base",
   "language": "python",
   "name": "python3"
  },
  "language_info": {
   "codemirror_mode": {
    "name": "ipython",
    "version": 3
   },
   "file_extension": ".py",
   "mimetype": "text/x-python",
   "name": "python",
   "nbconvert_exporter": "python",
   "pygments_lexer": "ipython3",
   "version": "3.9.12"
  },
  "orig_nbformat": 4,
  "vscode": {
   "interpreter": {
    "hash": "1b6993604730f8cf29f5900b73e8b88206f8a6983047fdc957f382b3e5d49baa"
   }
  }
 },
 "nbformat": 4,
 "nbformat_minor": 2
}
